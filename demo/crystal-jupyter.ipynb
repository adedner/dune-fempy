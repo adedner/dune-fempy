{
 "cells": [
  {
   "cell_type": "markdown",
   "metadata": {},
   "source": [
    "Crystal Demo\n",
    "------------\n",
    "\n",
    "This is a demo that demonstrates crystallisation on the surface of a liquid due to cooling. See\n",
    "http://www.ctcms.nist.gov/fipy/examples/phase/generated/examples.phase.anisotropy.html for more details."
   ]
  },
  {
   "cell_type": "code",
   "execution_count": null,
   "metadata": {
    "collapsed": true
   },
   "outputs": [],
   "source": [
    "from mpi4py import MPI"
   ]
  },
  {
   "cell_type": "markdown",
   "metadata": {},
   "source": [
    "We want to solve the following system of equations of variables $\\phi$ (phase field) and $\\Delta T$ (temperature field)\n",
    "\n",
    "\\begin{gather}\n",
    "\\tau \\frac{\\partial \\phi}{\\partial t} = \\nabla \\cdot D \\nabla \\phi + \\phi(1-\\phi)m(\\phi, \\Delta T), \\\\\n",
    "\\frac{\\partial \\Delta T}{\\partial t} = D_T \\nabla^2 \\Delta T + \\frac{\\partial \\phi}{\\partial t},\n",
    "\\end{gather}\n",
    "\n",
    "where m is given by\n",
    "\n",
    "\\begin{equation}\n",
    "m(\\phi, \\Delta T) = \\phi - \\frac{1}{2} - \\frac{\\kappa_1}{\\pi} \\arctan(\\kappa_2 \\Delta t),\n",
    "\\end{equation}\n",
    "\n",
    "D is given by\n",
    "\n",
    "\\begin{equation}\n",
    "D = \\alpha^2(1+c\\beta)\\left(\\begin{array}{cc}\n",
    "1 + c\\beta & -c \\frac{\\partial \\beta}{\\partial \\psi} \\\\\n",
    "c \\frac{\\partial \\beta}{\\partial \\psi} & 1+c\\beta\n",
    "\\end{array}\\right),\n",
    "\\end{equation}\n",
    "\n",
    "$\\beta = \\frac{1-\\Phi^2}{1+\\Phi^2}$, $\\Phi = \\tan \\left( \\frac{N}{2} \\psi \\right)$, $\\psi = \\theta + \\arctan \\left(\\frac{\\partial \\phi/ \\partial y}{\\partial \\phi / \\partial x} \\right)$ and $\\theta$, $N$ are constants. \n",
    "\n",
    "Let us first set up the parameters for the problem."
   ]
  },
  {
   "cell_type": "code",
   "execution_count": null,
   "metadata": {
    "collapsed": true
   },
   "outputs": [],
   "source": [
    "dimRange     = 2\n",
    "dimDomain    = 2\n",
    "maxLevel     = 10\n",
    "dt           = 5.e-4\n",
    "endTime      = 0.2\n",
    "saveinterval = 0.001\n",
    "order        = 1\n",
    "alpha        = 0.015\n",
    "tau          = 3.e-4\n",
    "kappa1       = 0.9\n",
    "kappa2       = 20.\n",
    "c            = 0.02\n",
    "N            = 6."
   ]
  },
  {
   "cell_type": "markdown",
   "metadata": {},
   "source": [
    "We define the initial data."
   ]
  },
  {
   "cell_type": "code",
   "execution_count": null,
   "metadata": {
    "collapsed": true
   },
   "outputs": [],
   "source": [
    "def initial(x):\n",
    "    r  = (x-[6,6]).two_norm\n",
    "    return [ 0 if r>0.3 else 1, -0.5 ]"
   ]
  },
  {
   "cell_type": "markdown",
   "metadata": {},
   "source": [
    "As we will be discretising in time, we define the implicit data $u = (\\phi_1, \\Delta T_1)$, explicit data $un = (\\phi_0, \\Delta T_0)$ and test function $v = (v_0, v_1)$."
   ]
  },
  {
   "cell_type": "code",
   "execution_count": null,
   "metadata": {
    "collapsed": false
   },
   "outputs": [],
   "source": [
    "from dune.ufl import Space\n",
    "from ufl import TestFunction, TrialFunction, Coefficient\n",
    "uflSpace = Space(dimDomain, dimRange)\n",
    "u = TrialFunction(uflSpace)\n",
    "v = TestFunction(uflSpace)\n",
    "un = Coefficient(uflSpace)"
   ]
  },
  {
   "cell_type": "markdown",
   "metadata": {},
   "source": [
    "For the numerical scheme, we discretise the time derivatives in the usual way, and we obtain the weak form by multiplying by a test function and integrating by parts. We also express the system using vectors.\n",
    "\n",
    "This gets us the following equation.\n",
    "\n",
    "\\begin{equation}\n",
    "\\int (un \\cdot v - \\phi_0 v_1) \\ dx = \\int \\left( \\alpha^2 \\frac{dt}{\\tau} D\\nabla \\phi \\cdot \\nabla v_0 + dt \\ D_T \\nabla \\Delta T \\cdot \\nabla v_1 + u \\cdot v - s \\cdot v \\right) \\ dx\n",
    "\\end{equation}\n",
    "\n",
    "where\n",
    "\n",
    "\\begin{equation}\n",
    "s = \\left( \\frac{dt}{\\tau}\\phi(1-\\phi)m(\\phi, \\Delta T), \\phi \\right)\n",
    "\\end{equation}\n",
    "\n",
    "First we put in the right hand side which only contains explicit data."
   ]
  },
  {
   "cell_type": "code",
   "execution_count": null,
   "metadata": {
    "collapsed": true
   },
   "outputs": [],
   "source": [
    "from ufl import inner, dx\n",
    "a_ex = (inner(un, v) - inner(un[0], v[1])) * dx"
   ]
  },
  {
   "cell_type": "markdown",
   "metadata": {},
   "source": [
    "For the left hand side we have the spatial derivatives and the implicit parts."
   ]
  },
  {
   "cell_type": "code",
   "execution_count": null,
   "metadata": {
    "collapsed": false
   },
   "outputs": [],
   "source": [
    "from ufl import pi, atan, atan_2, tan, grad, as_vector, inner, dot\n",
    "psi        = pi/8.0 + atan_2(grad(un[0])[1], (grad(un[0])[0]))\n",
    "Phi        = tan(N / 2.0 * psi)\n",
    "beta       = (1.0 - Phi*Phi) / (1.0 + Phi*Phi)\n",
    "dbeta_dPhi = -2.0 * N * Phi / (1.0 + Phi*Phi)\n",
    "fac        = 1.0 + c * beta\n",
    "diag       = fac * fac\n",
    "offdiag    = -fac * c * dbeta_dPhi\n",
    "d0         = as_vector([diag, offdiag])\n",
    "d1         = as_vector([-offdiag, diag])\n",
    "m          = u[0] - 0.5 - kappa1 / pi*atan(kappa2*u[1])\n",
    "s          = as_vector([dt / tau * u[0] * (1.0 - u[0]) * m, u[0]])\n",
    "a_im = (alpha*alpha*dt / tau * (inner(dot(d0, grad(u[0])), grad(v[0])[0]) + inner(dot(d1, grad(u[0])), grad(v[0])[1]))\n",
    "       + 2.25 * dt * inner(grad(u[1]), grad(v[1])) + inner(u,v) - inner(s,v)) * dx"
   ]
  },
  {
   "cell_type": "markdown",
   "metadata": {},
   "source": [
    "We set up the grid, the space, and we set the solution to the initial function."
   ]
  },
  {
   "cell_type": "code",
   "execution_count": null,
   "metadata": {
    "collapsed": false
   },
   "outputs": [],
   "source": [
    "import dune.common as common\n",
    "import dune.fem as fem\n",
    "import dune.create as create\n",
    "grid       = create.view(\"adaptive\", create.grid(\"ALUConform\", \"../data/crystal-2d.dgf\", dimgrid=dimDomain))\n",
    "spc        = create.space(\"Lagrange\", grid, dimrange=dimRange, order=order)\n",
    "initial_gf = create.function(\"global\", grid, \"initial\", order+1, initial)\n",
    "solution   = spc.interpolate(initial_gf, name=\"solution\")\n",
    "solution_n = spc.interpolate(initial_gf, name=\"solution_n\")"
   ]
  },
  {
   "cell_type": "markdown",
   "metadata": {},
   "source": [
    "We set up the model and the scheme."
   ]
  },
  {
   "cell_type": "code",
   "execution_count": null,
   "metadata": {
    "collapsed": false
   },
   "outputs": [],
   "source": [
    "model  = create.model(\"elliptic\", grid, a_im == a_ex, coefficients={un:solution_n} )\n",
    "scheme = create.scheme(\"h1\", solution, model, \"scheme\",\n",
    "        parameters={\n",
    "        \"fem.solver.newton.tolerance\": 1e-5,\n",
    "        \"fem.solver.newton.linabstol\": 1e-8,\n",
    "        \"fem.solver.newton.linreduction\": 1e-8,\n",
    "        \"fem.solver.newton.verbose\": 1,\n",
    "        \"fem.solver.newton.linear.verbose\": 1}\\\n",
    "        )"
   ]
  },
  {
   "cell_type": "markdown",
   "metadata": {},
   "source": [
    "We set up the adaptive method."
   ]
  },
  {
   "cell_type": "code",
   "execution_count": null,
   "metadata": {
    "collapsed": true
   },
   "outputs": [],
   "source": [
    "def mark(element):\n",
    "    marker = dune.common.Marker\n",
    "    solutionLocal = solution.localFunction(element)\n",
    "    grad = solutionLocal.jacobian(element.geometry.domain.center)\n",
    "    if grad[0].infinity_norm > 1.0:\n",
    "      return marker.refine if element.level < maxLevel else marker.keep\n",
    "    else:\n",
    "      return marker.coarsen"
   ]
  },
  {
   "cell_type": "markdown",
   "metadata": {},
   "source": [
    "We do the initial refinement of the grid."
   ]
  },
  {
   "cell_type": "code",
   "execution_count": null,
   "metadata": {
    "collapsed": true
   },
   "outputs": [],
   "source": [
    "hgrid = grid.hierarchicalGrid\n",
    "grid.globalRefine(2)\n",
    "for i in range(0,maxLevel):\n",
    "    hgrid.mark(mark)\n",
    "    hgrid.adapt([solution])\n",
    "    hgrid.loadBalance([solution])\n",
    "    solution.interpolate(initial_gf)"
   ]
  },
  {
   "cell_type": "markdown",
   "metadata": {},
   "source": [
    "We define a method for matplotlib output."
   ]
  },
  {
   "cell_type": "code",
   "execution_count": null,
   "metadata": {
    "collapsed": false
   },
   "outputs": [],
   "source": [
    "from numpy import amin, amax, linspace\n",
    "from matplotlib import pyplot\n",
    "def matplot(grid, solution):\n",
    "    triangulation = grid.triangulation()\n",
    "    data = solution.pointData()\n",
    "    levels = linspace(amin(data[:,0]), amax(data[:,0]), 256)\n",
    "    get_ipython().magic('matplotlib inline')\n",
    "    pyplot.gca().set_aspect('equal')\n",
    "    pyplot.triplot(triangulation, antialiased=True, linewidth=0.2, color='black')\n",
    "    pyplot.tricontourf(triangulation, data[:,0], cmap=pyplot.cm.rainbow, levels=levels)\n",
    "    pyplot.show()"
   ]
  },
  {
   "cell_type": "markdown",
   "metadata": {},
   "source": [
    "Finally we set up the time loop and solve the problem."
   ]
  },
  {
   "cell_type": "code",
   "execution_count": null,
   "metadata": {
    "collapsed": false
   },
   "outputs": [],
   "source": [
    "count    = 0\n",
    "t        = 0.0\n",
    "savestep = saveinterval\n",
    "from dune.fem.function import levelFunction, partitionFunction\n",
    "vtk = grid.writeVTK(\"crystal\", pointdata=[solution],\n",
    "        celldata=[levelFunction(grid), partitionFunction(grid)], number=count)\n",
    "\n",
    "while t < endTime:\n",
    "    solution_n.assign(solution)\n",
    "    scheme.solve(target=solution)\n",
    "    t += dt\n",
    "    print('count: ',count,\"t = \",t)\n",
    "    if t > savestep:\n",
    "        savestep += saveinterval\n",
    "        count += 1\n",
    "        vtk.write(\"crystal\", count)\n",
    "        matplot(grid, solution)\n",
    "    hgrid.mark(mark)\n",
    "    hgrid.adapt([solution])\n",
    "    hgrid.loadBalance([solution])"
   ]
  }
 ],
 "metadata": {
  "kernelspec": {
   "display_name": "Python 3",
   "language": "python",
   "name": "python3"
  },
  "language_info": {
   "codemirror_mode": {
    "name": "ipython",
    "version": 3
   },
   "file_extension": ".py",
   "mimetype": "text/x-python",
   "name": "python",
   "nbconvert_exporter": "python",
   "pygments_lexer": "ipython3",
   "version": "3.5.2"
  }
 },
 "nbformat": 4,
 "nbformat_minor": 0
}
