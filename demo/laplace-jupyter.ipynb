{
 "cells": [
  {
   "cell_type": "markdown",
   "metadata": {},
   "source": [
    "Laplace Demo\n",
    "------------\n",
    "\n",
    "This demo introduces basic usage of dune-fempy, using the poisson equation as an example. Namely,\n",
    "\n",
    "\\begin{gather}\n",
    "- \\Delta u + u = f \\quad \\text{in } \\Omega \\\\\n",
    "\\nabla u \\cdot \\textbf{n} = 0 \\quad \\text{on } \\Gamma\n",
    "\\end{gather}\n",
    "\n",
    "\n",
    "If you have compiled DUNE against MPI, we strongly advise you to first initialize MPI from Python.\n",
    "At least OpenMPI is known to fail, if initialized only in the dune-fempy library."
   ]
  },
  {
   "cell_type": "code",
   "execution_count": 1,
   "metadata": {
    "collapsed": false
   },
   "outputs": [
    {
     "name": "stderr",
     "output_type": "stream",
     "text": [
      "2016-10-13 18:07:04,763  INFO  MPI initialized successfully\n",
      "2016-10-13 18:07:04,825  INFO  Started building dune-py module\n",
      "2016-10-13 18:07:04,826  INFO  Using existing dune-py module in /home/martin/python/dune-debug/.cache/dune-py\n",
      "2016-10-13 18:07:06,333  INFO  Successfully built dune-py module\n"
     ]
    }
   ],
   "source": [
    "import dune.fem\n",
    "dune.fem.parameter.append(\"../data/parameter\")"
   ]
  },
  {
   "cell_type": "markdown",
   "metadata": {},
   "source": [
    "First, we create our computational grid. Our domain will be the unit square divided into 16x16 quadrilaterals. To actually create the grid, we choose an implementation of the DUNE grid interface: a 2-dimensional ALUGrid with simplices and conforming bisection refinement."
   ]
  },
  {
   "cell_type": "code",
   "execution_count": 2,
   "metadata": {
    "collapsed": false
   },
   "outputs": [
    {
     "name": "stderr",
     "output_type": "stream",
     "text": [
      "2016-10-13 18:07:06,383  INFO  Importing create registries from [ dune.alugrid dune.fem dune.grid dune.spgrid ]\n"
     ]
    }
   ],
   "source": [
    "import dune.create as create\n",
    "grid = create.grid(\"ALUConform\", dune.grid.cartesianDomain([0, 0], [1, 1], [8, 8]), dimgrid=2)"
   ]
  },
  {
   "cell_type": "markdown",
   "metadata": {},
   "source": [
    "We set up the base variables u, v and x in UFL."
   ]
  },
  {
   "cell_type": "code",
   "execution_count": 3,
   "metadata": {
    "collapsed": true
   },
   "outputs": [],
   "source": [
    "from dune.ufl import Space\n",
    "from ufl import TestFunction, TrialFunction, SpatialCoordinate\n",
    "uflSpace = Space((grid.dimGrid, grid.dimWorld), 1)\n",
    "u = TrialFunction(uflSpace)\n",
    "v = TestFunction(uflSpace)\n",
    "x = SpatialCoordinate(uflSpace.cell())"
   ]
  },
  {
   "cell_type": "markdown",
   "metadata": {},
   "source": [
    "Next we define the equation for the weak form, given by\n",
    "\n",
    "\\begin{equation}\n",
    "\\int_{\\Omega} uv + \\nabla u\\cdot\\nabla v \\ dx =  \\int_{\\Omega} f v \\ dx.\n",
    "\\end{equation}\n",
    "\n",
    "Here, we also take $f = \\cos(2\\pi x_0)\\cos(2\\pi x_1)$"
   ]
  },
  {
   "cell_type": "code",
   "execution_count": 4,
   "metadata": {
    "collapsed": false
   },
   "outputs": [
    {
     "data": {
      "text/markdown": [
       "\\begin{equation*}\\int_\\Omega\\varphi^{0}\\cdot\\varphi^{1} + \\nabla \\varphi^{0}\\cdot\\nabla \\varphi^{1}\\,dx=\\int_\\Omega\\varphi^{0}_{0}\\,\\cos\\left(6.283185307179586\\,x_{0}\\right)\\,\\cos\\left(6.283185307179586\\,x_{1}\\right)\\,dx\\end{equation*}"
      ],
      "text/plain": []
     },
     "execution_count": 4,
     "metadata": {},
     "output_type": "execute_result"
    }
   ],
   "source": [
    "from math import pi\n",
    "from ufl import cos, as_vector, dx, grad, inner\n",
    "f = cos(2*pi*x[0])*cos(2*pi*x[1])\n",
    "exact = as_vector( [cos(2.*pi*x[0])*cos(2.*pi*x[1])] )\n",
    "equation = (inner(grad(u), grad(v)) + inner(u,v)) * dx == f * v[0] * dx\n",
    "equation"
   ]
  },
  {
   "cell_type": "markdown",
   "metadata": {},
   "source": [
    "We create the space and the model."
   ]
  },
  {
   "cell_type": "code",
   "execution_count": 5,
   "metadata": {
    "collapsed": false
   },
   "outputs": [],
   "source": [
    "spc = create.space(\"Lagrange\", grid, dimrange=1, order=1)\n",
    "model = create.model(\"elliptic\", grid, equation, exact=exact, dirichlet={ 1:exact })"
   ]
  },
  {
   "cell_type": "markdown",
   "metadata": {},
   "source": [
    "We create the scheme and set parameters for the solver."
   ]
  },
  {
   "cell_type": "code",
   "execution_count": 6,
   "metadata": {
    "collapsed": false
   },
   "outputs": [],
   "source": [
    "scheme = create.scheme(\"h1\", spc, model, \"scheme\",\\\n",
    "       parameters=\\\n",
    "       {\"fem.solver.newton.linabstol\": 1e-10,\n",
    "        \"fem.solver.newton.linreduction\": 1e-10,\n",
    "        \"fem.solver.newton.verbose\": 0,\n",
    "        \"fem.solver.newton.linear.verbose\": 0},\\\n",
    "        storage=\"istl\")"
   ]
  },
  {
   "cell_type": "markdown",
   "metadata": {},
   "source": [
    "We create a grid function for our exact solution."
   ]
  },
  {
   "cell_type": "code",
   "execution_count": 7,
   "metadata": {
    "collapsed": false
   },
   "outputs": [
    {
     "name": "stderr",
     "output_type": "stream",
     "text": [
      "2016-10-13 18:07:07,861  INFO  Started compiling localFunction\n",
      "2016-10-13 18:07:21,495  INFO  Successfully compiled localFunction\n"
     ]
    }
   ],
   "source": [
    "exact_gf = create.function(\"ufl\", grid, \"exact\", 5, exact)"
   ]
  },
  {
   "cell_type": "markdown",
   "metadata": {},
   "source": [
    "We set up a function for plotting the data using matplotlib."
   ]
  },
  {
   "cell_type": "code",
   "execution_count": 8,
   "metadata": {
    "collapsed": true
   },
   "outputs": [],
   "source": [
    "def plot(grid, solution):\n",
    "    try:\n",
    "        from matplotlib import pyplot\n",
    "        from numpy import amin, amax, linspace\n",
    "\n",
    "        triangulation = grid.triangulation(4)\n",
    "        data = solution.pointData(4)\n",
    "\n",
    "        levels = linspace(amin(data[:,0]), amax(data[:,0]), 256)\n",
    "\n",
    "        pyplot.gca().set_aspect('equal')\n",
    "        pyplot.triplot(grid.triangulation(), antialiased=True, linewidth=0.2, color='black')\n",
    "        pyplot.tricontourf(triangulation, data[:,0], cmap=pyplot.cm.rainbow, levels=levels)\n",
    "        pyplot.show()\n",
    "    except ImportError:\n",
    "        pass"
   ]
  },
  {
   "cell_type": "markdown",
   "metadata": {},
   "source": [
    "Now we solve the system. We assign the solution to `uh`, and define a function to calculate the $L^2$ error, i.e. $|u_h - u|_{L^2}$. We output the data to a vtk file with name `laplace`, and plot it using `plot`. Finally we refine the grid twice and repeat the process. "
   ]
  },
  {
   "cell_type": "code",
   "execution_count": 9,
   "metadata": {
    "collapsed": false
   },
   "outputs": [
    {
     "name": "stdout",
     "output_type": "stream",
     "text": [
      "solve on level 0 number of dofs= 81\n",
      "size: 128 L2-error: 0.07892296565023203\n",
      "solve on level 1 number of dofs= 289\n",
      "size: 512 L2-error: 0.016940197023399852\n"
     ]
    }
   ],
   "source": [
    "from math import sqrt\n",
    "for i in range(2):\n",
    "    print(\"solve on level\", i, \"number of dofs=\", grid.size(2))\n",
    "    uh = scheme.solve()\n",
    "    def l2error(en,x):\n",
    "        val = uh.localFunction(en).evaluate(x) - exact_gf.localFunction(en).evaluate(x)\n",
    "        return [ val[0]*val[0] ];\n",
    "    l2error_gf = create.function(\"local\", grid, \"error\", 5, l2error)\n",
    "    error = sqrt(l2error_gf.integrate()[0])\n",
    "\n",
    "    print(\"size:\", grid.size(0), \"L2-error:\", error)\n",
    "    grid.writeVTK(\"laplace\", pointdata=[uh, l2error_gf])\n",
    "\n",
    "    plot(grid, uh)\n",
    "\n",
    "    grid.hierarchicalGrid.globalRefine(2)"
   ]
  },
  {
   "cell_type": "markdown",
   "metadata": {},
   "source": [
    "Congratulations! You have successfully solved and visualized your first PDE using dune-fempy."
   ]
  }
 ],
 "metadata": {
  "kernelspec": {
   "display_name": "Python 3",
   "language": "python",
   "name": "python3"
  },
  "language_info": {
   "codemirror_mode": {
    "name": "ipython",
    "version": 3
   },
   "file_extension": ".py",
   "mimetype": "text/x-python",
   "name": "python",
   "nbconvert_exporter": "python",
   "pygments_lexer": "ipython3",
   "version": "3.4.3"
  }
 },
 "nbformat": 4,
 "nbformat_minor": 0
}
