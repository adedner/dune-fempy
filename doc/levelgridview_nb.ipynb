{
 "cells": [
  {
   "cell_type": "code",
   "execution_count": 1,
   "metadata": {
    "collapsed": false
   },
   "outputs": [
    {
     "name": "stdout",
     "output_type": "stream",
     "text": [
      "level: 0 number of elements: 2\n",
      "level: 1 number of elements: 8\n",
      "level: 2 number of elements: 32\n",
      "level: 3 number of elements: 128\n",
      "level: 4 number of elements: 512\n"
     ]
    },
    {
     "name": "stdout",
     "output_type": "stream",
     "text": [
      "level: 0 number of elements: 2\n",
      "level: 1 number of elements: 4\n",
      "level: 2 number of elements: 8\n",
      "level: 3 number of elements: 16\n",
      "level: 4 number of elements: 32\n",
      "level: 5 number of elements: 64\n",
      "level: 6 number of elements: 128\n",
      "level: 7 number of elements: 256\n",
      "level: 8 number of elements: 512\n",
      "level: 9 number of elements: 1024\n"
     ]
    }
   ],
   "source": [
    "from dune.grid import cartesianDomain\n",
    "from dune.alugrid import aluConformGrid, aluSimplexGrid\n",
    "domain = cartesianDomain([0,0],[1,1],[1,1])\n",
    "\n",
    "# first construct a grid using quartering as refinement strategy\n",
    "aluView = aluSimplexGrid(domain)\n",
    "hGrid = aluView.hierarchicalGrid\n",
    "hGrid.globalRefine(5)\n",
    "for level in range(hGrid.maxLevel):\n",
    "    print(\"level:\",level, \"number of elements:\",hGrid.levelView(level).size(0))\n",
    "\n",
    "# now construct a grid using bisection as refinement strategy\n",
    "aluView = aluConformGrid(domain)\n",
    "hGrid = aluView.hierarchicalGrid\n",
    "hGrid.globalRefine(10)\n",
    "for level in range(hGrid.maxLevel):\n",
    "    print(\"level:\",level, \"number of elements:\",hGrid.levelView(level).size(0))"
   ]
  }
 ],
 "metadata": {
  "language_info": {
   "codemirror_mode": {
    "name": "ipython",
    "version": 3
   },
   "file_extension": ".py",
   "mimetype": "text/x-python",
   "name": "python",
   "nbconvert_exporter": "python",
   "pygments_lexer": "ipython3",
   "version": "3.7.5"
  }
 },
 "nbformat": 4,
 "nbformat_minor": 2
}
