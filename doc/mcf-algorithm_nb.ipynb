{
 "cells": [
  {
   "cell_type": "markdown",
   "metadata": {},
   "source": [
    "# Mean Curvature Flow (revisited)\n",
    "\n",
    "[As discussed before](mcf_nb.ipynb)\n",
    "we can simulate the shrinking of a sphere under mean curvature flow\n",
    "using a finite element approach based on\n",
    "the following time discrete approximation:\n",
    "\\begin{align}\n",
    "\\int_{\\Gamma^n} \\big( U^{n+1} - {\\rm id}\\big) \\cdot \\varphi +\n",
    "\\tau \\int_{\\Gamma^n} \\big(\n",
    "\\theta\\nabla_{\\Gamma^n} U^{n+1} + (1-\\theta) I \\big)\n",
    "\\colon\\nabla_{\\Gamma^n}\\varphi\n",
    "=0~.\n",
    "\\end{align}\n",
    "Here $U^n$ parametrizes $\\Gamma(t^{n+1})$ over\n",
    "$\\Gamma^n:=\\Gamma(t^{n})$,\n",
    "$I$ is the identity matrix, $\\tau$ is the time step and\n",
    "$\\theta\\in[0,1]$ is a discretization parameter.\n",
    "\n",
    "If the initial surface $\\Gamma^0$ is a sphere of radius $R_0$,\n",
    "the surface remains sphere and we have an exact formula for the evolution\n",
    "of the radius of the surface\n",
    "\n",
    "$$R(t) = \\sqrt{R_0^2 - 4t}.$$\n",
    "\n",
    "To compare the accuracy of the surface approximation we compute an\n",
    "average radius of the discrete surface in each time step $t^n$ using\n",
    "\n",
    "$$R_h^n = \\frac{ \\int_{\\Gamma^n} |x| }{ |\\Gamma^n| }.$$\n",
    "\n",
    "Computing $R_h^n$ requires a grid traversal and a number of calls to\n",
    "interface methods on each element. Doing this on the Python side has a\n",
    "potential performance impact which we investigate here by comparing a\n",
    "pure python implementation with a hybrid approach where computing $R_h^n$\n",
    "is implemented in C++ using the `dune.generator.algorithm` functionality."
   ]
  },
  {
   "cell_type": "code",
   "execution_count": 1,
   "metadata": {
    "collapsed": false
   },
   "outputs": [],
   "source": [
    "import math, time, io\n",
    "import pickle\n",
    "import numpy as np\n",
    "\n",
    "from ufl import *\n",
    "import dune.ufl\n",
    "from dune.generator import algorithm\n",
    "import dune.geometry as geometry\n",
    "import dune.fem as fem\n",
    "from mcf_cmp_plot import plot\n",
    "\n",
    "# polynomial order of surface approximation\n",
    "order = 2\n",
    "\n",
    "# initial radius\n",
    "R0 = 2.\n",
    "\n",
    "# end time\n",
    "endTime = 0.1"
   ]
  },
  {
   "cell_type": "markdown",
   "metadata": {},
   "source": [
    "Main function for calculating the mean curvature flow of a given surface.\n",
    "If first argument is `True` the radius of the computed surface is\n",
    "computed using an algorithm implemented in C++ otherwise the computation\n",
    "is done in Python."
   ]
  },
  {
   "cell_type": "code",
   "execution_count": 2,
   "metadata": {
    "collapsed": false
   },
   "outputs": [],
   "source": [
    "def calcRadius(surface):\n",
    "    R,vol = 0, 0\n",
    "    for e in surface.elements:\n",
    "        rule = geometry.quadratureRule(e.type, 4)\n",
    "        for p in rule:\n",
    "            geo = e.geometry\n",
    "            weight = geo.volume * p.weight\n",
    "            R   += geo.toGlobal(p.position).two_norm * weight\n",
    "            vol += weight\n",
    "    return R/vol\n",
    "\n",
    "code = \"\"\"\n",
    "#include <dune/geometry/quadraturerules.hh>\n",
    "template< class Surface >\n",
    "double calcRadius( const Surface &surface ) {\n",
    "  double R = 0, vol = 0.;\n",
    "  for( const auto &entity : elements( surface ) ) {\n",
    "    const auto& rule = Dune::QuadratureRules<double, 2>::rule(entity.type(), 4);\n",
    "    for ( const auto &p : rule ) {\n",
    "      const auto geo = entity.geometry();\n",
    "      const double weight = geo.volume() * p.weight();\n",
    "      R   += geo.global(p.position()).two_norm() * weight;\n",
    "      vol += weight;\n",
    "    }\n",
    "  }\n",
    "  return R/vol;\n",
    "}\n",
    "\"\"\"\n",
    "switchCalcRadius = lambda use_cpp,surface: \\\n",
    "             algorithm.load('calcRadius', io.StringIO(code), surface) \\\n",
    "             if use_cpp else calcRadius"
   ]
  },
  {
   "cell_type": "markdown",
   "metadata": {},
   "source": [
    "Timings for a number of different grid refinements is dumped to disk"
   ]
  },
  {
   "cell_type": "code",
   "execution_count": 3,
   "metadata": {
    "collapsed": false
   },
   "outputs": [],
   "source": [
    "from dune.fem.view import geometryGridView as geoGridView\n",
    "from dune.fem.space import lagrange as solutionSpace\n",
    "from dune.fem.scheme import galerkin as solutionScheme\n",
    "def calculate(use_cpp, gridView):\n",
    "    # space on Gamma_0 to describe position of Gamma(t)\n",
    "    space = solutionSpace(gridView, dimRange=gridView.dimWorld, order=order)\n",
    "    u = TrialFunction(space)\n",
    "    v = TestFunction(space)\n",
    "    x = SpatialCoordinate(space.cell())\n",
    "    positions = space.interpolate(x, name=\"position\")\n",
    "\n",
    "    # space for discrete solution on Gamma(t)\n",
    "    surface = geoGridView(positions)\n",
    "    space = solutionSpace(surface, dimRange=surface.dimWorld, order=order)\n",
    "    solution  = space.interpolate(x, name=\"solution\")\n",
    "\n",
    "    # set up model using theta scheme\n",
    "    theta = 0.5   # Crank-Nicholson\n",
    "\n",
    "    I = Identity(3)\n",
    "    dt = dune.ufl.Constant(0,\"dt\")\n",
    "\n",
    "    a = (inner(u - x, v) + dt * inner(theta*grad(u)\n",
    "        + (1 - theta)*I, grad(v))) * dx\n",
    "\n",
    "    scheme = solutionScheme(a == 0, space, solver=\"cg\")\n",
    "\n",
    "    Rexact = lambda t: math.sqrt(R0*R0 - 4.*t)\n",
    "    radius = switchCalcRadius(use_cpp,surface)\n",
    "\n",
    "    scheme.model.dt = 0.02\n",
    "\n",
    "    numberOfLoops = 3\n",
    "    times = np.zeros(numberOfLoops)\n",
    "    errors = np.zeros(numberOfLoops)\n",
    "    totalIterations = np.zeros(numberOfLoops, np.dtype(np.uint32))\n",
    "    gridSizes = np.zeros(numberOfLoops, np.dtype(np.uint32))\n",
    "    for i in range(numberOfLoops):\n",
    "        positions.interpolate(x * (R0/sqrt(dot(x,x))))\n",
    "        solution.interpolate(x)\n",
    "        t = 0.\n",
    "        error = abs(radius(surface)-Rexact(t))\n",
    "        iterations = 0\n",
    "        start = time.time()\n",
    "        while t < endTime:\n",
    "            info = scheme.solve(target=solution)\n",
    "            # move the surface\n",
    "            positions.dofVector.assign(solution.dofVector)\n",
    "            # store some information about the solution process\n",
    "            iterations += int( info[\"linear_iterations\"] )\n",
    "            t          += scheme.model.dt\n",
    "            error       = max(error, abs(radius(surface)-Rexact(t)))\n",
    "        print(\"time used:\", time.time() - start)\n",
    "        times[i] = time.time() - start\n",
    "        errors[i] = error\n",
    "        totalIterations[i] = iterations\n",
    "        gridSizes[i] = gridView.size(2)\n",
    "        if i < numberOfLoops - 1:\n",
    "            gridView.hierarchicalGrid.globalRefine(1)\n",
    "            scheme.model.dt /= 2\n",
    "    eocs = np.log(errors[0:][:numberOfLoops-1] / errors[1:]) / math.log(math.sqrt(2))\n",
    "    try:\n",
    "        import pandas as pd\n",
    "        keys = {'size': gridSizes, 'error': errors, \"eoc\": np.insert(eocs, 0, None), 'iterations': totalIterations}\n",
    "        table = pd.DataFrame(keys, index=range(numberOfLoops),columns=['size', 'error', 'eoc', 'iterations'])\n",
    "        print(table)\n",
    "    except ImportError:\n",
    "        print(\"pandas could not be used to show table with results\")\n",
    "        pass\n",
    "    return gridSizes, times"
   ]
  },
  {
   "cell_type": "markdown",
   "metadata": {},
   "source": [
    "Compute the mean curvature flow evolution of a spherical surface. Compare\n",
    "computational time of a pure Python implementation and using a C++\n",
    "algorithm to compute the radius of the surface for verifying the\n",
    "algorithm."
   ]
  },
  {
   "cell_type": "code",
   "execution_count": 4,
   "metadata": {
    "collapsed": false
   },
   "outputs": [
    {
     "name": "stdout",
     "output_type": "stream",
     "text": [
      "time used: 0.622814416885376\n"
     ]
    },
    {
     "name": "stdout",
     "output_type": "stream",
     "text": [
      "time used: 3.51676607131958\n"
     ]
    },
    {
     "name": "stdout",
     "output_type": "stream",
     "text": [
      "time used: 15.005978345870972\n"
     ]
    },
    {
     "name": "stdout",
     "output_type": "stream",
     "text": [
      "   size     error       eoc  iterations\n",
      "0   318  0.001060       NaN          94\n",
      "1   766  0.000605  1.619154         271\n",
      "2  1745  0.000275  2.275142         594\n"
     ]
    },
    {
     "name": "stdout",
     "output_type": "stream",
     "text": [
      "time used: 0.7927944660186768\n"
     ]
    },
    {
     "name": "stdout",
     "output_type": "stream",
     "text": [
      "time used: 4.262873649597168\n"
     ]
    },
    {
     "name": "stdout",
     "output_type": "stream",
     "text": [
      "time used: 18.78528118133545\n",
      "   size     error       eoc  iterations\n",
      "0   318  0.001060       NaN          94\n",
      "1   766  0.000605  1.619154         271\n",
      "2  1745  0.000275  2.275142         594\n"
     ]
    }
   ],
   "source": [
    "# set up reference domain Gamma_0\n",
    "results = []\n",
    "from dune.alugrid import aluConformGrid as leafGridView\n",
    "gridView = leafGridView(\"sphere.dgf\", dimgrid=2, dimworld=3)\n",
    "results += [calculate(True, gridView)]\n",
    "\n",
    "gridView = leafGridView(\"sphere.dgf\", dimgrid=2, dimworld=3)\n",
    "results += [calculate(False, gridView)]"
   ]
  },
  {
   "cell_type": "markdown",
   "metadata": {},
   "source": [
    "Compare the hybrid and pure Python versions"
   ]
  },
  {
   "cell_type": "code",
   "execution_count": 5,
   "metadata": {
    "collapsed": false
   },
   "outputs": [
    {
     "data": {
      "image/png": "[encoded data removed]",
      "text/plain": [
       "<Figure size 432x288 with 1 Axes>"
      ]
     },
     "metadata": {
      "needs_background": "light"
     },
     "output_type": "display_data"
    }
   ],
   "source": [
    "plot(results[0],results[1])"
   ]
  }
 ],
 "metadata": {
  "language_info": {
   "codemirror_mode": {
    "name": "ipython",
    "version": 3
   },
   "file_extension": ".py",
   "mimetype": "text/x-python",
   "name": "python",
   "nbconvert_exporter": "python",
   "pygments_lexer": "ipython3",
   "version": "3.7.3"
  }
 },
 "nbformat": 4,
 "nbformat_minor": 2
}
