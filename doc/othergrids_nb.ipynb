{
 "cells": [
  {
   "cell_type": "markdown",
   "metadata": {},
   "source": [
    "# A 3D Example Using a GMesh File\n",
    "In this example we use pygmsh to construct a tetrahedral mesh and olve a\n",
    "simple laplace problem"
   ]
  },
  {
   "cell_type": "code",
   "execution_count": 1,
   "metadata": {
    "collapsed": false
   },
   "outputs": [],
   "source": [
    "import numpy, math\n",
    "import matplotlib\n",
    "matplotlib.rc( 'image', cmap='jet' )\n",
    "from matplotlib import pyplot\n",
    "from dune.alugrid import aluSimplexGrid as leafGridView3d\n",
    "from dune.fem.space import lagrange as solutionSpace\n",
    "from dune.fem.scheme import galerkin as solutionScheme\n",
    "from ufl import TestFunction, TrialFunction, SpatialCoordinate\n",
    "from ufl import dx, grad, grad, dot, inner, conditional, sin\n",
    "\n",
    "# The following code is taken from the `pygmsh` homepage\n",
    "try:\n",
    "    import pygmsh\n",
    "    geom = pygmsh.built_in.Geometry()\n",
    "    poly = geom.add_polygon([\n",
    "          [ 0.0,  0.5, 0.0], [-0.1,  0.1, 0.0], [-0.5,  0.0, 0.0],\n",
    "          [-0.1, -0.1, 0.0], [ 0.0, -0.5, 0.0], [ 0.1, -0.1, 0.0],\n",
    "          [ 0.5,  0.0, 0.0], [ 0.1,  0.1, 0.0] ], lcar=0.05)\n",
    "    axis = [0, 0, 1]\n",
    "    geom.extrude( poly, translation_axis=axis, rotation_axis=axis,\n",
    "          point_on_axis=[0, 0, 0], angle=2.0 / 6.0 * numpy.pi)\n",
    "    mesh = pygmsh.generate_mesh(geom, verbose=False)\n",
    "    points, cells = mesh.points, mesh.cells\n",
    "    domain3d = {\"vertices\":points, \"simplices\":cells[\"tetra\"]}\n",
    "except ImportError: # pygmsh not installed - use a simple cartesian domain\n",
    "    from dune.grid import cartesianDomain\n",
    "    domain3d = cartesianDomain([-0.25,-0.25,0],[0.25,0.25,1],[30,30,60])\n",
    "\n",
    "gridView3d  = leafGridView3d(domain3d)\n",
    "space3d = solutionSpace(gridView3d, order=1)\n",
    "\n",
    "u = TrialFunction(space3d)\n",
    "v = TestFunction(space3d)\n",
    "x = SpatialCoordinate(space3d)\n",
    "scheme3d = solutionScheme((inner(grad(u),grad(v))+inner(u,v))*dx ==\n",
    "                        conditional(dot(x,x)<.01,100,0)*v*dx,\n",
    "                        solver='cg')\n",
    "\n",
    "uh3d = space3d.interpolate([0],name=\"solution\")\n",
    "scheme3d.solve(target=uh3d)\n",
    "# note: plotting with matplotlib not yet available for 3d grids\n",
    "gridView3d.writeVTK('3dexample', pointdata=[uh3d])"
   ]
  },
  {
   "cell_type": "markdown",
   "metadata": {},
   "source": [
    "![3d laplace problem](figures/3dexample.png)"
   ]
  },
  {
   "cell_type": "markdown",
   "metadata": {},
   "source": [
    "# We Can Also Do 1D"
   ]
  },
  {
   "cell_type": "code",
   "execution_count": 2,
   "metadata": {
    "collapsed": false
   },
   "outputs": [
    {
     "data": {
      "image/png": "[encoded data removed]",
      "text/plain": [
       "<Figure size 432x288 with 1 Axes>"
      ]
     },
     "metadata": {
      "needs_background": "light"
     },
     "output_type": "display_data"
    }
   ],
   "source": [
    "from dune.grid import onedGrid\n",
    "v = [math.log(i) for i in range(1,100)]\n",
    "e = [(i,i+1) for i in range(1,len(v))]\n",
    "g = onedGrid(constructor={\"vertices\":v, \"simplices\":e})\n",
    "s = solutionSpace(g)\n",
    "x = SpatialCoordinate(s)\n",
    "u = s.interpolate(sin(x[0]), name=\"u\")\n",
    "pyplot.plot(g.tesselate()[0], u.pointData(), '-p')\n",
    "pyplot.show()"
   ]
  }
 ],
 "metadata": {
  "language_info": {
   "codemirror_mode": {
    "name": "ipython",
    "version": 3
   },
   "file_extension": ".py",
   "mimetype": "text/x-python",
   "name": "python",
   "nbconvert_exporter": "python",
   "pygments_lexer": "ipython3",
   "version": "3.7.5"
  }
 },
 "nbformat": 4,
 "nbformat_minor": 2
}
