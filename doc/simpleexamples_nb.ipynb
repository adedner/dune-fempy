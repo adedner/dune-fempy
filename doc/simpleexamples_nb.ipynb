{
 "cells": [
  {
   "cell_type": "markdown",
   "metadata": {},
   "source": [
    "# Discontinuous Galerkin Methods\n",
    "So far we have been using Lagrange spaces of different order to solve our\n",
    "PDE. In the following we show how to use Discontinuous Galerkin method to\n",
    "solve an advection dominated advection-diffusion probllem:\n",
    "\\begin{align*}\n",
    "-\\varepsilon\\triangle u + b\\cdot\\nabla u &= f\n",
    "\\end{align*}\n",
    "with Dirichlet boundary conditions. Here $\\varepsilon$ is a small\n",
    "constant and $b$ a given vector."
   ]
  },
  {
   "cell_type": "code",
   "execution_count": 1,
   "metadata": {
    "collapsed": false
   },
   "outputs": [
    {
     "data": {
      "text/plain": [
       "<Figure size 640x480 with 2 Axes>"
      ]
     },
     "metadata": {},
     "output_type": "display_data"
    }
   ],
   "source": [
    "import numpy, math\n",
    "import dune.plotting\n",
    "dune.plotting.block = True\n",
    "import matplotlib\n",
    "matplotlib.rc( 'image', cmap='jet' )\n",
    "from matplotlib import pyplot\n",
    "from dune.grid import structuredGrid as leafGridView\n",
    "from dune.fem.space import dglegendre as dgSpace\n",
    "from dune.fem.scheme import galerkin as solutionScheme\n",
    "from dune.ufl import Constant\n",
    "from ufl import TestFunction, TrialFunction, SpatialCoordinate, triangle, FacetNormal\n",
    "from ufl import dx, ds, grad, div, grad, dot, inner, sqrt, exp, conditional\n",
    "from ufl import as_vector, avg, jump, dS, CellVolume, FacetArea, atan\n",
    "\n",
    "gridView      = leafGridView([-1, -1], [1, 1], [20, 20])\n",
    "order = 2\n",
    "space = dgSpace(gridView, order=order)\n",
    "\n",
    "u    = TrialFunction(space)\n",
    "v    = TestFunction(space)\n",
    "n    = FacetNormal(space)\n",
    "he   = avg( CellVolume(space) ) / FacetArea(space)\n",
    "hbnd = CellVolume(space) / FacetArea(space)\n",
    "x    = SpatialCoordinate(space)\n",
    "\n",
    "# diffusion factor\n",
    "eps = Constant(0.1,\"eps\")\n",
    "# transport direction and upwind flux\n",
    "b    = as_vector([1,0])\n",
    "hatb = (dot(b, n) + abs(dot(b, n)))/2.0\n",
    "# boundary values (for left/right boundary)\n",
    "dD   = conditional((1+x[0])*(1-x[0])<1e-10,1,0)\n",
    "g    = conditional(x[0]<0,atan(10*x[1]),0)\n",
    "# penalty parameter\n",
    "beta = 10*order*order\n",
    "\n",
    "aInternal     = dot(eps*grad(u) - b*u, grad(v)) * dx\n",
    "diffSkeleton  = eps*beta/he*jump(u)*jump(v)*dS -\\\n",
    "                eps*dot(avg(grad(u)),n('+'))*jump(v)*dS -\\\n",
    "                eps*jump(u)*dot(avg(grad(v)),n('+'))*dS\n",
    "diffSkeleton += eps*beta/hbnd*(u-g)*v*dD*ds -\\\n",
    "                eps*dot(grad(u),n)*v*dD*ds\n",
    "advSkeleton   = jump(hatb*u)*jump(v)*dS\n",
    "advSkeleton  += ( hatb*u + (dot(b,n)-hatb)*g )*v*dD*ds\n",
    "form          = aInternal + diffSkeleton + advSkeleton\n",
    "\n",
    "scheme = solutionScheme(form==0, solver=\"gmres\",\n",
    "            parameters={\"newton.linear.preconditioning.method\":\"jacobi\"})\n",
    "uh = space.interpolate(0, name=\"solution\")\n",
    "scheme.solve(target=uh)\n",
    "uh.plot()"
   ]
  },
  {
   "cell_type": "markdown",
   "metadata": {},
   "source": [
    "So far the example was not really advection dominated so we now\n",
    "repeat the experiment but set $\\varepsilon=1e-5$"
   ]
  },
  {
   "cell_type": "code",
   "execution_count": 2,
   "metadata": {
    "collapsed": false
   },
   "outputs": [
    {
     "data": {
      "image/png": "[encoded data removed]",
      "text/plain": [
       "<Figure size 432x288 with 2 Axes>"
      ]
     },
     "metadata": {
      "needs_background": "light"
     },
     "output_type": "display_data"
    }
   ],
   "source": [
    "eps.value = 1e-5 # could also use scheme.model.eps = 1e-5\n",
    "scheme.solve(target=uh)\n",
    "uh.plot()"
   ]
  },
  {
   "cell_type": "markdown",
   "metadata": {},
   "source": [
    "# A 3D Example Using a GMesh File\n",
    "In this example we use pygmsh to construct a tetrahedral mesh and olve a\n",
    "simple laplace problem"
   ]
  },
  {
   "cell_type": "code",
   "execution_count": 3,
   "metadata": {
    "collapsed": false
   },
   "outputs": [],
   "source": [
    "# The following code is taken from the `pygmsh` homepage\n",
    "from dune.fem.space import lagrange as solutionSpace\n",
    "try:\n",
    "    import pygmsh\n",
    "    geom = pygmsh.built_in.Geometry()\n",
    "    poly = geom.add_polygon([\n",
    "          [ 0.0,  0.5, 0.0], [-0.1,  0.1, 0.0], [-0.5,  0.0, 0.0],\n",
    "          [-0.1, -0.1, 0.0], [ 0.0, -0.5, 0.0], [ 0.1, -0.1, 0.0],\n",
    "          [ 0.5,  0.0, 0.0], [ 0.1,  0.1, 0.0] ], lcar=0.05)\n",
    "    axis = [0, 0, 1]\n",
    "    geom.extrude( poly, translation_axis=axis, rotation_axis=axis,\n",
    "          point_on_axis=[0, 0, 0], angle=2.0 / 6.0 * numpy.pi)\n",
    "    mesh = pygmsh.generate_mesh(geom, verbose=False)\n",
    "    points, cells = mesh.points, mesh.cells\n",
    "    domain3d = {\"vertices\":points, \"simplices\":cells[\"tetra\"]}\n",
    "except ImportError: # pygmsh not installed - use a simple cartesian domain\n",
    "    from dune.grid import cartesianDomain\n",
    "    domain3d = cartesianDomain([-0.25,-0.25,0],[0.25,0.25,1],[30,30,60])\n",
    "\n",
    "from dune.alugrid import aluSimplexGrid as leafGridView3d\n",
    "gridView3d  = leafGridView3d(domain3d)\n",
    "space3d = solutionSpace(gridView3d, order=1)\n",
    "\n",
    "from ufl import conditional\n",
    "u = TrialFunction(space3d)\n",
    "v = TestFunction(space3d)\n",
    "x = SpatialCoordinate(space3d)\n",
    "scheme3d = solutionScheme((inner(grad(u),grad(v))+inner(u,v))*dx ==\n",
    "                        conditional(dot(x,x)<.01,100,0)*v*dx,\n",
    "                        solver='cg')\n",
    "\n",
    "uh3d = space3d.interpolate([0],name=\"solution\")\n",
    "scheme3d.solve(target=uh3d)\n",
    "# note: plotting with matplotlib not yet available for 3d grids\n",
    "gridView3d.writeVTK('3dexample', pointdata=[uh3d])"
   ]
  },
  {
   "cell_type": "markdown",
   "metadata": {},
   "source": [
    "![3d laplace problem](figures/3dexample.png)"
   ]
  },
  {
   "cell_type": "markdown",
   "metadata": {},
   "source": [
    "# We Can Also Do 1D"
   ]
  },
  {
   "cell_type": "code",
   "execution_count": 4,
   "metadata": {
    "collapsed": false
   },
   "outputs": [
    {
     "data": {
      "image/png": "[encoded data removed]",
      "text/plain": [
       "<Figure size 432x288 with 1 Axes>"
      ]
     },
     "metadata": {
      "needs_background": "light"
     },
     "output_type": "display_data"
    }
   ],
   "source": [
    "from dune.grid import onedGrid\n",
    "from ufl import sin\n",
    "v = [math.log(i) for i in range(1,100)]\n",
    "e = [(i,i+1) for i in range(1,len(v))]\n",
    "g = onedGrid(constructor={\"vertices\":v, \"simplices\":e})\n",
    "s = solutionSpace(g)\n",
    "x = SpatialCoordinate(s)\n",
    "u = s.interpolate(sin(x[0]), name=\"u\")\n",
    "pyplot.plot(g.tesselate()[0], u.pointData(), '-p')\n",
    "pyplot.show()"
   ]
  }
 ],
 "metadata": {
  "language_info": {
   "codemirror_mode": {
    "name": "ipython",
    "version": 3
   },
   "file_extension": ".py",
   "mimetype": "text/x-python",
   "name": "python",
   "nbconvert_exporter": "python",
   "pygments_lexer": "ipython3",
   "version": "3.7.3"
  }
 },
 "nbformat": 4,
 "nbformat_minor": 2
}
