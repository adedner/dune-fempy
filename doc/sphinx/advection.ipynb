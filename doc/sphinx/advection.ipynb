{
 "cells": [
  {
   "cell_type": "code",
   "execution_count": null,
   "metadata": {
    "collapsed": false
   },
   "outputs": [],
   "source": [
    "from __future__ import print_function\n",
    "import dune.create as create\n",
    "from dune.fem.view import adaptiveLeafGridView\n",
    "from dune.fem.plotting import plotPointData as plot\n",
    "import dune.grid as grid\n",
    "import dune.fem as fem\n",
    "\n",
    "grid = create.view(\"adaptive\", \"ALUConform\", grid.cartesianDomain( (0,0), (1,1), (16,16) ), dimgrid=2 )\n",
    "grid.hierarchicalGrid.globalRefine(0)\n",
    "spc  = create.space( \"FiniteVolume\", grid, dimrange=1 )"
   ]
  },
  {
   "cell_type": "code",
   "execution_count": null,
   "metadata": {
    "collapsed": false
   },
   "outputs": [],
   "source": [
    "from ufl import *\n",
    "from dune.ufl import Space\n",
    "\n",
    "uflSpace = Space((grid.dimGrid, grid.dimWorld), 1)\n",
    "uflSpace = Space((grid.dimGrid, grid.dimWorld), 1)\n",
    "v = TrialFunction(uflSpace)\n",
    "phi = TestFunction(uflSpace)\n",
    "x = SpatialCoordinate(uflSpace.cell())\n",
    "velo = VectorConstant(uflSpace.cell(),dim=grid.dimWorld)\n",
    "n = FacetNormal(uflSpace.cell())\n",
    "h = CellVolume(uflSpace.cell())\n",
    "\n",
    "h_avg = (h('+') + h('-'))/2\n",
    "un = (dot(velo, n) + abs(dot(velo, n)))/2.0\n",
    "\n",
    "a_int = -dot(grad(v[0]), velo*phi[0]) * dx\n",
    "a_vel = dot(jump(v), un('+') * phi('+') - un('-') * phi('-') ) * dS  + dot(v, un * phi) * ds\n",
    "equation = a_int + a_vel == 0"
   ]
  },
  {
   "cell_type": "code",
   "execution_count": null,
   "metadata": {
    "collapsed": false
   },
   "outputs": [],
   "source": [
    "model = create.model(\"integrands\", grid, equation)\n",
    "scheme = create.scheme(\"galerkin\", spc, model)\n",
    "\n",
    "uh, _ = scheme.solve()"
   ]
  },
  {
   "cell_type": "code",
   "execution_count": null,
   "metadata": {
    "collapsed": false
   },
   "outputs": [],
   "source": []
  }
 ],
 "metadata": {},
 "nbformat": 4,
 "nbformat_minor": 1
}
