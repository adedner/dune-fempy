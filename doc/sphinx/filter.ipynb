{
 "cells": [
  {
   "cell_type": "code",
   "execution_count": null,
   "metadata": {
    "collapsed": false
   },
   "outputs": [],
   "source": [
    "try:\n",
    "    %matplotlib inline # can also use notebook or nbagg\n",
    "except:\n",
    "    pass\n",
    "from __future__ import print_function\n",
    "\n",
    "import math\n",
    "import dune.common\n",
    "import dune.create as create"
   ]
  },
  {
   "cell_type": "code",
   "execution_count": null,
   "metadata": {
    "collapsed": false
   },
   "outputs": [],
   "source": [
    "grid = create.grid(\"ALUCube\", dune.grid.cartesianDomain([0,0],[1,1],[16,16]), dimgrid=2)"
   ]
  },
  {
   "cell_type": "code",
   "execution_count": null,
   "metadata": {
    "collapsed": false
   },
   "outputs": [],
   "source": [
    "import dune.fem\n",
    "from dune.fem.space import lagrange\n",
    "from dune.fem.view import adaptiveLeafGridView\n",
    "from dune.fem.plotting import plotPointData as plot"
   ]
  },
  {
   "cell_type": "code",
   "execution_count": null,
   "metadata": {
    "collapsed": false
   },
   "outputs": [],
   "source": [
    "from dune.fem.view import filteredGridView\n",
    "from dune.fem.space import dgonb\n",
    "\n",
    "# first using a new index set\n",
    "subGrid = filteredGridView(grid, lambda e: 1 if (e.geometry.center - [0.5, 0.5]).two_norm < 0.25 else 2, 1, True)\n",
    "# interpolate some data onto the subgrid\n",
    "spc = lagrange(subGrid, dimrange=1, order=1)\n",
    "phi = spc.interpolate(lambda x: [math.sin(math.pi*x[0])*math.cos(math.pi*x[1])], name=\"phi\")\n",
    "plot(phi)\n",
    "\n",
    "subGrid1 = filteredGridView(grid, lambda e: 1 if (e.geometry.center - [0.5, 0.5]).two_norm < 0.25 else 2, 1, True)\n",
    "subGrid2 = filteredGridView(grid, lambda e: 1 if (e.geometry.center - [0.5, 0.5]).two_norm < 0.25 else 2, 2, True)\n",
    "# interpolate some data onto the subgrid\n",
    "spc1 = lagrange(subGrid1, dimrange=1, order=1)\n",
    "spc2 = lagrange(subGrid2, dimrange=1, order=1)\n",
    "phi1 = spc1.interpolate(lambda x: [-1], name=\"phi1\")\n",
    "phi2 = spc2.interpolate(lambda x: [ (x-[0.5,0.5] ).two_norm], name=\"phi2\")\n",
    "spc = dgonb(grid, dimrange=1, order=1)\n",
    "phi = spc.interpolate(lambda en,x: [phi1.localFunction(en).evaluate(x) if subGrid1.contains(en) else phi2.localFunction(en).evaluate(x)], name=\"phi\")\n",
    "plot(phi,gridLines=\"white\")"
   ]
  },
  {
   "cell_type": "code",
   "execution_count": null,
   "metadata": {
    "collapsed": false
   },
   "outputs": [],
   "source": []
  }
 ],
 "metadata": {},
 "nbformat": 4,
 "nbformat_minor": 1
}
