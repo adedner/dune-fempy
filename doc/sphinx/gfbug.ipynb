{
 "cells": [
  {
   "cell_type": "code",
   "execution_count": null,
   "metadata": {
    "collapsed": false
   },
   "outputs": [],
   "source": [
    "try:\n",
    "    %matplotlib inline # can also use notebook or nbagg\n",
    "except:\n",
    "    pass\n",
    "import math\n",
    "import dune.fem\n",
    "import ufl\n",
    "import dune.ufl\n",
    "import dune.create as create\n",
    "from dune.fem.plotting import plotPointData as plot\n",
    "from dune.fem.plotting import plotComponents as plotc\n",
    "\n",
    "grid = create.grid(\"ALUConform\", dune.grid.cartesianDomain([0,0],[1,1],[16,16]), dimgrid=2)\n",
    "\n",
    "x = ufl.SpatialCoordinate(ufl.triangle)\n",
    "const = ufl.Constant(ufl.triangle)\n",
    "c = ufl.cos(const*x[1])\n",
    "s = ufl.sin(x[0])\n",
    "expr = ufl.as_vector([ s*c ])\n",
    "funcUFL = create.function(\"ufl\", grid, \"ufl\", 1, expr)\n",
    "funcUFL.setConstant(const, [10])\n",
    "# plot(grid,funcUFL)\n",
    "\n",
    "scalarUFLSpace = dune.ufl.Space(grid,1)\n",
    "coeff = ufl.Coefficient(scalarUFLSpace)\n",
    "coeffFunc = create.function(\"global\", grid, \"global_velocity\", 0, lambda x: [2])\n",
    "expr1 = ufl.as_vector([ s*s*coeff[0] ])\n",
    "funcUFL1 = create.function(\"ufl\", grid, \"ufl1\", 4, expr1,\n",
    "#                           coefficients={coeff: coeffFunc})\n",
    "                           coefficients={coeff: funcUFL})\n",
    "for e in grid.elements():\n",
    "    print( funcUFL1.localFunction(e) )\n",
    "# plot(grid,funcUFL1)"
   ]
  },
  {
   "cell_type": "code",
   "execution_count": null,
   "metadata": {
    "collapsed": false
   },
   "outputs": [],
   "source": []
  }
 ],
 "metadata": {},
 "nbformat": 4,
 "nbformat_minor": 1
}
