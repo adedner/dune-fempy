{
 "cells": [
  {
   "cell_type": "markdown",
   "metadata": {},
   "source": [
    "## Grid construction and basic usage\n",
    "There are a number of ways to construct the macro triangulation of the computational domain. One can either use some avaialble readers using either gmsh files [gmsh][1] or *dune grid format* ([dgf][2]) files. Alternatively, it is possible to directly provide the vertices and grid elements using *numy* arrays.\n",
    "Later on we will show some of the most basic method available on the grid ckass.\n",
    "\n",
    "\n",
    "[1]: http://gmsh.info/doc/texinfo/gmsh.html \n",
    "[2]: https://www.dune-project.org/doxygen/2.5.0/group__DuneGridFormatParser.html#details. "
   ]
  },
  {
   "cell_type": "code",
   "execution_count": null,
   "metadata": {
    "collapsed": false
   },
   "outputs": [],
   "source": [
    "from __future__ import print_function\n",
    "\n",
    "import dune.common\n",
    "import dune.create as create"
   ]
  },
  {
   "cell_type": "markdown",
   "metadata": {},
   "source": [
    "### Constructers\n",
    "The following shows a simple routing to visualize a dune grid"
   ]
  },
  {
   "cell_type": "code",
   "execution_count": null,
   "metadata": {
    "collapsed": false
   },
   "outputs": [],
   "source": [
    "from matplotlib import pyplot\n",
    "from numpy import amin, amax, linspace\n",
    "from IPython.core.display import display\n",
    "\n",
    "def plot(grid):\n",
    "    if not grid.dimension == 2:\n",
    "        print(\"inline plotting so far only available for 2d grids\")\n",
    "        return\n",
    "    triangulation = grid.triangulation(1)\n",
    "    fig = pyplot.figure()\n",
    "    fig.gca().set_aspect('equal')\n",
    "    pyplot.triplot(grid.triangulation(), antialiased=True, linewidth=0.2, color='black')\n",
    "    display(fig)"
   ]
  },
  {
   "cell_type": "markdown",
   "metadata": {},
   "source": [
    "First the simplest approach - this simply results in a cube tesselated with a nicely structured grid:"
   ]
  },
  {
   "cell_type": "code",
   "execution_count": null,
   "metadata": {
    "collapsed": false
   },
   "outputs": [],
   "source": [
    "grid = create.grid(\"Yasp\", dune.grid.cartesianDomain([0,0],[1,1],[16,16]), dimgrid=2)\n",
    "plot(grid)\n",
    "grid = create.grid(\"ALUConform\", dune.grid.cartesianDomain([0,0,0],[1,1,1],[16,16,16]), dimgrid=3)\n",
    "plot(grid)"
   ]
  },
  {
   "cell_type": "markdown",
   "metadata": {},
   "source": [
    "We now show how describe a simple grid using *numpy* arrays. This approach can then be used to write more complex readers in python to construct grids."
   ]
  },
  {
   "cell_type": "code",
   "execution_count": null,
   "metadata": {
    "collapsed": false
   },
   "outputs": [],
   "source": [
    "import numpy\n",
    "vertices = numpy.array([(0,0), (1,0), (1,1), (0,1), (-1,1), (-1,0), (-1,-1), (0,-1)])\n",
    "triangles = numpy.array([(0,1,2), (0,2,3), (0,3,4), (0,4,5), (0,5,6), (0,6,7)])\n",
    "grid = create.grid(\"ALUConform\", {\"vertex\": vertices, \"simplex\": triangles}, dimgrid=2)\n",
    "plot(grid)"
   ]
  },
  {
   "cell_type": "markdown",
   "metadata": {},
   "source": [
    "The next example uses the [Delauny][1] triangulation method availble in *scipy*.\n",
    "[1]: https://docs.scipy.org/doc/scipy-0.18.1/reference/tutorial/spatial.html"
   ]
  },
  {
   "cell_type": "code",
   "execution_count": null,
   "metadata": {
    "collapsed": false
   },
   "outputs": [],
   "source": [
    "from scipy.spatial import Delaunay\n",
    "\n",
    "n_angles = 36\n",
    "n_radii = 8\n",
    "\n",
    "radii = numpy.linspace(1.0 / n_radii, 1.0, n_radii)\n",
    "angles = numpy.linspace(0, 2*numpy.pi, n_angles, endpoint=False)\n",
    "angles = numpy.repeat(angles[..., numpy.newaxis], n_radii, axis=1)\n",
    "\n",
    "x = numpy.append(0, (radii*numpy.cos(angles)).flatten())\n",
    "y = numpy.append(0, (radii*numpy.sin(angles)).flatten())\n",
    "\n",
    "points = numpy.stack((x,y), axis=-1)\n",
    "triangles = Delaunay(points).simplices\n",
    "\n",
    "grid = create.grid(\"ALUConform\", {'vertex':points, 'simplex':triangles}, dimgrid=2)\n",
    "plot(grid)"
   ]
  },
  {
   "cell_type": "markdown",
   "metadata": {},
   "source": [
    "Dune provides options for reading grid descriptions from files. First we show how to use the *dune grid format*:\n",
    "The grid can be directly described using a python string:"
   ]
  },
  {
   "cell_type": "code",
   "execution_count": null,
   "metadata": {
    "collapsed": false
   },
   "outputs": [],
   "source": [
    "dgf = \"\"\"\n",
    "INTERVAL\n",
    "0  0\n",
    "1  1\n",
    "16 16\n",
    "#\n",
    "\"\"\"\n",
    "grid = create.grid(\"ALUSimplex\", dune.grid.string2dgf(dgf), dimgrid=2)\n",
    "plot(grid)"
   ]
  },
  {
   "cell_type": "markdown",
   "metadata": {},
   "source": [
    "or providing a [dgf file][1]\n",
    "[1]: unitcube-2d.dgf"
   ]
  },
  {
   "cell_type": "code",
   "execution_count": null,
   "metadata": {
    "collapsed": false
   },
   "outputs": [],
   "source": [
    "grid = create.grid(\"ALUCube\", (dune.common.reader.dgf,\"unitcube-2d.dgf\"), dimgrid=2)\n",
    "plot(grid)"
   ]
  },
  {
   "cell_type": "markdown",
   "metadata": {},
   "source": [
    "We have just described how to *input* a grid, shown some inline visualization, but we also provide *output* methods for grid (and data) into *vtk* files. For simply writting the grid structure for viewing in e.g. *paraview*:"
   ]
  },
  {
   "cell_type": "code",
   "execution_count": null,
   "metadata": {
    "collapsed": false
   },
   "outputs": [],
   "source": [
    "grid.vtkWriter().write(\"griddemo\")"
   ]
  },
  {
   "cell_type": "markdown",
   "metadata": {},
   "source": [
    "see [griddemo.vtu][1]\n",
    "[1]: griddemo.vtu\n",
    "\n",
    "### Basic methods\n",
    "Probably the most fundamental information one wants from any grid is the number of entities of different codimension, e,g,, the number of vertices and elements."
   ]
  },
  {
   "cell_type": "code",
   "execution_count": null,
   "metadata": {
    "collapsed": false
   },
   "outputs": [],
   "source": [
    "print(\"Number of elements:\",grid.size(0))\n",
    "print(\"Number of vertices:\",grid.size(grid.dimension))"
   ]
  },
  {
   "cell_type": "markdown",
   "metadata": {},
   "source": [
    "Note that `grid.dimension` give the dimension of the reference elements of the grid while `grid.dimensionworld` returns the dimension of the coordinate space the grid is embedded in."
   ]
  },
  {
   "cell_type": "code",
   "execution_count": null,
   "metadata": {
    "collapsed": false
   },
   "outputs": [],
   "source": [
    "print(grid.dimension,grid.dimensionworld)"
   ]
  },
  {
   "cell_type": "markdown",
   "metadata": {},
   "source": [
    "Here is not the place to describe the whole *Dune Grid* interface made available to python. Here is a simple example showing how to iterate over the grid and ascess some simple geometric information for each element:"
   ]
  },
  {
   "cell_type": "code",
   "execution_count": null,
   "metadata": {
    "collapsed": false
   },
   "outputs": [],
   "source": [
    "totalArea = 0\n",
    "for element in grid.elements():\n",
    "    print( \"Center \", element.geometry.center, end=\", \" )\n",
    "    print(\"Corners:\", end=' ')\n",
    "    for corner in element.geometry.corners:\n",
    "        print(corner, end=' ' )\n",
    "    print()\n",
    "    totalArea += element.geometry.volume\n",
    "print(totalArea)"
   ]
  },
  {
   "cell_type": "markdown",
   "metadata": {},
   "source": [
    "Speaking within the Dune context it is important to note that the grid instance `grid` constructor with the methods above is a *leaf grid view*. So even after refinment the grid instance will always provide a view to the finest level of refinement of the hierarchical grid. The full hierarchy grid can be accessed with"
   ]
  },
  {
   "cell_type": "code",
   "execution_count": null,
   "metadata": {
    "collapsed": false
   },
   "outputs": [],
   "source": [
    "hgrid = grid.hierarchicalGrid"
   ]
  },
  {
   "cell_type": "markdown",
   "metadata": {},
   "source": [
    "The hierarchical grid can be globally refined"
   ]
  },
  {
   "cell_type": "code",
   "execution_count": null,
   "metadata": {
    "collapsed": false
   },
   "outputs": [],
   "source": [
    "hgrid.globalRefine(3)\n",
    "plot(grid)\n",
    "# is there a global coarsening available?\n",
    "hgrid.globalRefine(-2)\n",
    "plot(grid)"
   ]
  },
  {
   "cell_type": "markdown",
   "metadata": {},
   "source": [
    "or single elements can be marked for local refinement or coarsening"
   ]
  },
  {
   "cell_type": "code",
   "execution_count": null,
   "metadata": {
    "collapsed": false
   },
   "outputs": [],
   "source": [
    "pyplot.close()\n",
    "import math\n",
    "marker = dune.common.Marker\n",
    "\n",
    "def mark(element, t):\n",
    "    y = element.geometry.center - [0.5+0.2*math.cos(t), 0.5+0.2*math.sin(t)]\n",
    "    if y.two_norm2 < 0.2*0.2 and y.two_norm2 > 0.1*0.1:\n",
    "      return marker.refine if element.level < 5 else marker.keep\n",
    "    else:\n",
    "      return marker.coarsen\n",
    "\n",
    "for i in range(0,3):\n",
    "    hgrid.mark(lambda e: mark(e, 0))\n",
    "    dune.fem.adapt(hgrid)\n",
    "plot(grid)"
   ]
  },
  {
   "cell_type": "markdown",
   "metadata": {},
   "source": [
    "Note that if data is stored on any entity of the grid then it will be valid anymore after calling `globalRefine` or `adapt` on the hierarchical grid as described above. To make it possible to keep for example discrete functions valid during grid modification, these can be passed into the `adapt` method. Note that this requires a special version of the *leaf grid view*:"
   ]
  },
  {
   "cell_type": "code",
   "execution_count": null,
   "metadata": {
    "collapsed": false
   },
   "outputs": [],
   "source": [
    "import dune.fem\n",
    "from dune.fem.space import lagrange\n",
    "from dune.fem.view import adaptiveLeafGridView\n",
    "from dune.fem.ipython import plotPointData as plot\n",
    "\n",
    "adaptiveGV = adaptiveLeafGridView(grid)\n",
    "# interpolate some data onto grid\n",
    "spc = lagrange(adaptiveGV, dimrange=1, order=1)\n",
    "phi = spc.interpolate(lambda x: [math.sin(math.pi*x[0])*math.cos(math.pi*x[1])], name=\"phi\")\n",
    "\n",
    "for nr in range(101):\n",
    "    hgrid.mark(lambda e: mark(e, nr/100.*2.*math.pi))\n",
    "    dune.fem.adapt(hgrid, [phi])\n",
    "    if nr % 10 == 0:\n",
    "        plot(grid,phi)"
   ]
  },
  {
   "cell_type": "markdown",
   "metadata": {},
   "source": [
    "Note the plotting method available in the `dune.fem.ipython` module used in the last example.\n",
    "\n",
    "### Special Grid Views\n",
    "\n",
    "The above required using an `AdaptiveLeafGridView` which allows to efficiently prolong/restrict discrete functions during grid refinement. In this module we provide some other specialized `GridView` which we will now briefly decribe:"
   ]
  },
  {
   "cell_type": "code",
   "execution_count": null,
   "metadata": {
    "collapsed": false
   },
   "outputs": [],
   "source": [
    "# todo"
   ]
  },
  {
   "cell_type": "code",
   "execution_count": null,
   "metadata": {
    "collapsed": false
   },
   "outputs": [],
   "source": []
  }
 ],
 "metadata": {},
 "nbformat": 4,
 "nbformat_minor": 1
}
