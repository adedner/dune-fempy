{
 "cells": [
  {
   "cell_type": "markdown",
   "metadata": {},
   "source": [
    "## Grid functions (and some plotting)\n",
    "\n",
    "*Grid function* are perhaps the most fundamental concept of (after the grid itself). These are *localizable* function, i.e., functions that can be evaluated given an element `e` of the grid and a coordinate in the reference element of `e`. To this end they provide a method `lf = localfunction(e)` returning an object with an `evaluate(x),jacobian(x),hessian(x)` method. The coordinate `x` should be in the reference element of `e` but note that the derivates returned are with respect to the coordinate system of `e` itself. All numerical algorithm provided in the dune modules do not use globally defined functions but rely on *grid function*. \n",
    "\n",
    "In addition we also show some simple inline plotting functionality."
   ]
  },
  {
   "cell_type": "code",
   "execution_count": null,
   "metadata": {
    "collapsed": false
   },
   "outputs": [],
   "source": [
    "import math\n",
    "import dune.fem\n",
    "import ufl\n",
    "import dune.ufl\n",
    "import dune.create as create\n",
    "from dune.fem.ipython import plotPointData as plot\n",
    "from dune.fem.ipython import plotComponents as plotc\n",
    "\n",
    "grid = create.grid(\"ALUConform\", dune.grid.cartesianDomain([0,0],[1,1],[16,16]), dimgrid=2)"
   ]
  },
  {
   "cell_type": "markdown",
   "metadata": {},
   "source": [
    "There are a number of different ways *grid function* can be constructed. We start with the simplest approach using callback to python function:"
   ]
  },
  {
   "cell_type": "code",
   "execution_count": null,
   "metadata": {
    "collapsed": false
   },
   "outputs": [],
   "source": [
    "def expr_global(x):\n",
    "    return [math.sin(x[0])**2, math.sin(x[0])*math.cos(10*x[1]), math.cos(10*x[1])**2]\n",
    "gf_gl = create.function(\"global\", grid, \"expr_global\", 3, expr_global)\n",
    "# plot all components + the grid\n",
    "plotc(grid, gf_gl)\n",
    "# plot the absolute value of the compnents without the grid\n",
    "plot(grid,gf_gl,component=-1,showGrid=False)\n",
    "\n",
    "def expr_local(en,x):\n",
    "    y = en.geometry.position(x)\n",
    "    return [gf_gl.localFunction(en).evaluate(x)[1] - y.two_norm,10]\n",
    "gf_loc = create.function(\"local\", grid, \"expr_local\", 3, expr_local)\n",
    "# here we show the solution (first component is default) overlayed with the grid\n",
    "plot(grid,gf_loc)"
   ]
  },
  {
   "cell_type": "markdown",
   "metadata": {},
   "source": [
    "A few remarks: note that all grid functions return a vector - even scalar functions as the ones in the example. The dimension of the range of these functions is automatically deduced from its return value. \n",
    "\n",
    "The constructor arguments for grid functions are always similar: in addition to the grid, a name is used (mostly for visualization purposes), a polynomial order is used (for detecting quadrature orders in numerical schemes); the last argument the the expression defining the actual function.\n",
    "\n",
    "Finaly, since evaluating these functions requires a callback from C++ to python and no *just in time* compilation is used, this approach can be quite slow compared to some of the others described in the following."
   ]
  },
  {
   "cell_type": "code",
   "execution_count": null,
   "metadata": {
    "collapsed": false,
    "scrolled": false
   },
   "outputs": [],
   "source": [
    "uflSpace = dune.ufl.Space(grid, 2, field=\"double\")\n",
    "x = ufl.SpatialCoordinate(ufl.triangle)\n",
    "const = ufl.Constant(ufl.triangle)\n",
    "c = ufl.cos(const*x[1])\n",
    "s = ufl.sin(x[0])\n",
    "expr = ufl.as_vector([ s*c ])\n",
    "funcUFL = create.function(\"ufl\", grid, \"ufl\", 1, expr)\n",
    "funcUFL.setConstant(const, [10])\n",
    "plot(grid, funcUFL)\n",
    "\n",
    "scalarUFLSpace = dune.ufl.Space(grid,1)\n",
    "coeff = ufl.Coefficient(scalarUFLSpace)\n",
    "coeffFunc = create.function(\"global\", grid, \"global_velocity\", 0, lambda x: [2])\n",
    "expr = ufl.as_vector([ s*s*coeff[0] ])\n",
    "funcUFL1 = create.function(\"ufl\", grid, \"ufl1\", 4, expr, \n",
    "                           coefficients={coeff: funcUFL})\n",
    "#                           coefficients={coeff: coeffFunc})\n",
    "# plot(grid, funcUFL1)\n",
    "for e in grid.elements():\n",
    "    print( funcUFL1.localFunction(e) )"
   ]
  },
  {
   "cell_type": "markdown",
   "metadata": {},
   "source": [
    "The above results in grid functions which are still identical to the global functions that they represent, i.e., no discretization is involved. The next examples use an underlying discrete function space and interpolates either global functions or grid functions into this space:"
   ]
  },
  {
   "cell_type": "code",
   "execution_count": null,
   "metadata": {
    "collapsed": false
   },
   "outputs": [],
   "source": [
    "# first a constant function\n",
    "vector_space = create.space(\"Lagrange\", grid, dimrange=grid.dimension, order=2)\n",
    "constant = vector_space.interpolate([1,1], name=\"constant\")\n",
    "uh = vector_space.interpolate(lambda x: [math.sin(x[0]*x[1]*math.pi),math.cos(x[0]*x[1]*math.pi)], name=\"xy\")\n",
    "plot(grid,uh,component=-2,showGrid=False)\n",
    "scalar_space = create.space(\"Lagrange\", grid, dimrange=1, order=2)\n",
    "vorticity = create.function(\"local\", grid, \"global_velocity\", 3, \n",
    "                       lambda en,x: [uh.localFunction(en).jacobian(x)[1][0]-uh.localFunction(en).jacobian(x)[0][0]])\n",
    "vorticity_h = scalar_space.interpolate(vorticity, name=\"fh\")               \n",
    "plot(grid,vorticity_h)"
   ]
  },
  {
   "cell_type": "markdown",
   "metadata": {},
   "source": [
    "Finally the grid function can be described proving strings with valid C++ code "
   ]
  },
  {
   "cell_type": "code",
   "execution_count": null,
   "metadata": {
    "collapsed": false
   },
   "outputs": [],
   "source": [
    "func1 = \"\"\"\n",
    "double s = sin(xGlobal[0]);\n",
    "double c = cos(@const:fac*xGlobal[1]);\n",
    "value[ 0 ] = s*s;\n",
    "value[ 1 ] = s*c;\n",
    "value[ 2 ] = c*c;\n",
    "\"\"\"\n",
    "func2 = \"\"\"\n",
    "double cx = cos(xGlobal[0])*@jac:test[0][0];\n",
    "double cy = cos(@const:fac*xGlobal[1]);\n",
    "double sx = sin(xGlobal[0]);\n",
    "double sy = sin(@const:fac*xGlobal[1]);\n",
    "value[ 0 ][ 0 ] = cx*sx*@gf:test[1];\n",
    "value[ 0 ][ 1 ] = 0;\n",
    "value[ 1 ][ 0 ] = cx*cy*@gf:test[0];\n",
    "value[ 1 ][ 1 ] = -@const:fac*sx*sy;\n",
    "value[ 2 ][ 0 ] = 0;\n",
    "value[ 2 ][ 1 ] = -2.*@const:fac*cy*sy;\n",
    "\"\"\"\n",
    "code = { 'eval': func1, 'jac': func2 }\n",
    "\n",
    "coeffFunc = create.function(\"global\", grid, \"global_velocity\", 1, lambda x: [1,2])\n",
    "func = create.function(\"cpp\", grid, \"code\", 3, code, coefficients={\"test\": coeffFunc} )\n",
    "func.setConstant(\"fac\", [10])\n",
    "plotc(grid,func,showGrid=False)"
   ]
  },
  {
   "cell_type": "markdown",
   "metadata": {
    "collapsed": false
   },
   "source": [
    "Most of the methods available on the grid functions have been used above - mainly the `localfunction` method. There are a few more of interst are:"
   ]
  },
  {
   "cell_type": "code",
   "execution_count": null,
   "metadata": {
    "collapsed": false
   },
   "outputs": [],
   "source": [
    "print(\"dimension of range: \",func.dimRange)\n",
    "print(\"underlying grid instance: \",func.grid)\n",
    "print(\"name: \",func.name)"
   ]
  },
  {
   "cell_type": "markdown",
   "metadata": {},
   "source": [
    "The following two methods can be used together with the `grid.triangulation( level )` method to obtain a simple numpy vector representation of the solution:"
   ]
  },
  {
   "cell_type": "code",
   "execution_count": null,
   "metadata": {
    "collapsed": false
   },
   "outputs": [],
   "source": [
    "print(\"return array with values at cell centers: \", func.cellData(0))\n",
    "print(\"return array with values at nodes: \", func.pointData(0))"
   ]
  },
  {
   "cell_type": "markdown",
   "metadata": {},
   "source": [
    "The following method computes the integral of the function over the domain - a possible usage is to compute the approximation error of a function:"
   ]
  },
  {
   "cell_type": "code",
   "execution_count": null,
   "metadata": {
    "collapsed": false
   },
   "outputs": [],
   "source": [
    "print(\"value of integral over whole domain: \", func.integrate())"
   ]
  }
 ],
 "metadata": {},
 "nbformat": 4,
 "nbformat_minor": 1
}
