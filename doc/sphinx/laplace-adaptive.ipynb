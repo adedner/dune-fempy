{
 "cells": [
  {
   "cell_type": "markdown",
   "metadata": {},
   "source": [
    "# Adaptive Finite Element [(Notebook)][1]\n",
    "\n",
    "[1]: _downloads/laplace-adaptive.ipynbWe study the classic _reentrand corner_ problem:\n",
    "\\begin{align*}\n",
    "  -\\Delta u &= f && \\text{in } \\Omega \\\\\n",
    "          u &= g && \\text{on } \\partial\\Omega\n",
    "\\end{align*}\n",
    "where the domain is given using polar coordinates\n",
    "\\begin{gather}\n",
    "  \\Omega = \\{ (r,\\varphi)\\colon r\\in(0,1) \\varphi\\in(0,\\Phi) \\}~.\n",
    "\\end{gather}\n",
    "For $g$ we take the trace of the function u, given by\n",
    "\\begin{gather}\n",
    "  u(r,\\varphi) = r^{\\frac{\\pi}{\\Phi}} \\sin\\big(\\frac{\\pi}{\\Phi} \\varphi \\big)\n",
    "\\end{gather}\n",
    "\n",
    "We first define the domain and set up the grid and space"
   ]
  },
  {
   "cell_type": "code",
   "execution_count": null,
   "metadata": {
    "collapsed": false
   },
   "outputs": [],
   "source": [
    "import math\n",
    "import dune.create as create\n",
    "from dune.fem.view import adaptiveLeafGridView\n",
    "import dune.grid as grid\n",
    "import dune.fem as fem\n",
    "\n",
    "# set the angle for the corner (0<angle<=360)\n",
    "cornerAngle = 320.\n",
    "\n",
    "# use a second order space\n",
    "order = 2\n",
    "\n",
    "# define the grid for this domain (vertices are the origin and 4 equally spaces on the\n",
    "# unit sphere starting with (1,0) and ending at # (cos(cornerAngle),sin(cornerAngle))\n",
    "vertices = [(0,0)]\n",
    "dgf = \"VERTEX\\n 0 0 \\n\"\n",
    "for i in range(0,5):\n",
    "    dgf += str(math.cos(cornerAngle/4*math.pi/180*i)) + \" \" + str(math.sin(cornerAngle/4*math.pi/180*i)) + \"\\n\"\n",
    "dgf += \"#\\n\"\n",
    "dgf += \"\"\"\n",
    "SIMPLEX\n",
    "  0 1 2\n",
    "  0 2 3\n",
    "  0 3 4\n",
    "  0 4 5\n",
    "#\n",
    "BOUNDARYDOMAIN\n",
    "  default 1\n",
    "#\n",
    "PROJECTION\n",
    "  function p(x) = x / |x|\n",
    "  segment  1 2  p\n",
    "  segment  2 3  p\n",
    "  segment  3 4  p\n",
    "  segment  4 5  p\n",
    "#\n",
    "\"\"\"\n",
    "grid = create.view(\"adaptive\", \"ALUConform\", grid.string2dgf(dgf), dimgrid=2)\n",
    "grid.hierarchicalGrid.globalRefine(2)\n",
    "spc  = create.space( \"Lagrange\", grid, dimrange=1, order=order )"
   ]
  },
  {
   "cell_type": "markdown",
   "metadata": {},
   "source": [
    "Next define the model together with the exact solution"
   ]
  },
  {
   "cell_type": "code",
   "execution_count": null,
   "metadata": {
    "collapsed": false
   },
   "outputs": [],
   "source": [
    "from ufl import *\n",
    "from dune.ufl import Space\n",
    "uflSpace = Space((grid.dimGrid, grid.dimWorld), 1)\n",
    "u = TrialFunction(uflSpace)\n",
    "v = TestFunction(uflSpace)\n",
    "x = SpatialCoordinate(uflSpace.cell())\n",
    "\n",
    "# exact solution for this angle\n",
    "def exact(x):\n",
    "    Phi = cornerAngle / 180 * math.pi\n",
    "    r2 = x.two_norm2\n",
    "    phi = math.atan2(x[1], x[0])\n",
    "    if x[1] < 0:\n",
    "        phi += 2*math.pi\n",
    "    return [r2**(math.pi/2/Phi) * sin(math.pi/Phi * phi)]\n",
    "def exactJac(x):\n",
    "    r2 = x.two_norm2\n",
    "    phi = math.atan2(x[1], x[0])\n",
    "    if x[1] < 0:\n",
    "        phi += 2*math.pi\n",
    "    r2dx=2.*x[0]\n",
    "    r2dy=2.*x[1]\n",
    "    if r2 == 0:\n",
    "        phidx = 0\n",
    "        phidy = 0\n",
    "        r2pow = 0\n",
    "    else:\n",
    "        phidx=-x[1]/r2\n",
    "        phidy=x[0]/r2\n",
    "        r2pow = r2**(90./cornerAngle-1)\n",
    "    dx = r2pow * ( 90./cornerAngle*r2dx * sin(180./cornerAngle * phi)\n",
    "                  + r2 * 180./cornerAngle*cos( 180./cornerAngle * phi) * phidx )\n",
    "    dy = r2pow * ( 90./cornerAngle*r2dy * sin(180./cornerAngle * phi)\n",
    "                  + r2 * 180./cornerAngle*cos( 180./cornerAngle * phi) * phidy )\n",
    "    return [dx,dy]\n",
    "\n",
    "exact_gf = create.function(\"global\", grid, \"exact\", order+1, exact)\n",
    "bnd_u = Coefficient(uflSpace)\n",
    "a = inner(grad(u), grad(v)) * dx\n",
    "model = create.model(\"elliptic\", grid, a == 0, dirichlet={1: bnd_u}, tempVars=False, coefficients={bnd_u: exact_gf})"
   ]
  },
  {
   "cell_type": "code",
   "execution_count": null,
   "metadata": {
    "collapsed": false
   },
   "outputs": [],
   "source": [
    "try:\n",
    "    import matplotlib\n",
    "    from matplotlib import pyplot\n",
    "    from numpy import amin, amax, linspace\n",
    "    from IPython.core.display import display\n",
    "\n",
    "    def plot(grid, solution, xlim = None, ylim = None):\n",
    "        triangulation = grid.triangulation(4)\n",
    "        data = solution.pointData(4)\n",
    "\n",
    "        levels = linspace(amin(data[:,0]), amax(data[:,0]), 256)\n",
    "\n",
    "        fig = pyplot.figure()\n",
    "        fig.gca().set_aspect('equal')\n",
    "        if xlim:\n",
    "            fig.gca().set_xlim(xlim)\n",
    "        if ylim:\n",
    "            fig.gca().set_ylim(ylim)\n",
    "        pyplot.triplot(grid.triangulation(), antialiased=True, linewidth=0.2, color='black')\n",
    "        pyplot.tricontourf(triangulation, data[:,0], cmap=pyplot.cm.rainbow, levels=levels)\n",
    "        display(pyplot.gcf())\n",
    "except ImportError as e:\n",
    "    print(e)\n",
    "    def plot(grid, solution):\n",
    "        pass"
   ]
  },
  {
   "cell_type": "code",
   "execution_count": null,
   "metadata": {
    "collapsed": false
   },
   "outputs": [],
   "source": [
    "pyplot.close(\"all\")\n",
    "# set up the scheme\n",
    "laplace = create.scheme(\"h1\", spc, model)\n",
    "uh = spc.interpolate(lambda x: [0], name=\"solution\")\n",
    "laplace.solve(target=uh)\n",
    "\n",
    "# function used for computing approximation error\n",
    "def h1error(en,x):\n",
    "    y = en.geometry.position(x)\n",
    "    val = uh.localFunction(en).evaluate(x) - exact(y)\n",
    "    jac = uh.localFunction(en).jacobian(x)[0] - exactJac(y)\n",
    "    return [ sqrt( val[0]*val[0] + jac*jac) ];\n",
    "h1error_gf = create.function( \"local\", grid, \"error\", order+1, h1error )\n",
    "\n",
    "# adaptive loop (mark, estimate, solve)\n",
    "count = 0\n",
    "tol = 0.05 # use 0 for global refinement\n",
    "while count < 8:\n",
    "    error = math.sqrt(h1error_gf.integrate()[0])\n",
    "    [estimate, marked] = laplace.mark(uh, tol)\n",
    "    plot(grid, uh)    \n",
    "    print(count, \": size=\",grid.size(0), \"estimate=\",estimate,\"error=\",error)\n",
    "    if marked == False or estimate < tol:\n",
    "        break\n",
    "    if tol == 0.:\n",
    "        grid.hierarchicalGrid.globalRefine(2)\n",
    "        uh.interpolate([0])  # initial guess needed\n",
    "    else:\n",
    "        fem.adapt(grid.hierarchicalGrid, [uh])\n",
    "        fem.loadBalance(grid.hierarchicalGrid, [uh])\n",
    "    laplace.solve( target=uh )\n",
    "    count += 1"
   ]
  },
  {
   "cell_type": "markdown",
   "metadata": {},
   "source": [
    "Let's have a look at the center of the domain:"
   ]
  },
  {
   "cell_type": "code",
   "execution_count": null,
   "metadata": {
    "collapsed": false
   },
   "outputs": [],
   "source": [
    "plot(grid,uh, (-0.5,0.5),(-0.5,0.5))\n",
    "plot(grid,uh, (-0.25,0.25),(-0.25,0.25))\n",
    "plot(grid,uh, (-0.125,0.125),(-0.125,0.125))\n",
    "plot(grid,uh, (-0.0625,0.0625),(-0.0625,0.0625))"
   ]
  },
  {
   "cell_type": "code",
   "execution_count": null,
   "metadata": {
    "collapsed": false
   },
   "outputs": [],
   "source": []
  }
 ],
 "metadata": {},
 "nbformat": 4,
 "nbformat_minor": 0
}
