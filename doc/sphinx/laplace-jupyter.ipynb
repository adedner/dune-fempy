{
 "cells": [
  {
   "cell_type": "markdown",
   "metadata": {},
   "source": [
    "Laplace Demo\n",
    "------------\n",
    "\n",
    "This demo introduces basic usage of dune-fempy, using the poisson equation as an example. Namely,\n",
    "\n",
    "\\begin{align*}\n",
    "  - \\Delta u + u &= f && \\text{in } \\Omega \\\\\n",
    "  \\nabla u \\cdot \\textbf{n} &= 0 && \\text{on } \\Gamma\n",
    "\\end{align*}\n",
    "\n",
    "\n",
    "If you have compiled DUNE against MPI, we strongly advise you to first initialize MPI from Python.\n",
    "At least OpenMPI is known to fail, if initialized only in the dune-fempy library."
   ]
  },
  {
   "cell_type": "code",
   "execution_count": null,
   "metadata": {
    "collapsed": false
   },
   "outputs": [],
   "source": [
    "import dune.fem\n",
    "dune.fem.parameter.append(\"../data/parameter\")"
   ]
  },
  {
   "cell_type": "markdown",
   "metadata": {},
   "source": [
    "First, we create our computational grid. Our domain will be the unit square divided into 16x16 quadrilaterals. To actually create the grid, we choose an implementation of the DUNE grid interface: a 2-dimensional ALUGrid with simplices and conforming bisection refinement."
   ]
  },
  {
   "cell_type": "code",
   "execution_count": null,
   "metadata": {
    "collapsed": false
   },
   "outputs": [],
   "source": [
    "import dune.create as create\n",
    "grid = create.grid(\"ALUConform\", dune.grid.cartesianDomain([0, 0], [1, 1], [8, 8]), dimgrid=2)"
   ]
  },
  {
   "cell_type": "markdown",
   "metadata": {},
   "source": [
    "We set up the base variables u, v and x in UFL."
   ]
  },
  {
   "cell_type": "code",
   "execution_count": null,
   "metadata": {
    "collapsed": false
   },
   "outputs": [],
   "source": [
    "from dune.ufl import Space\n",
    "from ufl import TestFunction, TrialFunction, SpatialCoordinate\n",
    "uflSpace = Space((grid.dimGrid, grid.dimWorld), 1)\n",
    "u = TrialFunction(uflSpace)\n",
    "v = TestFunction(uflSpace)\n",
    "x = SpatialCoordinate(uflSpace.cell())"
   ]
  },
  {
   "cell_type": "markdown",
   "metadata": {},
   "source": [
    "Next we define the equation for the weak form, given by\n",
    "\n",
    "\\begin{equation}\n",
    "\\int_{\\Omega} uv + \\nabla u\\cdot\\nabla v \\ dx =  \\int_{\\Omega} f v \\ dx.\n",
    "\\end{equation}\n",
    "We take $f = 9\\pi^2\\cos(2\\pi x_0)\\cos(2\\pi x_1)$.\n",
    "\n",
    "Note that then the exact solution is then\n",
    "$u = \\cos(2\\pi x_0)\\cos(2\\pi x_1)$."
   ]
  },
  {
   "cell_type": "code",
   "execution_count": null,
   "metadata": {
    "collapsed": false
   },
   "outputs": [],
   "source": [
    "from math import pi\n",
    "from ufl import cos, as_vector, dx, grad, inner\n",
    "f = 9*pi*pi*cos(2*pi*x[0])*cos(2*pi*x[1])\n",
    "exact = as_vector( [cos(2.*pi*x[0])*cos(2.*pi*x[1])] )\n",
    "equation = (inner(grad(u), grad(v)) + inner(u,v)) * dx == f * v[0] * dx\n",
    "equation"
   ]
  },
  {
   "cell_type": "markdown",
   "metadata": {},
   "source": [
    "We create the space and the model."
   ]
  },
  {
   "cell_type": "code",
   "execution_count": null,
   "metadata": {
    "collapsed": false
   },
   "outputs": [],
   "source": [
    "spc = create.space(\"Lagrange\", grid, dimrange=1, order=1)\n",
    "model = create.model(\"elliptic\", grid, equation)"
   ]
  },
  {
   "cell_type": "markdown",
   "metadata": {},
   "source": [
    "We create the scheme and set parameters for the solver."
   ]
  },
  {
   "cell_type": "code",
   "execution_count": null,
   "metadata": {
    "collapsed": false
   },
   "outputs": [],
   "source": [
    "scheme = create.scheme(\"h1\", spc, model,\\\n",
    "       parameters=\\\n",
    "       {\"fem.solver.newton.linabstol\": 1e-10,\n",
    "        \"fem.solver.newton.linreduction\": 1e-10,\n",
    "        \"fem.solver.newton.verbose\": 0,\n",
    "        \"fem.solver.newton.linear.verbose\": 0})"
   ]
  },
  {
   "cell_type": "markdown",
   "metadata": {},
   "source": [
    "We create a grid function for our exact solution."
   ]
  },
  {
   "cell_type": "code",
   "execution_count": null,
   "metadata": {
    "collapsed": false
   },
   "outputs": [],
   "source": [
    "exact_gf = create.function(\"ufl\", grid, \"exact\", 5, exact)"
   ]
  },
  {
   "cell_type": "markdown",
   "metadata": {},
   "source": [
    "We set up a function for plotting the data using matplotlib."
   ]
  },
  {
   "cell_type": "code",
   "execution_count": null,
   "metadata": {
    "collapsed": false
   },
   "outputs": [],
   "source": [
    "try:\n",
    "    import matplotlib\n",
    "    from matplotlib import pyplot\n",
    "    from numpy import amin, amax, linspace\n",
    "    from IPython.core.display import display\n",
    "\n",
    "    def plot(grid, solution):\n",
    "        triangulation = grid.triangulation(4)\n",
    "        data = solution.pointData(4)\n",
    "\n",
    "        levels = linspace(amin(data[:,0]), amax(data[:,0]), 256)\n",
    "\n",
    "        fig = pyplot.figure()\n",
    "        fig.gca().set_aspect('equal')\n",
    "        pyplot.triplot(grid.triangulation(), antialiased=True, linewidth=0.2, color='black')\n",
    "        pyplot.tricontourf(triangulation, data[:,0], cmap=pyplot.cm.rainbow, levels=levels)\n",
    "        display(pyplot.gcf())\n",
    "except ImportError as e:\n",
    "    print(e)\n",
    "    def plot(grid, solution):\n",
    "        pass"
   ]
  },
  {
   "cell_type": "markdown",
   "metadata": {},
   "source": [
    "Now we solve the system. We assign the solution to `uh`, and define a function to calculate the $L^2$ error, i.e. $|u_h - u|_{L^2}$. We output the data to a vtk file with name `laplace`, and plot it using `plot`. Finally we refine the grid twice and repeat the process. "
   ]
  },
  {
   "cell_type": "code",
   "execution_count": null,
   "metadata": {
    "collapsed": false,
    "scrolled": false
   },
   "outputs": [],
   "source": [
    "from math import sqrt\n",
    "for i in range(2):\n",
    "    print(\"solve on level\", i, \"number of dofs=\", grid.size(2))\n",
    "    uh,_ = scheme.solve()\n",
    "    def l2error(en,x):\n",
    "        val = uh.localFunction(en).evaluate(x) - exact_gf.localFunction(en).evaluate(x)\n",
    "        return [ val[0]*val[0] ];\n",
    "    l2error_gf = create.function(\"local\", grid, \"error\", 5, l2error)\n",
    "    error = sqrt(l2error_gf.integrate()[0])\n",
    "\n",
    "    print(\"size:\", grid.size(0), \"L2-error:\", error)\n",
    "    grid.writeVTK(\"laplace\", pointdata=[uh, l2error_gf])\n",
    "\n",
    "    plot(grid, uh)\n",
    "\n",
    "    if i < 1:\n",
    "        grid.hierarchicalGrid.globalRefine(2)"
   ]
  },
  {
   "cell_type": "markdown",
   "metadata": {},
   "source": [
    "Congratulations! You have successfully solved and visualized your first PDE using dune-fempy.\n",
    "\n",
    "For the first example we used solvers available in dune-fem - simple Krylov solvers with only diagonal preconditioning. Chaning the `storage` argument in the construction of the space makes it possible to use more sophisticated solvers (either better preconditioners or direct solvers). For example\n",
    "~~~\n",
    "spc = create.space(\"Lagrange\", grid, dimrange=1, order=1, storage=\"istl\")\n",
    "~~~\n",
    "in the above code will switch to the solvers from `dune-istl`, other options are for example `eigen` or `petsc`.\n",
    "\n",
    "It is also possible to store the degrees of freedom in such a way that they can be treated as `numpy` vectors and an assembled system matrix can be stored in a `sympy` sparse matrix.\n",
    "\n",
    "__Note__: at the moment we can only export `Eigen` matrices to python so to get the following example to run, the `Eigen` package must be available and `dune-py` must have been configured with `Eigen`.\n",
    "\n",
    "Since we will be implementing a Newton solver first, let's study a truely non linear problem - a version of the p-Laplace problem:\n",
    "\\begin{gather}\n",
    "  - \\frac{d}{2}\\nabla\\cdot |\\nabla u|^{p-2}\\nabla u + u = f\n",
    "\\end{gather}"
   ]
  },
  {
   "cell_type": "code",
   "execution_count": null,
   "metadata": {
    "collapsed": false
   },
   "outputs": [],
   "source": [
    "import numpy as np\n",
    "import scipy.sparse.linalg\n",
    "import scipy.optimize     \n",
    "from ufl import ds\n",
    "\n",
    "try:\n",
    "    spc = create.space(\"Lagrange\", grid, dimrange=1, order=1, storage='eigen')\n",
    "except Exception as ex:\n",
    "    template = \"An exception of type {0} occured. Arguments:\\n{1!r}\"\n",
    "    message = template.format(type(ex).__name__, ex.args)\n",
    "    print(message)\n",
    "    exit(1)\n",
    "except:\n",
    "    print('something...')\n",
    "    exit(1)\n",
    "\n",
    "d = 0.001\n",
    "p = 1.7\n",
    "\n",
    "rhs = (x[0] + x[1]) * v[0]\n",
    "a = (pow(d + inner(grad(u), grad(u)), (p-2)/2)*inner(grad(u), grad(v)) + inner(u, v)) * dx + 10*inner(u, v) * ds\n",
    "b = rhs * dx + 10*rhs * ds\n",
    "model = create.model(\"elliptic\", grid, a==b)\n",
    "    \n",
    "scheme = create.scheme(\"h1\", spc, model,\\\n",
    "       parameters=\\\n",
    "       {\"fem.solver.newton.linabstol\": 1e-10,\n",
    "        \"fem.solver.newton.linreduction\": 1e-10,\n",
    "        \"fem.solver.newton.verbose\": 1,\n",
    "        \"fem.solver.newton.linear.verbose\": 0})\n",
    "# create a discrete solution over this space - will be initialized with zero by default\n",
    "\n",
    "uh = create.function(\"discrete\", spc, name=\"solution\")"
   ]
  },
  {
   "cell_type": "markdown",
   "metadata": {},
   "source": [
    "In the following we implement a simple Newton solver: given an intitial guess $u^0$ (here taken to be zero) solve for $n\\geq 0$:\n",
    "\\begin{align*}\n",
    "   u^{n+1} = u^n - DS(u^n)(S(u^n)-g)\n",
    "\\end{align*}\n",
    "Where $g$ is a discrete function containing the boundary values in the Dirichlet nodes and zero otherwise.\n",
    "\n",
    "Let's first use the solve method on the scheme directly:"
   ]
  },
  {
   "cell_type": "code",
   "execution_count": null,
   "metadata": {
    "collapsed": false
   },
   "outputs": [],
   "source": [
    "_,info = scheme.solve(target = uh)\n",
    "print(\"size:\", grid.size(0), \"newton iterations:\", int(info['iterations']))\n",
    "plot(grid, uh)"
   ]
  },
  {
   "cell_type": "markdown",
   "metadata": {},
   "source": [
    "Instead of `scheme.solve` we now use the call operator on the `scheme` (to compute $S(u^n$) as  well as `scheme.assemble` to get a copy of the system matrix in form of a scipy sparse row matrix. Note that this method is only available if the `storage` in the space is set `eigen`."
   ]
  },
  {
   "cell_type": "code",
   "execution_count": null,
   "metadata": {
    "collapsed": false
   },
   "outputs": [],
   "source": [
    "# Let's first clear the solution again\n",
    "uh.clear()\n",
    "# Need to auxiliary function\n",
    "res = uh.copy() \n",
    "\n",
    "# Note: the following does not produce a copy of the dof\n",
    "# vectors, but keep in mind that\n",
    "# after grid adaptation the resulting numpy array\n",
    "# will be invalid since the shared dof vector will have moved\n",
    "# during its resizing - use copy=True to avoid this problem at\n",
    "# the cost of a copy\n",
    "sol_coeff = np.array( uh, copy=False )\n",
    "res_coeff = np.array( res, copy=False )\n",
    "n = 0\n",
    "\n",
    "while True:\n",
    "    scheme(uh, res)\n",
    "    absF = sqrt( np.dot(res_coeff,res_coeff) )\n",
    "    print(\"iterations (\"+str(n)+\")\",absF)\n",
    "    if absF < 1e-10:\n",
    "        break\n",
    "    matrix = scheme.assemble(uh)\n",
    "    sol_coeff -= scipy.sparse.linalg.spsolve(matrix, res_coeff)\n",
    "    n += 1\n",
    "\n",
    "plot(grid, uh)"
   ]
  },
  {
   "cell_type": "markdown",
   "metadata": {},
   "source": [
    "We cam redo the above computation but now use the Newton solver available in sympy:"
   ]
  },
  {
   "cell_type": "code",
   "execution_count": null,
   "metadata": {
    "collapsed": false
   },
   "outputs": [],
   "source": [
    "# let's first set the solution back to zero - since it already contains the right values\n",
    "uh.clear()\n",
    "def f(x_coeff):                     \n",
    "    x = spc.numpyfunction(x_coeff, \"tmp\")\n",
    "    scheme(x,res)         \n",
    "    return res_coeff\n",
    "# class for the derivative DS of S\n",
    "class Df(scipy.sparse.linalg.LinearOperator):\n",
    "    def __init__(self,x_coeff):\n",
    "        self.shape = (sol_coeff.shape[0],sol_coeff.shape[0])\n",
    "        self.dtype = sol_coeff.dtype\n",
    "        # the following converts a given numpy array\n",
    "        # into a discrete function over the given space\n",
    "        x = spc.numpyfunction(x_coeff, \"tmp\")\n",
    "        # store the assembled matrix\n",
    "        self.jac = scheme.assemble(x)\n",
    "    # reassemble the matrix DF(u) gmiven a dof vector for u\n",
    "    def update(self,x_coeff,f): \n",
    "        x = spc.numpyfunction(x_coeff, \"tmp\")\n",
    "        # Note: the following does produce a copy of the matrix\n",
    "        # and each call here will reproduce the full matrix\n",
    "        # structure - no reuse possible in this version\n",
    "        self.jac = scheme.assemble(x)\n",
    "    # compute DS(u)^{-1}x for a given dof vector x\n",
    "    def _matvec(self,x_coeff):\n",
    "        return scipy.sparse.linalg.spsolve(self.jac, x_coeff)\n",
    "\n",
    "# call the newton krylov solver from scipy\n",
    "sol_coeff[:] = scipy.optimize.newton_krylov(f, sol_coeff,\n",
    "            verbose=1, f_tol=1e-8,\n",
    "            inner_M=Df(sol_coeff))\n",
    "\n",
    "plot(grid, uh)"
   ]
  }
 ],
 "metadata": {},
 "nbformat": 4,
 "nbformat_minor": 0
}
