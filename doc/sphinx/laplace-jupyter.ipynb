{
 "cells": [
  {
   "cell_type": "markdown",
   "metadata": {},
   "source": [
    "Laplace Demo\n",
    "------------\n",
    "\n",
    "This demo introduces basic usage of dune-fempy, using the poisson equation as an example. Namely,\n",
    "\n",
    "\\begin{gather}\n",
    "- \\Delta u + u = f \\quad \\text{in } \\Omega \\\\\n",
    "\\nabla u \\cdot \\textbf{n} = 0 \\quad \\text{on } \\Gamma\n",
    "\\end{gather}\n",
    "\n",
    "\n",
    "If you have compiled DUNE against MPI, we strongly advise you to first initialize MPI from Python.\n",
    "At least OpenMPI is known to fail, if initialized only in the dune-fempy library."
   ]
  },
  {
   "cell_type": "code",
   "execution_count": null,
   "metadata": {
    "collapsed": false
   },
   "outputs": [],
   "source": [
    "import dune.fem\n",
    "dune.fem.parameter.append(\"../data/parameter\")"
   ]
  },
  {
   "cell_type": "markdown",
   "metadata": {},
   "source": [
    "First, we create our computational grid. Our domain will be the unit square divided into 16x16 quadrilaterals. To actually create the grid, we choose an implementation of the DUNE grid interface: a 2-dimensional ALUGrid with simplices and conforming bisection refinement."
   ]
  },
  {
   "cell_type": "code",
   "execution_count": null,
   "metadata": {
    "collapsed": false
   },
   "outputs": [],
   "source": [
    "import dune.create as create\n",
    "grid = create.grid(\"ALUConform\", dune.grid.cartesianDomain([0, 0], [1, 1], [8, 8]), dimgrid=2)"
   ]
  },
  {
   "cell_type": "markdown",
   "metadata": {},
   "source": [
    "We set up the base variables u, v and x in UFL."
   ]
  },
  {
   "cell_type": "code",
   "execution_count": null,
   "metadata": {
    "collapsed": false
   },
   "outputs": [],
   "source": [
    "from dune.ufl import Space\n",
    "from ufl import TestFunction, TrialFunction, SpatialCoordinate\n",
    "uflSpace = Space((grid.dimGrid, grid.dimWorld), 1)\n",
    "u = TrialFunction(uflSpace)\n",
    "v = TestFunction(uflSpace)\n",
    "x = SpatialCoordinate(uflSpace.cell())"
   ]
  },
  {
   "cell_type": "markdown",
   "metadata": {},
   "source": [
    "Next we define the equation for the weak form, given by\n",
    "\n",
    "\\begin{equation}\n",
    "\\int_{\\Omega} uv + \\nabla u\\cdot\\nabla v \\ dx =  \\int_{\\Omega} f v \\ dx.\n",
    "\\end{equation}\n",
    "\n",
    "Here, we also take $f = \\cos(2\\pi x_0)\\cos(2\\pi x_1)$"
   ]
  },
  {
   "cell_type": "code",
   "execution_count": null,
   "metadata": {
    "collapsed": false
   },
   "outputs": [],
   "source": [
    "from math import pi\n",
    "from ufl import cos, as_vector, dx, grad, inner\n",
    "f = cos(2*pi*x[0])*cos(2*pi*x[1])\n",
    "exact = as_vector( [cos(2.*pi*x[0])*cos(2.*pi*x[1])] )\n",
    "equation = (inner(grad(u), grad(v)) + inner(u,v)) * dx == f * v[0] * dx\n",
    "equation"
   ]
  },
  {
   "cell_type": "markdown",
   "metadata": {},
   "source": [
    "We create the space and the model."
   ]
  },
  {
   "cell_type": "code",
   "execution_count": null,
   "metadata": {
    "collapsed": false
   },
   "outputs": [],
   "source": [
    "spc = create.space(\"Lagrange\", grid, dimrange=1, order=1)\n",
    "model = create.model(\"elliptic\", grid, equation, exact=exact, dirichlet={ 1:exact })"
   ]
  },
  {
   "cell_type": "markdown",
   "metadata": {},
   "source": [
    "We create the scheme and set parameters for the solver."
   ]
  },
  {
   "cell_type": "code",
   "execution_count": null,
   "metadata": {
    "collapsed": false
   },
   "outputs": [],
   "source": [
    "scheme = create.scheme(\"h1\", spc, model,\\\n",
    "       parameters=\\\n",
    "       {\"fem.solver.newton.linabstol\": 1e-10,\n",
    "        \"fem.solver.newton.linreduction\": 1e-10,\n",
    "        \"fem.solver.newton.verbose\": 0,\n",
    "        \"fem.solver.newton.linear.verbose\": 0})"
   ]
  },
  {
   "cell_type": "markdown",
   "metadata": {},
   "source": [
    "We create a grid function for our exact solution."
   ]
  },
  {
   "cell_type": "code",
   "execution_count": null,
   "metadata": {
    "collapsed": false
   },
   "outputs": [],
   "source": [
    "exact_gf = create.function(\"ufl\", grid, \"exact\", 5, exact)"
   ]
  },
  {
   "cell_type": "markdown",
   "metadata": {},
   "source": [
    "We set up a function for plotting the data using matplotlib."
   ]
  },
  {
   "cell_type": "code",
   "execution_count": null,
   "metadata": {
    "collapsed": false
   },
   "outputs": [],
   "source": [
    "try:\n",
    "    import matplotlib\n",
    "    from matplotlib import pyplot\n",
    "    from numpy import amin, amax, linspace\n",
    "    from IPython.core.display import display\n",
    "\n",
    "    def plot(grid, solution):\n",
    "        triangulation = grid.triangulation(4)\n",
    "        data = solution.pointData(4)\n",
    "\n",
    "        levels = linspace(amin(data[:,0]), amax(data[:,0]), 256)\n",
    "\n",
    "        fig = pyplot.figure()\n",
    "        fig.gca().set_aspect('equal')\n",
    "        pyplot.triplot(grid.triangulation(), antialiased=True, linewidth=0.2, color='black')\n",
    "        pyplot.tricontourf(triangulation, data[:,0], cmap=pyplot.cm.rainbow, levels=levels)\n",
    "        display(pyplot.gcf())\n",
    "except ImportError as e:\n",
    "    print(e)\n",
    "    def plot(grid, solution):\n",
    "        pass"
   ]
  },
  {
   "cell_type": "markdown",
   "metadata": {},
   "source": [
    "Now we solve the system. We assign the solution to `uh`, and define a function to calculate the $L^2$ error, i.e. $|u_h - u|_{L^2}$. We output the data to a vtk file with name `laplace`, and plot it using `plot`. Finally we refine the grid twice and repeat the process. "
   ]
  },
  {
   "cell_type": "code",
   "execution_count": null,
   "metadata": {
    "collapsed": false,
    "scrolled": false
   },
   "outputs": [],
   "source": [
    "from math import sqrt\n",
    "for i in range(2):\n",
    "    print(\"solve on level\", i, \"number of dofs=\", grid.size(2))\n",
    "    uh,_ = scheme.solve()\n",
    "    def l2error(en,x):\n",
    "        val = uh.localFunction(en).evaluate(x) - exact_gf.localFunction(en).evaluate(x)\n",
    "        return [ val[0]*val[0] ];\n",
    "    l2error_gf = create.function(\"local\", grid, \"error\", 5, l2error)\n",
    "    error = sqrt(l2error_gf.integrate()[0])\n",
    "\n",
    "    print(\"size:\", grid.size(0), \"L2-error:\", error)\n",
    "    grid.writeVTK(\"laplace\", pointdata=[uh, l2error_gf])\n",
    "\n",
    "    plot(grid, uh)\n",
    "\n",
    "    grid.hierarchicalGrid.globalRefine(2)"
   ]
  },
  {
   "cell_type": "markdown",
   "metadata": {},
   "source": [
    "Congratulations! You have successfully solved and visualized your first PDE using dune-fempy."
   ]
  }
 ],
 "metadata": {},
 "nbformat": 4,
 "nbformat_minor": 0
}
