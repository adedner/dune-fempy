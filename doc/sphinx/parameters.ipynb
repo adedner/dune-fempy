{
 "cells": [
  {
   "cell_type": "markdown",
   "metadata": {},
   "source": [
    "## Parameters\n",
    "Parameters can either be read from parameter files or directly added during the python session. A parameter can only be added once and not changed afterwards. The parameters can be read by any part of the C++ code (or python code for that matter. For indvidual classes the default parameters used can be replaced by passing in an additional dictonary during construction. Parameters defined in that dictonary will replace the global parameters which will be used as default value for any parameter missing in the user provided dictonary. In this example we use a simple [parameter file][1]\n",
    "[1]: parameter"
   ]
  },
  {
   "cell_type": "code",
   "execution_count": null,
   "metadata": {
    "collapsed": false
   },
   "outputs": [],
   "source": [
    "from dune.fem import parameter\n",
    "parameter.append( \"parameter\" )\n",
    "parameter.append( {\"hallo\": 12, \"wie\": 20, \"gehts\": \"gut?\" } )    \n",
    "parameter.append( \"hallo\", 11. )\n",
    "parameter[\"quark\"] = 12\n",
    "parameter.append( \"mir\", \"auch\" )\n",
    "print(parameter[\"mir\"])"
   ]
  },
  {
   "cell_type": "markdown",
   "metadata": {},
   "source": [
    "All parameters can be easily printed. They are sorted first by the local from which they were read (files or program code). Parameters proceeded by a `#` have not yet been read."
   ]
  },
  {
   "cell_type": "code",
   "execution_count": null,
   "metadata": {
    "collapsed": false
   },
   "outputs": [],
   "source": [
    "print(parameter)"
   ]
  },
  {
   "cell_type": "code",
   "execution_count": null,
   "metadata": {
    "collapsed": false
   },
   "outputs": [],
   "source": []
  }
 ],
 "metadata": {},
 "nbformat": 4,
 "nbformat_minor": 1
}
