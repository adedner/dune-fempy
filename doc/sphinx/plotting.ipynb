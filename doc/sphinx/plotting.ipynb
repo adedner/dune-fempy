{
 "cells": [
  {
   "cell_type": "markdown",
   "metadata": {},
   "source": [
    "# DG Schemes [(Notebook)][1]\n",
    "\n",
    "[1]: _downloads/plotting.ipynb\n",
    "show the\n",
    "- dgscheme\n",
    "- galerkin schemes"
   ]
  },
  {
   "cell_type": "markdown",
   "metadata": {},
   "source": [
    "Let us consider a simple Laplace problem with Dirichlet boundary conditions:\n",
    "\\begin{equation*}\n",
    "  \\begin{aligned}\n",
    "    -\\Delta u &= \\sin(\\pi x_1) \\sin(\\pi x_2) && \\text{in $\\Omega$}, \\\\\n",
    "            u &= 0 && \\text{on $\\partial\\Omega$}.\n",
    "  \\end{aligned}\n",
    "\\end{equation*}\n",
    "\n",
    "First, we need to set up a computational grid and a discontinuous ansatz space on it. Here, we use the orthonormal discontinuous space:"
   ]
  },
  {
   "cell_type": "code",
   "execution_count": null,
   "metadata": {
    "collapsed": false
   },
   "outputs": [],
   "source": [
    "try:\n",
    "    %matplotlib inline # can also use notebook or nbagg\n",
    "except:\n",
    "    pass\n",
    "from dune.grid import cartesianDomain\n",
    "from dune.fem import parameter\n",
    "from dune.fem.plotting import plotPointData as plot\n",
    "\n",
    "import dune.create as create\n",
    "\n",
    "parameter.append({\"fem.verboserank\": 0, \"istl.preconditioning.method\": \"ilu-0\", \"istl.preconditioning.iterations\": 1, \"istl.preconditioning.relaxation\": 1.2})\n",
    "\n",
    "grid = create.grid(\"ALUConform\", cartesianDomain([0,0],[1,1],[16,16]), dimgrid=2)\n",
    "spc = create.space(\"DGONB\", grid, dimrange=1, order=2, storage=\"istl\")"
   ]
  },
  {
   "cell_type": "markdown",
   "metadata": {},
   "source": [
    "The classical IPDG method for this problem reads\n",
    "\\begin{equation*}\n",
    "  \\int_\\Omega \\nabla u\\,\\nabla \\varphi\\,dx\n",
    "    - \\int_\\Gamma ([[u]] \\otimes \\vec{n} : \\{\\{\\nabla \\varphi\\}\\} + \\{\\{\\nabla u\\}\\} : [[\\varphi]] \\otimes \\vec{n}\\,dx\n",
    "    + \\int_\\Gamma \\frac{\\mu}{h} [[u]] [[\\varphi]]\n",
    "    = 0.\n",
    "\\end{equation*}\n",
    "\n",
    "The following code implements this equation in UFL notation:"
   ]
  },
  {
   "cell_type": "code",
   "execution_count": null,
   "metadata": {
    "collapsed": false
   },
   "outputs": [],
   "source": [
    "import math\n",
    "from ufl import *\n",
    "\n",
    "from dune.ufl import Space\n",
    "\n",
    "grid = create.grid(\"ALUConform\", cartesianDomain([0,0],[1,1],[16,16]), dimgrid=2)\n",
    "spc = create.space(\"DGONB\", grid, dimrange=1, order=2, storage=\"istl\")\n",
    "\n",
    "uflSpace = Space((grid.dimGrid, grid.dimWorld), 1)\n",
    "u = TrialFunction(uflSpace)\n",
    "v = TestFunction(uflSpace)\n",
    "x = SpatialCoordinate(uflSpace.cell())\n",
    "n, h = FacetNormal(uflSpace.cell()), MinFacetEdgeLength(uflSpace.cell())\n",
    "mu = 7.5 / h\n",
    "\n",
    "a = inner(grad(u), grad(v)) * dx\n",
    "a -= (inner(outer(jump(u), n('+')), avg(grad(v))) + inner(avg(grad(u)), outer(jump(v), n('+')))) * dS\n",
    "a += mu * inner(jump(u), jump(v)) * dS\n",
    "a -= (inner(outer(u, n), grad(v)) + inner(grad(u), outer(v, n))) * ds\n",
    "a += mu * inner(u, v) * ds\n",
    "\n",
    "b = sin(pi*x[0])*sin(pi*x[1])*v[0]*dx"
   ]
  },
  {
   "cell_type": "markdown",
   "metadata": {},
   "source": [
    "Next, we compile this into the *integrands*, plug them into the *galerkin* scheme and solve the problem:"
   ]
  },
  {
   "cell_type": "code",
   "execution_count": null,
   "metadata": {
    "collapsed": false
   },
   "outputs": [],
   "source": [
    "model = create.model(\"integrands\", grid, a == b)\n",
    "\n",
    "newtonParameter = {\"linabstol\": 1e-13, \"linreduction\": 1e-13, \"tolerance\": 1e-12, \"verbose\": \"true\", \"linear.verbose\": \"false\"}\n",
    "scheme = create.scheme(\"galerkin\", spc, model, parameters={\"fem.solver.newton.\" + k: v for k, v in newtonParameter.items()})\n",
    "\n",
    "uh, _ = scheme.solve()"
   ]
  },
  {
   "cell_type": "markdown",
   "metadata": {},
   "source": [
    "The result looks as follows:"
   ]
  },
  {
   "cell_type": "code",
   "execution_count": null,
   "metadata": {
    "collapsed": false
   },
   "outputs": [],
   "source": [
    "plot(grid, uh)"
   ]
  },
  {
   "cell_type": "code",
   "execution_count": null,
   "metadata": {
    "collapsed": false
   },
   "outputs": [],
   "source": [
    "def expr_global(x):\n",
    "    return [math.sin(x[1]), math.cos(x[0])]\n",
    "f = create.function(\"global\", grid, \"expr_global\", 3, expr_global)\n",
    "plot(grid,f,component=-1,showGrid=True)"
   ]
  },
  {
   "cell_type": "code",
   "execution_count": null,
   "metadata": {
    "collapsed": false
   },
   "outputs": [],
   "source": [
    "from dune.fem.plotting import plotComponents as plotC\n",
    "plotC(grid,f,showGrid=False)"
   ]
  },
  {
   "cell_type": "code",
   "execution_count": null,
   "metadata": {
    "collapsed": false
   },
   "outputs": [],
   "source": [
    "plot(grid,f,component=-2,showGrid=False)"
   ]
  },
  {
   "cell_type": "code",
   "execution_count": null,
   "metadata": {
    "collapsed": false
   },
   "outputs": [],
   "source": []
  }
 ],
 "metadata": {},
 "nbformat": 4,
 "nbformat_minor": 0
}
