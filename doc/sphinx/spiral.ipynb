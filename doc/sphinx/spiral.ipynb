{
 "cells": [
  {
   "cell_type": "markdown",
   "metadata": {},
   "source": [
    "#  Spiral Wave"
   ]
  },
  {
   "cell_type": "code",
   "execution_count": null,
   "metadata": {
    "collapsed": false
   },
   "outputs": [],
   "source": [
    "from __future__ import print_function\n",
    "import math\n",
    "from functools import reduce\n",
    "\n",
    "import ufl\n",
    "\n",
    "import dune.ufl\n",
    "import dune.grid\n",
    "import dune.models.elliptic\n",
    "import dune.fem\n",
    "import dune.create as create\n",
    "\n",
    "# http://www.scholarpedia.org/article/Barkley_model\n",
    "dimRange   = 2\n",
    "dt         = 0.25\n",
    "if 1:\n",
    "    spiral_a   = 0.75\n",
    "    spiral_b   = 0.02\n",
    "    spiral_eps = 0.02\n",
    "    spiral_D   = 1./100\n",
    "    def spiral_h(u,v): return u - v\n",
    "else:\n",
    "    spiral_a   = 0.75\n",
    "    spiral_b   = 0.0006\n",
    "    spiral_eps = 0.08\n",
    "    def spiral_h(u,v): return u**3 - v\n",
    "\n",
    "def initial(x):\n",
    "    return [ 1   if x[1]>1.25 else 0,\\\n",
    "             0.5 if x[0]<1.25 else 0. ]"
   ]
  },
  {
   "cell_type": "code",
   "execution_count": null,
   "metadata": {
    "collapsed": false
   },
   "outputs": [],
   "source": [
    "# set up reference domain\n",
    "domain = dune.grid.cartesianDomain([0,0],[3.5,3.5],[40,40])\n",
    "domain = dune.grid.cartesianDomain([0,0],[2.5,2.5],[30,30])\n",
    "grid = create.grid(\"Yasp\", domain, dimgrid=2)\n",
    "spc  = create.space( \"Lagrange\", grid, dimrange=dimRange, order=1 )\n",
    "\n",
    "solution    = spc.interpolate( initial, name=\"solution\" )\n",
    "solution_n  = spc.interpolate( initial, name=\"solution_n\" )\n",
    "forcing     = spc.interpolate( [0,0,0], name=\"forcing\" )"
   ]
  },
  {
   "cell_type": "code",
   "execution_count": null,
   "metadata": {
    "collapsed": false
   },
   "outputs": [],
   "source": [
    "uflSpace = dune.ufl.Space((grid.dimGrid, grid.dimWorld), dimRange)\n",
    "u = ufl.TrialFunction(uflSpace)\n",
    "v = ufl.TestFunction(uflSpace)\n",
    "un = dune.ufl.NamedCoefficient(uflSpace, \"un\")\n",
    "\n",
    "# right hand sie (time derivative part + explicit forcing in v)\n",
    "a_ex = (ufl.inner(un, v) + dt * ufl.inner(spiral_h(un[0], un[1]), v[1])) * ufl.dx\n",
    "# left hand side (heat equation in first variable + backward Euler in time)\n",
    "a_im = (dt * spiral_D * ufl.inner(ufl.grad(u[0]), ufl.grad(v[0])) + ufl.inner(u,v)) * ufl.dx\n",
    "\n",
    "modelCode = dune.models.elliptic.compileUFL(a_im == a_ex)\n",
    "\n",
    "# extra model source code\n",
    "# -----------------------\n",
    "sourceCode = \"\"\"\\\n",
    "      double uth = (@gf:un[ 1 ] + @const:b) / @const:a;\n",
    "      if( @gf:un[ 0 ] <= uth )\n",
    "        result[ 0 ] -= @const:dt/@const:eps * u[ 0 ] * (1.0 - @gf:un[ 0 ]) * (@gf:un[ 0 ] - uth);\n",
    "      else\n",
    "        result[ 0 ] -= @const:dt/@const:eps * @gf:un[ 0 ] * (1.0 - u[ 0 ]) * (@gf:un[ 0 ] - uth);\n",
    "\"\"\"\n",
    "linSourceCode = \"\"\"\\\n",
    "      double uth = (@gf:un[ 1 ] + @const:b) / @const:a;\n",
    "      if( @gf:un[ 0 ] <= uth )\n",
    "        result[ 0 ] -= @const:dt/@const:eps * u[ 0 ] * (1.0 - @gf:un[ 0 ]) * (@gf:un[ 0 ] - uth);\n",
    "      else\n",
    "        result[ 0 ] -= @const:dt/@const:eps * @gf:un[ 0 ] * (-u[ 0 ]) * (@gf:un[ 0 ] - uth);\n",
    "\"\"\"\n",
    "modelCode.appendCode('source', sourceCode, coefficients={\"un\": solution_n} )\n",
    "modelCode.appendCode('linSource', linSourceCode )"
   ]
  },
  {
   "cell_type": "code",
   "execution_count": null,
   "metadata": {
    "collapsed": false
   },
   "outputs": [],
   "source": [
    "model = create.model(\"elliptic\", grid, modelCode, coefficients={\"un\": solution_n} )\n",
    "model.setConstant(\"a\", [spiral_a])\n",
    "model.setConstant(\"b\", [spiral_b])\n",
    "model.setConstant(\"eps\", [spiral_eps])\n",
    "model.setConstant(\"dt\", [dt])\n",
    "solverParameters = {\n",
    "        \"fem.solver.newton.tolerance\": 1e-3,\n",
    "        \"fem.solver.newton.linabstol\": 1e-5,\n",
    "        \"fem.solver.newton.linreduction\": 1e-5,\n",
    "        \"fem.solver.newton.verbose\": 0,\n",
    "        \"fem.solver.newton.linear.verbose\": 0\n",
    "    }\n",
    "scheme = create.scheme(\"h1\", spc, model, (\"pardg\",\"cg\"),parameters=solverParameters)"
   ]
  },
  {
   "cell_type": "code",
   "execution_count": null,
   "metadata": {
    "collapsed": false
   },
   "outputs": [],
   "source": [
    "import matplotlib.pyplot as plt\n",
    "from numpy import linspace\n",
    "from matplotlib import animation, rc\n",
    "rc('animation', html='html5')\n",
    "fig, ax = plt.subplots()\n",
    "ax.set_xlim(( 0, 2.5))\n",
    "ax.set_ylim(( 0, 2.5))\n",
    "triangulation = grid.triangulation(1)\n",
    "levels = linspace(-0.1, 1.1, 256)\n",
    "ax.set_aspect('equal')\n",
    "t        = 0.\n",
    "stepsize = 0.5\n",
    "nextstep = 0.\n",
    "iterations = 0\n",
    "\n",
    "def animate(count):  \n",
    "    global t, stepsize, nextstep, iterations, dt, solution\n",
    "    # print('frame',count,t)\n",
    "    while t < nextstep: \n",
    "        solution_n.assign(solution)\n",
    "        _,info = scheme.solve(target=solution)\n",
    "        # print(\"Computing solution a t = \" + str(t + dt), \"iterations: \" + info[\"linear_iterations\"] )\n",
    "        iterations += int( info[\"linear_iterations\"] )\n",
    "        t     += dt\n",
    "    data = solution.pointData(1)\n",
    "    plt.tricontourf(triangulation, data[:,0], cmap=plt.cm.rainbow, levels=levels)\n",
    "    # grid.writeVTK(\"spiral\", pointdata=[solution], number=count)\n",
    "    nextstep += stepsize"
   ]
  },
  {
   "cell_type": "code",
   "execution_count": null,
   "metadata": {
    "collapsed": false,
    "scrolled": false
   },
   "outputs": [],
   "source": [
    "animation.FuncAnimation(fig, animate, frames=25, interval=100, blit=False)"
   ]
  }
 ],
 "metadata": {},
 "nbformat": 4,
 "nbformat_minor": 1
}
