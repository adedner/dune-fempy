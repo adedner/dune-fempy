{
 "cells": [
  {
   "cell_type": "markdown",
   "metadata": {},
   "source": [
    "# Spiral Wave\n",
    "\n",
    "This demonstrates the simulation of spiral waves in an excitable media. It consists of system of reaction diffusion equations with two components. Both the model parameters and the approach for discretizing the system are taken from http://www.scholarpedia.org/article/Barkley_model.\n",
    "\n",
    "We use the _Barkley model_ in its simplest form:\n",
    "\\begin{align*}\n",
    "\\frac{\\partial u}{\\partial_t} &= \\frac{1}{\\varepsilon}f(u,v) + \\Delta u \\\\\n",
    "\\frac{\\partial v}{\\partial_t} &= h(u,v)\n",
    "\\end{align*}\n",
    "where\n",
    "\\begin{equation*}\n",
    "f(u,v)=u\\Big(1-u\\Big)\\Big(u-\\frac{v+b}{a}\\Big)\n",
    "\\end{equation*}\n",
    "The function $h$ can take different forms, e.g., in its simplest form\n",
    "\\begin{equation*}\n",
    "h(u,v) = u - v~.\n",
    "\\end{equation*}\n",
    "Finally, $\\varepsilon,a,b$ for more details on how to chose these parameters check the web page provided above.\n",
    "\n",
    "We employ a carefully constructed linear time stepping scheme for this model: let $u^n,v^n$ be given functions approximating the solution at a time $t^n$. To compute approximations $u^{m+1},v^{m+1}$ at a later time\n",
    "$t^{n+1}=t^n+\\tau$ we first split up the non linear function $f$ as follows:\n",
    "\\begin{align*}\n",
    "f(u,v) = f_I(u,u,v) + f_E(u,v)\n",
    "\\end{align*}\n",
    "where using $u^*(V):=\\frac{V+b}{a}$:\n",
    "\\begin{align*}\n",
    "f_I(u,U,V) &= \\begin{cases}\n",
    "u\\;(1-U)\\;(\\;U-U^*(V)\\;) & U < U^*(V) \\\\\n",
    "-u\\;U\\;(\\;U-U^*(V)\\;)    & U \\geq U^*(V)\n",
    "\\end{cases} \\\\\n",
    "\\text{and} \\\\\n",
    "f_E(U,V) &= \\begin{cases}\n",
    "0 & U < U^*(V) \\\\\n",
    "U\\;(\\;U-U^*(V)\\;)    & U \\geq U^*(V)\n",
    "\\end{cases} \\\\\n",
    "\\end{align*}\n",
    "Thus $f_I(u,U,V) = -m(U,V)u$ with\n",
    "\\begin{align*}\n",
    "m(U,V) &= \\begin{cases}\n",
    "(U-1)\\;(\\;U-U^*(V)\\;) & U < U^*(V) \\\\\n",
    "U\\;(\\;U-U^*(V)\\;)    & U \\geq U^*(V)\n",
    "\\end{cases}\n",
    "\\end{align*}\n",
    "Note that $u,v$ are assumed to take values only between zero and one so that therefore $m(u^n,v^n) > 0$. Therefore, the following time discrete version of the Barkley model has a linear, positive definite elliptic operator on its left hand side:\n",
    "\\begin{align*}\n",
    "-\\tau\\Delta u^{n+1} +\n",
    "(1+\\frac{\\tau}{\\varepsilon} m(u^n,v^n))\\; u^{n+1}\n",
    "&= u^n + \\frac{\\tau}{\\varepsilon} f_E(u^n,v^n) \\\\\n",
    "v^{n+1} &= v^n + \\tau h(u^n,v^n)\n",
    "\\end{align*}\n",
    "Which can now be solved using a finite element discretization for $u^n,v^n$.\n",
    "\n",
    "Note that by taking the slow reaction $h(u,v)$ explicitly, the equation for $v^{n+1}$ is purely algebraic. We will therefore construct a scalar model for computing $u^{n+1}$ only and compute $v^{{n+1}}$ be using the interpolation method on the space applied to\n",
    "$v^n + \\tau h(u^n,v^n)$.\n",
    "\n",
    "Let's get started by importing some standard python packages, ufl, and some part of the dune-fempy package:"
   ]
  },
  {
   "cell_type": "code",
   "execution_count": 1,
   "metadata": {
    "collapsed": false
   },
   "outputs": [],
   "source": [
    "import math\n",
    "import ufl\n",
    "import dune.ufl\n",
    "import dune.grid\n",
    "import dune.fem"
   ]
  },
  {
   "cell_type": "markdown",
   "metadata": {},
   "source": [
    "In our attempt we will discretize the model as a 2x2 system. Here are some possible model parameters and initial conditions (we even have two sets of model parameters to choose from):"
   ]
  },
  {
   "cell_type": "code",
   "execution_count": 2,
   "metadata": {
    "collapsed": false
   },
   "outputs": [],
   "source": [
    "dimRange   = 1\n",
    "dt         = 0.25\n",
    "linearSpiral = True\n",
    "\n",
    "if linearSpiral:\n",
    "    spiral_a   = 0.75\n",
    "    spiral_b   = 0.02\n",
    "    spiral_eps = 0.02\n",
    "    spiral_D   = 1./100\n",
    "    def spiral_h(u,v): return u - v\n",
    "else:\n",
    "    spiral_a   = 0.75\n",
    "    spiral_b   = 0.0006\n",
    "    spiral_eps = 0.08\n",
    "    def spiral_h(u,v): return u**3 - v\n",
    "\n",
    "initial_u = lambda x: [1   if x[1]>1.25 else 0]\n",
    "initial_v = lambda x: [0.5 if x[0]<1.25 else 0]"
   ]
  },
  {
   "cell_type": "markdown",
   "metadata": {},
   "source": [
    "Now we set up the reference domain, the Lagrange finite element space (second order), and discrete functions for $(u^n,v^n($, $(u^{n+1},v^{n+1})$:"
   ]
  },
  {
   "cell_type": "code",
   "execution_count": 3,
   "metadata": {
    "collapsed": false
   },
   "outputs": [],
   "source": [
    "gridView = dune.grid.structuredGrid([0,0],[2.5,2.5],[30,30])\n",
    "space    = dune.fem.space.lagrange( gridView, dimRange=dimRange, order=1 )\n",
    "\n",
    "uh   = space.interpolate( initial_u, name=\"u\" )\n",
    "uh_n = uh.copy()\n",
    "vh   = space.interpolate( initial_v, name=\"v\" )\n",
    "vh_n = vh.copy()"
   ]
  },
  {
   "cell_type": "markdown",
   "metadata": {},
   "source": [
    "We define the model in two steps:\n",
    "- first we define the standard parts, not involving $f_E,f_I$:\n",
    "- then we add the missing parts with the required _if_ statement directly using C++ code"
   ]
  },
  {
   "cell_type": "code",
   "execution_count": 4,
   "metadata": {
    "collapsed": false
   },
   "outputs": [],
   "source": [
    "u   = ufl.TrialFunction(space)\n",
    "phi = ufl.TestFunction(space)\n",
    "\n",
    "# right hand sie (time derivative part\n",
    "a_ex = ufl.inner(uh_n, phi) * ufl.dx\n",
    "# left hand side (heat equation in first variable + backward Euler in time)\n",
    "a_im = (dt * spiral_D * ufl.inner(ufl.grad(u), ufl.grad(phi)) +\n",
    "        ufl.inner(u,phi)) * ufl.dx\n",
    "\n",
    "ustar = (vh_n[0]+spiral_b)/spiral_a\n",
    "a_ex += ufl.conditional(uh_n[0]<ustar, dt/spiral_eps* u[0]*(1-uh_n[0])*(uh_n[0]-ustar),\n",
    "                                       dt/spiral_eps*uh_n[0]*(1-u[0]) *(uh_n[0]-ustar) ) * phi[0] * ufl.dx\n",
    "\n",
    "equation   = a_im == a_ex\n",
    "ode_update = ufl.as_vector([ vh_n[0] + dt*spiral_h(uh_n[0], vh_n[0]) ])"
   ]
  },
  {
   "cell_type": "markdown",
   "metadata": {},
   "source": [
    "The model is now completely implemented and can be created, together with the corresponding scheme:"
   ]
  },
  {
   "cell_type": "code",
   "execution_count": 5,
   "metadata": {
    "collapsed": false
   },
   "outputs": [],
   "source": [
    "solverParameters =\\\n",
    "       {\"newton.tolerance\": 1e-3,\n",
    "        \"newton.verbose\": False,\n",
    "        \"newton.linear.tolerance\": 1e-5,\n",
    "        \"newton.linear.preconditioning.method\": \"jacobi\",\n",
    "        \"newton.linear.verbose\": False}\n",
    "scheme = dune.fem.scheme.galerkin( equation, space, solver=\"cg\", parameters=solverParameters)"
   ]
  },
  {
   "cell_type": "markdown",
   "metadata": {},
   "source": [
    "To show the solution we make use of the _animate_ module of _matplotlib_.\n",
    "Here is the `stepping` functions:"
   ]
  },
  {
   "cell_type": "code",
   "execution_count": 6,
   "metadata": {
    "collapsed": false
   },
   "outputs": [],
   "source": [
    "def init():\n",
    "    data = uh.pointData(1)\n",
    "    C = plt.tricontourf(triangulation, data[:,0], cmap=plt.cm.rainbow, levels=levels)\n",
    "    return C.collections\n",
    "def animate(count):\n",
    "    global t,stepsize,nextstep\n",
    "    nextstep += stepsize\n",
    "    # print(count,t,stepsize,nextstep)\n",
    "    while t < nextstep:\n",
    "        uh_n.assign(uh)\n",
    "        vh_n.assign(vh)\n",
    "        info = scheme.solve(target=uh)\n",
    "        vh.interpolate( ode_update )\n",
    "        # print(\"Computing solution a t = \" + str(t + dt), \"iterations: \" + str(info[\"linear_iterations\"]) )\n",
    "        t += dt\n",
    "    data = uh.pointData(1)\n",
    "    C = plt.tricontourf(triangulation, data[:,0], cmap=plt.cm.rainbow, levels=levels)\n",
    "    # gridView.writeVTK(\"spiral\", pointdata=[uh], number=count)\n",
    "    return C.collections"
   ]
  },
  {
   "cell_type": "markdown",
   "metadata": {},
   "source": [
    "And generate the movie:"
   ]
  },
  {
   "cell_type": "code",
   "execution_count": 7,
   "metadata": {
    "collapsed": false
   },
   "outputs": [
    {
     "name": "stderr",
     "output_type": "stream",
     "text": [
      "2019-09-15 14:04:42,997 - matplotlib.animation - WARNING - MovieWriter ffmpeg unavailable; trying to use <class 'matplotlib.animation.ImageMagickWriter'> instead.\n"
     ]
    },
    {
     "data": {
      "image/png": "[encoded data removed]",
      "text/plain": [
       "<Figure size 432x288 with 1 Axes>"
      ]
     },
     "metadata": {
      "needs_background": "light"
     },
     "output_type": "display_data"
    }
   ],
   "source": [
    "import matplotlib.pyplot as plt\n",
    "from matplotlib import animation, rc\n",
    "\n",
    "from numpy import linspace\n",
    "fig, ax = plt.subplots()\n",
    "ax.set_xlim(( 0, 2.5))\n",
    "ax.set_ylim(( 0, 2.5))\n",
    "triangulation = gridView.triangulation(1)\n",
    "levels = linspace(-0.1, 1.1, 256)\n",
    "ax.set_aspect('equal');\n",
    "t        = 0.\n",
    "stepsize = 0.5\n",
    "nextstep = 0.\n",
    "anim = animation.FuncAnimation(fig, animate, init_func=init, frames=20, interval=100, blit=True)\n",
    "\n",
    "try:\n",
    "    movie = anim.to_html5_video()\n",
    "    from IPython.display import HTML, display\n",
    "    display( HTML(movie) )\n",
    "except: # ffmpeg probably missing\n",
    "    anim.save(\"spiral.html\")\n",
    "    try:\n",
    "        from IPython.display import IFrame\n",
    "        IFrame(src='./nice.html', width=700, height=600)\n",
    "    except:\n",
    "        pass"
   ]
  },
  {
   "cell_type": "markdown",
   "metadata": {},
   "source": [
    "... if the movie is not showing you might have to rerun the notebook ..."
   ]
  }
 ],
 "metadata": {
  "language_info": {
   "codemirror_mode": {
    "name": "ipython",
    "version": 3
   },
   "file_extension": ".py",
   "mimetype": "text/x-python",
   "name": "python",
   "nbconvert_exporter": "python",
   "pygments_lexer": "ipython3",
   "version": "3.7.3"
  }
 },
 "nbformat": 4,
 "nbformat_minor": 2
}
