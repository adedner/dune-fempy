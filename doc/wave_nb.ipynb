{
 "cells": [
  {
   "cell_type": "markdown",
   "metadata": {},
   "source": [
    "# Wave Equation in a Slit Domain\n",
    "\n",
    "In the following we will consider the wave equation\n",
    "\\begin{align*}\n",
    "\\partial_{tt}\\psi - \\Delta\\psi &= 0, && \\text{in } \\Omega\\times(0,T), \\\\\n",
    "\\psi &= g, && \\text{on } \\Gamma_D\\times(0,T), \\\\\n",
    "\\nabla\\psi\\cdot n &= 0 && \\text{on } \\partial\\Omega\\setminus\\Gamma_D,\n",
    "\\end{align*}\n",
    "where $n$ is the outward unit normal and $g$ is given Dirichlet data\n",
    "given on part of the domain boundary. We repeat a double slit experiment,\n",
    "i.e., we have a wave channel which ends in two slits on the right and\n",
    "forcing the wave on the left end by defining $g=\\frac{1}{10\\pi}\\cos(10\\pi t)$.\n",
    "\n",
    "We discretize the wave equation by an explicit symplectic time stepping\n",
    "scheme for two unknowns $\\psi^n$ and $p^n$ where $p=-\\partial_t\\psi$ based\n",
    "on\n",
    "\\begin{align*}\n",
    "\\partial_t \\psi = -p, \\\\\n",
    "\\partial_t p    = -\\triangle\\psi\n",
    "\\end{align*}\n",
    "The discretization first updates $\\psi$ by half a time step then updates\n",
    "$p$ and concludes by another update step for $\\psi$. So given\n",
    "$(\\psi^n,p^n)$ we compute\n",
    "\\begin{align*}\n",
    "\\psi^{n+\\frac{1}{2}} &= \\psi^n - \\frac{\\Delta t}{2}p^n, \\\\\n",
    "p^{n+1}              &=\n",
    "\\begin{cases}\n",
    "p^n - \\triangle\\psi^{n+\\frac{1}{2}} & \\text{in the interior}, \\\\\n",
    "g(t^{n+1}) & \\text{on }\\Gamma_D\n",
    "\\end{cases} \\\\\n",
    "\\psi^{n+1}           &= \\psi^{n+\\frac{1}{2}} - \\frac{\\Delta t}{2}p^{n+1}.\n",
    "\\end{align*}\n",
    "Note that the update for $\\psi$ does not involve any spatial derivatives\n",
    "so can be performed directly on the level of the degree of freedom\n",
    "vectors. We use *numpy* for these steps. For the update of $p$ we\n",
    "use a variational formulation\n",
    "\\begin{align*}\n",
    "\\vec{p} &= \\vec{p} + M^{-1}S\\vec{\\psi}\n",
    "\\end{align*}\n",
    "where $S$ is the stiffness matrix\n",
    "$S=(\\int_\\Omega\\nabla\\varphi_j\\nabla\\varphi_i)_{ij}$ and $M$ is the mass\n",
    "matrix, i.e., $M=\\int_\\Omega\\varphi_j\\varphi_i)_{ij}$. To simplify the\n",
    "computation we use a lumped version of this matrix, i.e,,\n",
    "$M\\approx{\\rm diag}(\\int_\\Omega\\varphi_i)$. In this form the algorithm\n",
    "only involves a matrix vector multiplication and no implicit solving step\n",
    "is required.\n",
    "\n",
    "The following test case is taken from\n",
    "https://firedrakeproject.org/demos/linear_wave_equation.py.html"
   ]
  },
  {
   "cell_type": "code",
   "execution_count": 1,
   "metadata": {
    "collapsed": false
   },
   "outputs": [],
   "source": [
    "import matplotlib\n",
    "matplotlib.rc( 'image', cmap='jet' )\n",
    "import math\n",
    "import dune.fem as fem\n",
    "from dune.grid import reader\n",
    "from dune.alugrid import aluConformGrid as leafGridView\n",
    "from dune.fem.space import lagrange as solutionSpace\n",
    "from ufl import TrialFunction, TestFunction, grad, dot, dx\n",
    "from dune.ufl import Constant, BoxDirichletBC\n",
    "fem.parameter.append({\"fem.verboserank\":-1})\n",
    "T = 3\n",
    "dt = 0.005\n",
    "t = 0"
   ]
  },
  {
   "cell_type": "markdown",
   "metadata": {},
   "source": [
    "We use *gmsh* to define the domain and then set up a first order\n",
    "scalar Lagrange space which we will use both for $\\psi$ and $p$. We can\n",
    "construct general grids by either defining the grids directly in Python\n",
    "(as demonstrated in the following example) or by reading the grid from\n",
    "files using readers provided by Dune, e.g., Dune Grid Format (dgf) files\n",
    "or Gmsh files."
   ]
  },
  {
   "cell_type": "code",
   "execution_count": 2,
   "metadata": {
    "collapsed": false
   },
   "outputs": [],
   "source": [
    "domain = (reader.gmsh, \"wave_tank.msh\")\n",
    "gridView  = leafGridView( domain, dimgrid=2 )\n",
    "gridView.hierarchicalGrid.loadBalance()\n",
    "V = solutionSpace(gridView, order=1, storage=\"fem\")\n",
    "\n",
    "p      = V.interpolate(0,name=\"p\")\n",
    "phi    = V.interpolate(0,name=\"phi\")\n",
    "pVec   = p.as_numpy\n",
    "phiVec = phi.as_numpy"
   ]
  },
  {
   "cell_type": "markdown",
   "metadata": {},
   "source": [
    "Next we define an operator for the stiffness matrix including the\n",
    "boundary condition which are time dependent so we use a `Constant` for\n",
    "this. We use the `BoxDirichletBC` class which is derived from the more\n",
    "general `DirichletBC` class which takes a function space, the boundary\n",
    "function $g$ as a ufl expression, and finally a description of the part\n",
    "$\\Gamma_D$ of the boundary where this boundary condition is defined.\n",
    "This can be a ufl expression which evaluates to $0$ for\n",
    "$x\\not\\in\\Gamma_D$, e.g., an ufl `conditional`.\n",
    "\n",
    "Note that the stiffness matrix does not depend on time so we can\n",
    "assemble the matrix once and extract the corresponding sscipy*\n",
    "sparse matrix."
   ]
  },
  {
   "cell_type": "code",
   "execution_count": 3,
   "metadata": {
    "collapsed": false
   },
   "outputs": [],
   "source": [
    "u    = TrialFunction(V)\n",
    "v    = TestFunction(V)\n",
    "p_in = Constant(0.0, name=\"g\")\n",
    "# the following is equivalent to\n",
    "# x    = SpatialCoordinate(V)\n",
    "# bc   = DirichletBC(V, p_in, conditional(x[0]<1e-10,1,0))\n",
    "bc   = BoxDirichletBC(V, p_in, [None,None],[0,None], eps=1e-10)\n",
    "\n",
    "from dune.fem.operator import galerkin,linear\n",
    "op        = galerkin([dot(grad(u),grad(v))*dx,bc])\n",
    "S         = linear(op).as_numpy\n",
    "lapPhi    = V.interpolate(1,name=\"e\")\n",
    "lapPhiVec = lapPhi.as_numpy"
   ]
  },
  {
   "cell_type": "markdown",
   "metadata": {},
   "source": [
    "Next we multiply the inverse lumped mass matrix to $S$, i.e., we form the\n",
    "matrix $\\Delta t M^{-1}S$ where $M$ is a diagonal matrix with entries\n",
    "$m_{ii} = \\int_\\Omega\\varphi_i$. To compute these values we construct the\n",
    "mass operator $<L[u],\\varphi_i> = \\int_\\Omega u\\varphi_i$ and apply it to\n",
    "$u\\equiv 1$"
   ]
  },
  {
   "cell_type": "code",
   "execution_count": 4,
   "metadata": {
    "collapsed": false
   },
   "outputs": [],
   "source": [
    "from scipy.sparse import dia_matrix\n",
    "lumping = galerkin(u*v*dx)\n",
    "lumped = lapPhi.copy()\n",
    "lumping(lapPhi,lumped)       # note that lapPhi=1\n",
    "N = len(lumped.as_numpy)\n",
    "M = dia_matrix(([dt/lumped.as_numpy],[0]),shape=(N,N) )\n",
    "S = M*S"
   ]
  },
  {
   "cell_type": "markdown",
   "metadata": {},
   "source": [
    "We can now set up the time loop and perform our explicit time stepping\n",
    "algorithm. Note that the computation is carried out completely using\n",
    "*numpy* and *scipy* algorithms we the exception of setting the\n",
    "boundary conditions. This is done using the `setConstraints` method on\n",
    "the stiffness operator which we constructed passing in the boundary\n",
    "conditions. At the time of writing it is not yet possible to extract a\n",
    "sparse matrix and vector encoding the boundary constraint."
   ]
  },
  {
   "cell_type": "code",
   "execution_count": 5,
   "metadata": {
    "collapsed": false
   },
   "outputs": [
    {
     "data": {
      "image/png": "[encoded data removed]",
      "text/plain": [
       "<Figure size 432x288 with 2 Axes>"
      ]
     },
     "metadata": {
      "needs_background": "light"
     },
     "output_type": "display_data"
    }
   ],
   "source": [
    "step = 0\n",
    "while t <= T:\n",
    "    step += 1\n",
    "    phiVec[:] -= pVec[:]*dt/2\n",
    "    pVec[:]   += S*phiVec[:]\n",
    "    t += dt\n",
    "    # set the values on the Dirichlet boundary\n",
    "    op.model.g = math.sin(2*math.pi*5*t)\n",
    "    op.setConstraints(p)\n",
    "    phiVec[:] -= pVec[:]*dt/2\n",
    "phi.plot(gridLines=None, clim=[-0.02,0.02])"
   ]
  }
 ],
 "metadata": {
  "language_info": {
   "codemirror_mode": {
    "name": "ipython",
    "version": 3
   },
   "file_extension": ".py",
   "mimetype": "text/x-python",
   "name": "python",
   "nbconvert_exporter": "python",
   "pygments_lexer": "ipython3",
   "version": "3.7.3"
  }
 },
 "nbformat": 4,
 "nbformat_minor": 2
}
