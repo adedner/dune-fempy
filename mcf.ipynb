{
 "cells": [
  {
   "cell_type": "markdown",
   "metadata": {},
   "source": [
    "<img src=\"mcf.gif\" style=\"height:228px;\">"
   ]
  },
  {
   "cell_type": "code",
   "execution_count": null,
   "metadata": {
    "slideshow": {
     "slide_type": "slide"
    }
   },
   "outputs": [],
   "source": [
    "from __future__ import print_function\n",
    "try:\n",
    "    %matplotlib inline # can also use notebook or nbagg\n",
    "except:\n",
    "    pass\n",
    "\n",
    "import math\n",
    "\n",
    "from ufl import *\n",
    "from dune.ufl import NamedConstant\n",
    "import dune.ufl\n",
    "import dune.geometry as geometry\n",
    "import dune.fem as fem\n",
    "from dune.fem.plotting import plotPointData as plot\n",
    "import matplotlib.pyplot as pyplot\n",
    "from IPython import display\n",
    "\n",
    "# polynomial order of surface approximation\n",
    "order = 2\n",
    "\n",
    "# initial radius\n",
    "R0 = 2."
   ]
  },
  {
   "cell_type": "markdown",
   "metadata": {},
   "source": [
    "We begin by setting up reference domain $\\Gamma_0$ (```grid```), and the space on $\\Gamma_0$ that describes $\\Gamma(t)$ (```space```). From this we interpolate the non-spherical initial surface ```positions```, and, then reconstruct ```space``` for the discrete solution on $\\Gamma(t)$."
   ]
  },
  {
   "cell_type": "code",
   "execution_count": null,
   "metadata": {
    "scrolled": false,
    "slideshow": {
     "slide_type": "subslide"
    }
   },
   "outputs": [],
   "source": [
    "from dune.fem.view import adaptiveLeafGridView as gridView\n",
    "from dune.fem.view import geometryGridView     as geoGridView\n",
    "from dune.fem.space import lagrange as solutionSpace\n",
    "from dune.alugrid import aluConformGrid\n",
    "hgrid = aluConformGrid(\"sphere.dgf\", dimgrid=2, dimworld=3)\n",
    "grid = gridView( hgrid )\n",
    "space = solutionSpace(grid, \n",
    "                      dimrange=grid.dimWorld, order=order)\n",
    "positions = space.interpolate(lambda x: x * (1 + 0.5*math.sin(2*\n",
    "                              math.pi*x[0]*x[1])*math.cos(math.pi*\n",
    "                              x[2])), name=\"position\")\n",
    "surface = geoGridView(positions)\n",
    "space = solutionSpace(surface, \n",
    "                      dimrange=surface.dimWorld, order=order)\n",
    "solution = space.interpolate(lambda x: x, name=\"solution\")"
   ]
  },
  {
   "cell_type": "markdown",
   "metadata": {},
   "source": [
    "We set up the theta scheme with $\\theta = 0.5$."
   ]
  },
  {
   "cell_type": "code",
   "execution_count": null,
   "metadata": {
    "scrolled": false,
    "slideshow": {
     "slide_type": "slide"
    }
   },
   "outputs": [],
   "source": [
    "from dune.fem.scheme import galerkin as solutionScheme\n",
    "theta = 0.5   # Crank-Nicholson\n",
    "u = TrialFunction(space)\n",
    "v = TestFunction(space)\n",
    "x = SpatialCoordinate(space)\n",
    "I = Identity(3)\n",
    "dt = NamedConstant(space, \"dt\")\n",
    "\n",
    "a = (inner(u - x, v) + dt * inner(theta*grad(u)\n",
    "    + (1 - theta)*I, grad(v))) * dx\n",
    "scheme = solutionScheme(a == 0, space, solver=\"cg\")"
   ]
  },
  {
   "cell_type": "markdown",
   "metadata": {},
   "source": [
    "Now we solve the scheme in time. We first set up the initial time variables, then we plot the initial figure's mesh, and finally we begin the loop, updating ```positions``` on each step and plotting the results side-by-side."
   ]
  },
  {
   "cell_type": "code",
   "execution_count": null,
   "metadata": {
    "caption": "Evolving surface",
    "label": "fig:somelabel",
    "widefigure": true
   },
   "outputs": [],
   "source": [
    "count = 0\n",
    "t = 0.\n",
    "end_time = 0.05\n",
    "scheme.model.dt = 0.005\n",
    "\n",
    "fig = pyplot.figure(figsize=(10, 10))\n",
    "plot(solution, figure=(fig, 131+count%3), colorbar=False, \n",
    "     gridLines=\"\", triplot=True)\n",
    "\n",
    "while t < end_time:\n",
    "    scheme.solve(target=solution)\n",
    "    t += scheme.model.dt\n",
    "    count += 1\n",
    "    positions.dofVector.assign(solution.dofVector)\n",
    "    if count % 4 == 0:\n",
    "        plot(solution, figure=(fig, 131+count%3), colorbar=False, \n",
    "             gridLines=\"\", triplot=True)\n",
    "pyplot.show()\n",
    "pyplot.close('all')"
   ]
  },
  {
   "cell_type": "markdown",
   "metadata": {},
   "source": [
    "In case we start with a spherical initial surface, i.e., $\\Gamma(0)=R_0\\;S^2$, the solution\n",
    "to the mean curvature flow equation is easy to compute:\n",
    "\\begin{align*}\n",
    "  \\Gamma(t) &= R(t)\\;S^2 \\\\\n",
    "  R(t) &= \\sqrt{R_0^2-4t}\n",
    "\\end{align*}\n",
    "We can use this to check that our implementation is correct. To do so we first define a function that computes the averaged radius of the surface."
   ]
  },
  {
   "cell_type": "code",
   "execution_count": null,
   "metadata": {},
   "outputs": [],
   "source": [
    "def calcRadius(surface):\n",
    "    # compute R = int_x |x| / int_x 1\n",
    "    R   = 0\n",
    "    vol = 0\n",
    "    for e in surface.elements:\n",
    "        rule = geometry.quadratureRule(e.type, 4)\n",
    "        for p in rule:\n",
    "            geo = e.geometry\n",
    "            weight = geo.volume * p.weight\n",
    "            R   += geo.toGlobal(p.position).two_norm * weight\n",
    "            vol += weight\n",
    "    return R/vol"
   ]
  },
  {
   "cell_type": "markdown",
   "metadata": {},
   "source": [
    "Now we test the convergence rate by solving over a loop, and calculating the error in terms of the difference between the above analytical solution and our calculated one. We plot this in a figure."
   ]
  },
  {
   "cell_type": "code",
   "execution_count": null,
   "metadata": {},
   "outputs": [],
   "source": [
    "end_time = 0.1\n",
    "scheme.model.dt = 0.02\n",
    "\n",
    "import numpy as np\n",
    "pyplot.figure()\n",
    "pyplot.gca().set_xlim([0, end_time])\n",
    "pyplot.gca().set_ylabel(\"error\")\n",
    "pyplot.gca().set_xlabel(\"time\")\n",
    "\n",
    "number_of_loops = 3\n",
    "errors = np.zeros(number_of_loops)\n",
    "totalIterations = np.zeros(number_of_loops, np.dtype(np.uint32))\n",
    "gridSizes = np.zeros(number_of_loops, np.dtype(np.uint32))\n",
    "for i in range(number_of_loops):\n",
    "    positions.interpolate(lambda x: x * (R0/x.two_norm))\n",
    "    solution.interpolate(lambda x: x)\n",
    "    t = 0.\n",
    "    R = calcRadius(surface)\n",
    "    Rexact = math.sqrt(R0**2 - 4.*t)\n",
    "    x = np.array([t])\n",
    "    y = np.array([R - Rexact])\n",
    "    iterations = 0\n",
    "    while t < end_time:\n",
    "        info = scheme.solve(target=solution)\n",
    "        # move the surface\n",
    "        positions.dofVector.assign(solution.dofVector)\n",
    "        # store some information about the solution process\n",
    "        iterations += int( info[\"linear_iterations\"] )\n",
    "        t += scheme.model.dt\n",
    "        R = calcRadius( surface )\n",
    "        Rexact = math.sqrt(R0*R0-4.*t)\n",
    "        x = np.append(x, [t])\n",
    "        y = np.append(y, [R - Rexact])\n",
    "        pyplot.semilogy(x, np.abs(y), label='i = '+ str(i) if t >= end_time \\\n",
    "                    else '')\n",
    "        pyplot.legend()\n",
    "        display.clear_output(wait=True)\n",
    "        display.display(pyplot.gcf())\n",
    "    errors[i] = abs(R - Rexact)\n",
    "    totalIterations[i] = iterations\n",
    "    gridSizes[i] = grid.size(2)\n",
    "    if i < number_of_loops - 1:\n",
    "        grid.hierarchicalGrid.globalRefine(1)\n",
    "        scheme.model.dt /= 2"
   ]
  },
  {
   "cell_type": "markdown",
   "metadata": {},
   "source": [
    "The estimated orders of convergence (EOCs) are calculated as shown."
   ]
  },
  {
   "cell_type": "code",
   "execution_count": null,
   "metadata": {},
   "outputs": [],
   "source": [
    "eocs = np.log(errors[0:][:number_of_loops-1] / errors[1:]) \\\n",
    "              / math.log(math.sqrt(2.)) # note: ALUConform only bisects"
   ]
  },
  {
   "cell_type": "markdown",
   "metadata": {},
   "source": [
    "Finally we organise this information into a table using ```pandas```."
   ]
  },
  {
   "cell_type": "code",
   "execution_count": null,
   "metadata": {},
   "outputs": [],
   "source": [
    "try:\n",
    "    import pandas as pd\n",
    "    keys = {'size': gridSizes, 'error': errors, \n",
    "            \"eoc\": np.insert(eocs, 0, None), \n",
    "            'iterations': totalIterations}\n",
    "    table = pd.DataFrame(keys, index=range(number_of_loops),\n",
    "                         columns=['size', 'error', 'eoc', \n",
    "                                  'iterations'])\n",
    "    print(table)\n",
    "except ImportError:\n",
    "    print(\"pandas could not be used to show table with results\")\n",
    "    pass"
   ]
  },
  {
   "cell_type": "code",
   "execution_count": null,
   "metadata": {},
   "outputs": [],
   "source": []
  }
 ],
 "metadata": {
  "kernelspec": {
   "display_name": "Python 3",
   "language": "python",
   "name": "python3"
  },
  "language_info": {
   "codemirror_mode": {
    "name": "ipython",
    "version": 3
   },
   "file_extension": ".py",
   "mimetype": "text/x-python",
   "name": "python",
   "nbconvert_exporter": "python",
   "pygments_lexer": "ipython3",
   "version": "3.5.2"
  }
 },
 "nbformat": 4,
 "nbformat_minor": 1
}
