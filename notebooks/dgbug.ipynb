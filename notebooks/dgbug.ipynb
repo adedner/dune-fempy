{
 "cells": [
  {
   "cell_type": "markdown",
   "metadata": {},
   "source": [
    "# DG Schemes [(Notebook)][1]\n",
    "\n",
    "[1]: _downloads/laplace-dg.ipynb\n",
    "show the\n",
    "- dgscheme\n",
    "- galerkin schemes"
   ]
  },
  {
   "cell_type": "code",
   "execution_count": null,
   "metadata": {
    "collapsed": false
   },
   "outputs": [],
   "source": [
    "import numpy as np\n",
    "import scipy.sparse as sparse\n",
    "\n",
    "\n",
    "def is_symmetric(m):\n",
    "    \"\"\"Check if a sparse matrix is symmetric\n",
    "\n",
    "    Parameters\n",
    "    ----------\n",
    "    m : array or sparse matrix\n",
    "        A square matrix.\n",
    "\n",
    "    Returns\n",
    "    -------\n",
    "    check : bool\n",
    "        The check result.\n",
    "\n",
    "    \"\"\"\n",
    "    if m.shape[0] != m.shape[1]:\n",
    "        raise ValueError('m must be a square matrix')\n",
    "\n",
    "    if not isinstance(m, sparse.coo_matrix):\n",
    "        m = sparse.coo_matrix(m)\n",
    "\n",
    "    r, c, v = m.row, m.col, m.data\n",
    "    tril_no_diag = r > c\n",
    "    triu_no_diag = c > r\n",
    "\n",
    "    if triu_no_diag.sum() != tril_no_diag.sum():\n",
    "        return False\n",
    "\n",
    "    rl = r[tril_no_diag]\n",
    "    cl = c[tril_no_diag]\n",
    "    vl = v[tril_no_diag]\n",
    "    ru = r[triu_no_diag]\n",
    "    cu = c[triu_no_diag]\n",
    "    vu = v[triu_no_diag]\n",
    "\n",
    "    sortl = np.lexsort((cl, rl))\n",
    "    sortu = np.lexsort((ru, cu))\n",
    "    vl = vl[sortl]\n",
    "    vu = vu[sortu]\n",
    "\n",
    "    check = np.allclose(vl, vu)\n",
    "\n",
    "    return check"
   ]
  },
  {
   "cell_type": "markdown",
   "metadata": {},
   "source": [
    "Let us consider a simple Laplace problem with Dirichlet boundary conditions:\n",
    "\\begin{equation*}\n",
    "  \\begin{aligned}\n",
    "    -\\Delta u &= \\sin(\\pi x_1) \\sin(\\pi x_2) && \\text{in $\\Omega$}, \\\\\n",
    "            u &= 0 && \\text{on $\\partial\\Omega$}.\n",
    "  \\end{aligned}\n",
    "\\end{equation*}\n",
    "\n",
    "First, we need to set up a computational grid and a discontinuous ansatz space on it. Here, we use the orthonormal discontinuous space:"
   ]
  },
  {
   "cell_type": "code",
   "execution_count": null,
   "metadata": {
    "collapsed": false
   },
   "outputs": [],
   "source": [
    "try:\n",
    "    %matplotlib inline # can also use notebook or nbagg\n",
    "except:\n",
    "    pass\n",
    "from dune.grid import cartesianDomain\n",
    "from dune.fem import parameter\n",
    "from dune.fem.plotting import plotPointData as plot\n",
    "\n",
    "import dune.create as create\n",
    "\n",
    "parameter.append({\"fem.verboserank\": 0, \"istl.preconditioning.method\": \"amg\", \"istl.preconditioning.iterations\": 1, \"istl.preconditioning.relaxation\": 1.2})\n",
    "\n",
    "grid = create.grid(\"ALUCube\", cartesianDomain([0,0],[1,1],[16,16]), dimgrid=2)\n",
    "spc = create.space(\"dgonb\", grid, dimrange=1, order=2, storage=\"eigen\")"
   ]
  },
  {
   "cell_type": "markdown",
   "metadata": {},
   "source": [
    "The classical IPDG method for this problem reads\n",
    "\\begin{equation*}\n",
    "  \\int_\\Omega \\nabla u\\,\\nabla \\varphi\\,dx\n",
    "    - \\int_\\Gamma ([[u]] \\otimes \\vec{n} : \\{\\{\\nabla \\varphi\\}\\} + \\{\\{\\nabla u\\}\\} : [[\\varphi]] \\otimes \\vec{n}\\,dx\n",
    "    + \\int_\\Gamma \\frac{\\mu}{h} [[u]] [[\\varphi]]\n",
    "    = 0.\n",
    "\\end{equation*}\n",
    "\n",
    "The following code implements this equation in UFL notation:"
   ]
  },
  {
   "cell_type": "code",
   "execution_count": null,
   "metadata": {
    "collapsed": false
   },
   "outputs": [],
   "source": [
    "import math\n",
    "import ufl\n",
    "from ufl import inner, outer, jump, avg, grad, dx, ds, dS\n",
    "\n",
    "from dune.ufl import Space\n",
    "\n",
    "uflSpace = Space((grid.dimGrid, grid.dimWorld), 1)\n",
    "u = ufl.TrialFunction(uflSpace)\n",
    "v = ufl.TestFunction(uflSpace)\n",
    "x = ufl.SpatialCoordinate(uflSpace.cell())\n",
    "n, h = ufl.FacetNormal(uflSpace.cell()), ufl.MinFacetEdgeLength(uflSpace.cell())\n",
    "mu = 10. / (h(\"+\")+h(\"-\"))\n",
    "\n",
    "# use a simple Neuman problem first for testing\n",
    "base = (inner(grad(u), grad(v)) + inner(u,v) ) * dx\n",
    "a = base - ( inner(outer(jump(u), jump(n)), avg(grad(v))) \n",
    "         -   inner(avg(grad(u)), outer(jump(v), jump(n))) ) * 0.5 * dS\n",
    "a += mu * inner(jump(u), jump(v)) * dS\n",
    "# a += (inner(outer(u, n), grad(v)) - inner(grad(u), outer(v, n))) * ds\n",
    "# a += mu * inner(u, v) * ds\n",
    "\n",
    "# lets provide an exact solution and compute the forcing from that\n",
    "exact = [ufl.cos(ufl.pi*x[0])*ufl.cos(ufl.pi*x[1])]\n",
    "b = ufl.replace(base, {u: ufl.as_vector(exact)} )"
   ]
  },
  {
   "cell_type": "markdown",
   "metadata": {},
   "source": [
    "Next, we compile this into the *integrands*, plug them into the *galerkin* scheme and solve the problem:"
   ]
  },
  {
   "cell_type": "code",
   "execution_count": null,
   "metadata": {
    "collapsed": false
   },
   "outputs": [],
   "source": [
    "newtonParameter = {\"linabstol\": 1e-13, \"linreduction\": 1e-5, \"tolerance\": 1e-3, \"verbose\": \"true\", \"linear.verbose\": \"true\"}\n",
    "\n",
    "model = create.model(\"integrands\", grid, a == b)\n",
    "scheme = create.scheme(\"galerkin\", model, spc, solver=\"bicgstab\",\n",
    "                      parameters={\"fem.solver.newton.\" + k: v for k, v in newtonParameter.items()})\n",
    "dgmodel = create.model(\"integrands\", grid, base == b)\n",
    "dgscheme = create.scheme(\"dg\", dgmodel, spc, solver=\"cg\",\n",
    "                       parameters={\"fem.solver.newton.\" + k: v for k, v in newtonParameter.items()})\n",
    "\n",
    "uh, _ = scheme.solve()\n",
    "dguh, _ = dgscheme.solve()\n"
   ]
  },
  {
   "cell_type": "markdown",
   "metadata": {},
   "source": [
    "The result looks as follows:"
   ]
  },
  {
   "cell_type": "code",
   "execution_count": null,
   "metadata": {
    "collapsed": false
   },
   "outputs": [],
   "source": [
    "plot(uh,level=3)\n",
    "plot(dguh,level=3)"
   ]
  },
  {
   "cell_type": "code",
   "execution_count": null,
   "metadata": {
    "collapsed": false
   },
   "outputs": [],
   "source": [
    "matrix = scheme.assemble(uh)\n",
    "dgmatrix = dgscheme.assemble(uh)\n",
    "print(\"integrals: \", is_symmetric(matrix))\n",
    "print(\"dgelliptic: \",is_symmetric(dgmatrix))"
   ]
  },
  {
   "cell_type": "code",
   "execution_count": null,
   "metadata": {
    "collapsed": false
   },
   "outputs": [],
   "source": [
    "# grid.hierarchicalGrid.globalRefine(2)\n",
    "# uh, _ = scheme.solve()\n",
    "# plot(uh,level=3)"
   ]
  },
  {
   "cell_type": "code",
   "execution_count": null,
   "metadata": {
    "collapsed": false
   },
   "outputs": [],
   "source": []
  }
 ],
 "metadata": {},
 "nbformat": 4,
 "nbformat_minor": 0
}
