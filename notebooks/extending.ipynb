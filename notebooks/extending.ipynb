{
 "cells": [
  {
   "cell_type": "markdown",
   "metadata": {},
   "source": [
    "# Adding new Interface Realizations and C++ Code [(Notebook)][1]\n",
    "\n",
    "[1]: _downloads/extending.ipynb"
   ]
  },
  {
   "cell_type": "code",
   "execution_count": null,
   "metadata": {
    "collapsed": false
   },
   "outputs": [],
   "source": [
    "try:\n",
    "    %matplotlib inline # can also use notebook or nbagg\n",
    "except:\n",
    "    pass"
   ]
  },
  {
   "cell_type": "markdown",
   "metadata": {},
   "source": [
    "The aim of this section is to demonstrate how to extend the python package by either\n",
    "- providing a new realizations for an existing interface (e.g. a `space` or a `grid`) \n",
    "- implementing a new python function through some C++ code\n",
    "\n",
    "### Adding realizations\n",
    "We start with a simple example of adding a discrete function space. The C++ implementation of this space is available in this module. We assume here that the "
   ]
  },
  {
   "cell_type": "code",
   "execution_count": null,
   "metadata": {
    "collapsed": false
   },
   "outputs": [],
   "source": [
    "from dune.common.hashit import hashIt\n",
    "from dune.generator.generator import SimpleGenerator\n",
    "from dune.fem.space import addAttr\n",
    "def p1Bubble(gridview, dimrange, storage=None):\n",
    "    # set the direct include path - all the include paths from the grid view used also need to be included\n",
    "    includes = [ \"dune/fem/space/p1bubble.hh\" ] + gridview._includes\n",
    "    dimw = gridview.dimWorld\n",
    "    # new construct the actul C++ type name which is\n",
    "    # template <class FunctionSpace, GridView >\n",
    "    # Note: any exported C++ class contains (in addition to the include files needed)\n",
    "    #       also the correct C++ type name of that class\n",
    "    # The wrapper `Dune::FemPy::GridPart` is needed to make it possible to either use\n",
    "    # `dune-fem` GridPart classes on Dune core `GridView`\n",
    "    typeName = \"Dune::Fem::BubbleElementSpace< \" +\\\n",
    "      \"Dune::Fem::FunctionSpace< double, double, \" +\\\n",
    "          str(gridview.dimGrid) + \", \" + str(dimrange) + \" >, \" +\\\n",
    "      \"Dune::FemPy::GridPart< \" + gridview._typeName + \" > >\"\n",
    "\n",
    "    # Now add the information required for the binding - first the file containing the bindings\n",
    "    includes = includes + [\"dune/fempy/py/space.hh\"]\n",
    "    # now the module name (also used for the file)\n",
    "    moduleName = \"myspace_\" + hashIt(typeName)\n",
    "    # note that discrete function spaces should be exported using a\n",
    "    # shared_ptr as holder type\n",
    "    generator = SimpleGenerator(\"Space\", \"Dune::FemPy\")\n",
    "    module = generator.load(includes, typeName, moduleName,\n",
    "                       options=[\"std::shared_ptr<DuneType>\"])\n",
    "    addAttr(module, module.Space, \"double\", storage)\n",
    "    return module.Space(gridview)"
   ]
  },
  {
   "cell_type": "code",
   "execution_count": null,
   "metadata": {
    "collapsed": false
   },
   "outputs": [],
   "source": [
    "import dune.create as create\n",
    "import dune.grid as grid\n",
    "grid = create.grid(\"ALUConform\", grid.cartesianDomain([0, 0], [1, 1], [4, 4]), dimgrid=2)\n",
    "space = p1Bubble(grid,1)\n",
    "print(\"size of the discrete space: \", space.size)\n",
    "print(\"should be one per vertex and one per element: \", grid.size(0)+grid.size(2))"
   ]
  },
  {
   "cell_type": "markdown",
   "metadata": {},
   "source": [
    "In the `load` method it is also possible to provide additional constructors and methods which will be added to the generated python class. Assume for example that our space takes in addition to the `GridView` instance an additional integer:\n",
    "~~~~\n",
    "constructor = [\"[] ( \" + typeName + \" &self, \" \n",
    "                       + gridview._typeName + \" &gridview, int arg) {\",\n",
    "                   \"    new(&self) \" + typename \"\n",
    "                         ( gridPart< GridView >( gridView ), arg );\"\n",
    "                   \"  }, pybind11::keep_alive< 1, 2 >()\"]\n",
    "~~~~\n",
    "Then the new `load` call is simply\n",
    "~~~~\n",
    "module = generator.load(includes, typeName, moduleName, constructor=constructor)\n",
    "~~~~\n",
    "Note that the default constructor used for other spaces will not be added to the class if a custom constructor is passed in.\n",
    "\n",
    "Finally a short note on how to add the new space to the create mechnism. Let us assume that the method `p1Bubble` is part of a python package under the `dune` namespace package. For simplicity it is contained in the `__init__.py` file of the `dune.myspace` module. \n",
    "To create the space for example using\n",
    "~~~\n",
    "dune.create.space(\"p1Bubble\",grid,1)\n",
    "~~~\n",
    "add the following to the `__init__.py` file of the `dune.myspace` module:\n",
    "~~~ \n",
    "registry[\"space\"] = {\n",
    "         \"p1bubble\"     : p1Bubble\n",
    "        }\n",
    "~~~\n",
    "After installing `dune.myspace` e.g. using `pip` the new space can be constructed like any of the other spaces contained in the `dune.fem` package."
   ]
  },
  {
   "cell_type": "markdown",
   "metadata": {},
   "source": [
    "### Using hand written model files"
   ]
  },
  {
   "cell_type": "markdown",
   "metadata": {},
   "source": [
    "### Importing C++ code\n",
    "Now we discuss how to add stand alone C++ code using the `dune.generator` module. "
   ]
  },
  {
   "cell_type": "code",
   "execution_count": null,
   "metadata": {
    "collapsed": false
   },
   "outputs": [],
   "source": []
  }
 ],
 "metadata": {},
 "nbformat": 4,
 "nbformat_minor": 1
}
