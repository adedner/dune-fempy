{
 "cells": [
  {
   "cell_type": "markdown",
   "metadata": {
    "deletable": true,
    "editable": true
   },
   "source": [
    "# Grid construction and basic usage [(Notebook)][3]\n",
    "\n",
    "There are a number of ways to construct the macro triangulation of the computational domain. One can either use some avaialble readers using either gmsh files [gmsh][1] or *dune grid format* ([dgf][2]) files. Alternatively, it is possible to directly provide the vertices and grid elements using *numy* arrays.\n",
    "Later on we will show some of the most basic method available on the grid ckass.\n",
    "\n",
    "[1]: http://gmsh.info/doc/texinfo/gmsh.html \n",
    "[2]: https://www.dune-project.org/doxygen/2.5.0/group__DuneGridFormatParser.html#details \n",
    "[3]: _downloads/grid-construction.ipynb"
   ]
  },
  {
   "cell_type": "code",
   "execution_count": null,
   "metadata": {
    "collapsed": false,
    "deletable": true,
    "editable": true
   },
   "outputs": [],
   "source": [
    "from __future__ import print_function\n",
    "\n",
    "try:\n",
    "    %matplotlib inline # can also use notebook or nbagg\n",
    "except:\n",
    "    pass\n",
    "\n",
    "try:\n",
    "    %matplotlib inline # can also use notebook or nbagg\n",
    "except:\n",
    "    pass\n",
    "\n",
    "import dune.common\n",
    "import dune.create as create"
   ]
  },
  {
   "cell_type": "markdown",
   "metadata": {
    "deletable": true,
    "editable": true
   },
   "source": [
    "### Constructers\n",
    "The following shows a simple routing to visualize a dune grid"
   ]
  },
  {
   "cell_type": "code",
   "execution_count": null,
   "metadata": {
    "collapsed": false,
    "deletable": true,
    "editable": true
   },
   "outputs": [],
   "source": [
    "from matplotlib import pyplot\n",
    "from matplotlib.collections import PolyCollection\n",
    "from numpy import amin, amax, linspace\n",
    "\n",
    "def plotGrid(grid):\n",
    "    if not grid.dimension == 2:\n",
    "        print(\"inline plotting so far only available for 2d grids\")\n",
    "        return\n",
    "    fig = pyplot.figure()\n",
    "    polys = grid.polygons()\n",
    "    \n",
    "    for p in polys:   # iterables for different geometry types\n",
    "        coll = PolyCollection(p,facecolor='none',edgecolor=\"black\",zorder=2)\n",
    "        pyplot.gca().add_collection(coll)\n",
    "    fig.gca().set_aspect('equal')\n",
    "    fig.gca().autoscale()\n",
    "    pyplot.show(block=False)"
   ]
  },
  {
   "cell_type": "markdown",
   "metadata": {
    "deletable": true,
    "editable": true
   },
   "source": [
    "First the simplest approach - this simply results in a cube tesselated with a nicely structured grid:"
   ]
  },
  {
   "cell_type": "code",
   "execution_count": null,
   "metadata": {
    "collapsed": false,
    "deletable": true,
    "editable": true
   },
   "outputs": [],
   "source": [
    "grid = create.grid(\"ALUCube\", dune.grid.cartesianDomain([0,0],[1,1],[16,16]), dimgrid=2)\n",
    "plotGrid(grid)\n",
    "grid = create.grid(\"ALUConform\", dune.grid.cartesianDomain([-1,-1],[1,1],[16,16,16]), dimgrid=2)\n",
    "plotGrid(grid)"
   ]
  },
  {
   "cell_type": "markdown",
   "metadata": {
    "deletable": true,
    "editable": true
   },
   "source": [
    "We now show how describe a simple grid using *numpy* arrays. This approach can then be used to write more complex readers in python to construct grids."
   ]
  },
  {
   "cell_type": "code",
   "execution_count": null,
   "metadata": {
    "collapsed": false,
    "deletable": true,
    "editable": true
   },
   "outputs": [],
   "source": [
    "import numpy\n",
    "vertices = numpy.array([(0,0), (1,0), (1,1), (0,1), (-1,1), (-1,0), (-1,-1), (0,-1)])\n",
    "triangles = numpy.array([(0,1,2), (0,2,3), (0,3,4), (0,4,5), (0,5,6), (0,6,7)])\n",
    "grid = create.grid(\"ALUConform\", {\"vertices\": vertices, \"simplices\": triangles}, dimgrid=2)\n",
    "plotGrid(grid)"
   ]
  },
  {
   "cell_type": "markdown",
   "metadata": {
    "deletable": true,
    "editable": true
   },
   "source": [
    "The next example uses the [Delauny][1] triangulation method availble in *scipy*.\n",
    "[1]: https://docs.scipy.org/doc/scipy-0.18.1/reference/tutorial/spatial.html"
   ]
  },
  {
   "cell_type": "code",
   "execution_count": null,
   "metadata": {
    "collapsed": false,
    "deletable": true,
    "editable": true
   },
   "outputs": [],
   "source": [
    "from scipy.spatial import Delaunay\n",
    "\n",
    "n_angles = 36\n",
    "n_radii = 8\n",
    "\n",
    "radii = numpy.linspace(1.0 / n_radii, 1.0, n_radii)\n",
    "angles = numpy.linspace(0, 2*numpy.pi, n_angles, endpoint=False)\n",
    "angles = numpy.repeat(angles[..., numpy.newaxis], n_radii, axis=1)\n",
    "\n",
    "x = numpy.append(0, (radii*numpy.cos(angles)).flatten())\n",
    "y = numpy.append(0, (radii*numpy.sin(angles)).flatten())\n",
    "\n",
    "points = numpy.stack((x,y), axis=-1)\n",
    "triangles = Delaunay(points).simplices\n",
    "\n",
    "grid = create.grid(\"ALUConform\", {'vertices':points, 'simplices':triangles}, dimgrid=2)\n",
    "plotGrid(grid)"
   ]
  },
  {
   "cell_type": "markdown",
   "metadata": {
    "deletable": true,
    "editable": true
   },
   "source": [
    "Dune provides options for reading grid descriptions from files. First we show how to use the *dune grid format*:\n",
    "The grid can be directly described using a python string:"
   ]
  },
  {
   "cell_type": "code",
   "execution_count": null,
   "metadata": {
    "collapsed": false,
    "deletable": true,
    "editable": true
   },
   "outputs": [],
   "source": [
    "dgf = \"\"\"\n",
    "INTERVAL\n",
    "0  0\n",
    "1  1\n",
    "16 16\n",
    "#\n",
    "\"\"\"\n",
    "grid = create.grid(\"ALUConform\", dune.grid.string2dgf(dgf), dimgrid=2)\n",
    "plotGrid(grid)"
   ]
  },
  {
   "cell_type": "markdown",
   "metadata": {
    "deletable": true,
    "editable": true
   },
   "source": [
    "or providing a [dgf file][1]\n",
    "[1]: unitcube-2d.dgf"
   ]
  },
  {
   "cell_type": "code",
   "execution_count": null,
   "metadata": {
    "collapsed": false,
    "deletable": true,
    "editable": true
   },
   "outputs": [],
   "source": [
    "grid = create.grid(\"ALUCube\", (dune.common.reader.dgf,\"unitcube-2d.dgf\"), dimgrid=2)\n",
    "plotGrid(grid)\n",
    "pyplot.close('all')"
   ]
  },
  {
   "cell_type": "markdown",
   "metadata": {
    "deletable": true,
    "editable": true
   },
   "source": [
    "We have just described how to *input* a grid, shown some inline visualization, but we also provide *output* methods for grid (and data) into *vtk* files. For simply writting the grid structure for viewing in e.g. *paraview*:"
   ]
  },
  {
   "cell_type": "code",
   "execution_count": null,
   "metadata": {
    "collapsed": false,
    "deletable": true,
    "editable": true
   },
   "outputs": [],
   "source": [
    "grid.vtkWriter().write(\"griddemo\")"
   ]
  },
  {
   "cell_type": "markdown",
   "metadata": {
    "deletable": true,
    "editable": true
   },
   "source": [
    "see [griddemo.vtu][1]\n",
    "[1]: griddemo.vtu\n",
    "\n",
    "### Basic methods\n",
    "Probably the most fundamental information one wants from any grid is the number of entities of different codimension, e,g,, the number of vertices and elements."
   ]
  },
  {
   "cell_type": "code",
   "execution_count": null,
   "metadata": {
    "collapsed": false,
    "deletable": true,
    "editable": true
   },
   "outputs": [],
   "source": [
    "print(\"Number of elements:\",grid.size(0))\n",
    "print(\"Number of vertices:\",grid.size(grid.dimension))"
   ]
  },
  {
   "cell_type": "markdown",
   "metadata": {
    "deletable": true,
    "editable": true
   },
   "source": [
    "Note that `grid.dimension` give the dimension of the reference elements of the grid while `grid.dimensionworld` returns the dimension of the coordinate space the grid is embedded in."
   ]
  },
  {
   "cell_type": "code",
   "execution_count": null,
   "metadata": {
    "collapsed": false,
    "deletable": true,
    "editable": true
   },
   "outputs": [],
   "source": [
    "print(grid.dimension,grid.dimensionworld)"
   ]
  },
  {
   "cell_type": "markdown",
   "metadata": {
    "deletable": true,
    "editable": true
   },
   "source": [
    "Here is not the place to describe the whole *Dune Grid* interface made available to python. Here is a simple example showing how to iterate over the grid and ascess some simple geometric information for each element:"
   ]
  },
  {
   "cell_type": "code",
   "execution_count": null,
   "metadata": {
    "collapsed": false,
    "deletable": true,
    "editable": true
   },
   "outputs": [],
   "source": [
    "totalArea = 0\n",
    "for element in grid.elements:\n",
    "    print( \"Center \", element.geometry.center, end=\", \" )\n",
    "    print(\"Corners:\", end=' ')\n",
    "    for corner in element.geometry.corners:\n",
    "        print(corner, end=' ' )\n",
    "    print()\n",
    "    totalArea += element.geometry.volume\n",
    "print(totalArea)"
   ]
  },
  {
   "cell_type": "markdown",
   "metadata": {
    "deletable": true,
    "editable": true
   },
   "source": [
    "Speaking within the Dune context it is important to note that the grid instance `grid` constructor with the methods above is a *leaf grid view*. So even after refinment the grid instance will always provide a view to the finest level of refinement of the hierarchical grid. The full hierarchy grid can be accessed with"
   ]
  },
  {
   "cell_type": "code",
   "execution_count": null,
   "metadata": {
    "collapsed": false,
    "deletable": true,
    "editable": true
   },
   "outputs": [],
   "source": [
    "hgrid = grid.hierarchicalGrid"
   ]
  },
  {
   "cell_type": "markdown",
   "metadata": {
    "deletable": true,
    "editable": true
   },
   "source": [
    "The hierarchical grid can be globally refined"
   ]
  },
  {
   "cell_type": "code",
   "execution_count": null,
   "metadata": {
    "collapsed": false,
    "deletable": true,
    "editable": true
   },
   "outputs": [],
   "source": [
    "hgrid.globalRefine(3)\n",
    "plotGrid(grid)\n",
    "# is there a global coarsening available?\n",
    "hgrid.globalRefine(-2)\n",
    "plotGrid(grid)"
   ]
  },
  {
   "cell_type": "markdown",
   "metadata": {
    "deletable": true,
    "editable": true
   },
   "source": [
    "or single elements can be marked for local refinement or coarsening"
   ]
  },
  {
   "cell_type": "code",
   "execution_count": null,
   "metadata": {
    "collapsed": false,
    "deletable": true,
    "editable": true
   },
   "outputs": [],
   "source": [
    "import math\n",
    "marker = dune.common.Marker\n",
    "\n",
    "def mark(element, t):\n",
    "    y = element.geometry.center - [0.5+0.2*math.cos(t), 0.5+0.2*math.sin(t)]\n",
    "    if y.two_norm2 < 0.2*0.2 and y.two_norm2 > 0.1*0.1:\n",
    "      return marker.refine if element.level < 5 else marker.keep\n",
    "    else:\n",
    "      return marker.coarsen\n",
    "\n",
    "for i in range(0,3):\n",
    "    hgrid.mark(lambda e: mark(e, 0))\n",
    "    dune.fem.adapt(hgrid)\n",
    "plotGrid(grid)"
   ]
  },
  {
   "cell_type": "markdown",
   "metadata": {
    "deletable": true,
    "editable": true
   },
   "source": [
    "Note that if data is stored on any entity of the grid then it will be valid anymore after calling `globalRefine` or `adapt` on the hierarchical grid as described above. To make it possible to keep for example discrete functions valid during grid modification, these can be passed into the `adapt` method. Note that this requires a special version of the *leaf grid view*:"
   ]
  },
  {
   "cell_type": "code",
   "execution_count": null,
   "metadata": {
    "collapsed": false,
    "deletable": true,
    "editable": true
   },
   "outputs": [],
   "source": [
    "import dune.fem\n",
    "from dune.fem.space import lagrange\n",
    "from dune.fem.view import adaptiveLeafGridView\n",
    "from dune.fem.plotting import plotPointData as plot\n",
    "\n",
    "adaptiveGV = adaptiveLeafGridView(grid)"
   ]
  },
  {
   "cell_type": "markdown",
   "metadata": {
    "deletable": true,
    "editable": true
   },
   "source": [
    "First note that the `plotGrid` function defined above is available in the `dune.fem.plotting` module - with some extra arguments..."
   ]
  },
  {
   "cell_type": "code",
   "execution_count": null,
   "metadata": {
    "collapsed": false,
    "deletable": true,
    "editable": true
   },
   "outputs": [],
   "source": [
    "plot(adaptiveGV)"
   ]
  },
  {
   "cell_type": "code",
   "execution_count": null,
   "metadata": {
    "collapsed": false,
    "deletable": true,
    "editable": true
   },
   "outputs": [],
   "source": [
    "# interpolate some data onto grid\n",
    "spc = lagrange(adaptiveGV, dimrange=1, order=1)\n",
    "phi = spc.interpolate(lambda x: [math.sin(math.pi*x[0])*math.cos(math.pi*x[1])], name=\"phi\")\n",
    "\n",
    "for nr in range(101):\n",
    "    hgrid.mark(lambda e: mark(e, nr/100.*2.*math.pi))\n",
    "    dune.fem.adapt(hgrid, [phi])\n",
    "    if nr % 10 == 0:\n",
    "        plot(phi)\n",
    "pyplot.close('all')"
   ]
  },
  {
   "cell_type": "markdown",
   "metadata": {
    "deletable": true,
    "editable": true
   },
   "source": [
    "Note the plotting method available in the `dune.fem.plotting` module used in the last example.\n",
    "\n",
    "### Special Grid Views\n",
    "\n",
    "The above required using an `AdaptiveLeafGridView` which allows to efficiently prolong/restrict discrete functions during grid refinement. In this module we provide some other specialized `GridView` which we will now briefly decribe:\n",
    "- `FilteredGridView`: a function returning `True` or `False` for each element of grid is passed to the constructor to choose a subset of the elements of the *host grid view* to be part of the new view. The index set associated with this grid view is either (as expected) zero starting and consecutive on the  the new view, or identical to the index set of the original view.\n",
    "- `GeometryGridView`: in this case the geometric representation of each element of a *host grid view* can be replaced by providing a [grid function][1] to the constructor.\n",
    "[1]: gridfunctions.rst\n",
    "\n",
    "Lets start with the `FilteredGridView`:"
   ]
  },
  {
   "cell_type": "code",
   "execution_count": null,
   "metadata": {
    "collapsed": false,
    "deletable": true,
    "editable": true
   },
   "outputs": [],
   "source": [
    "from dune.fem.view import filteredGridView\n",
    "from dune.fem.space import dgonb\n",
    "\n",
    "# first using a new index set\n",
    "filter = lambda e: 1 if (e.geometry.center - [0.5, 0.5]).two_norm < 0.25 else 2\n",
    "subGrid = filteredGridView(grid, filter , 1, True)\n",
    "\n",
    "# interpolate some data onto the subgrid\n",
    "spc = lagrange(subGrid, dimrange=1, order=1)\n",
    "phi = spc.interpolate(lambda x: [math.sin(math.pi*x[0])*math.cos(math.pi*x[1])], name=\"phi\")\n",
    "plot(phi)\n",
    "\n",
    "subGrid1 = filteredGridView(grid, filter, 1, True)\n",
    "subGrid2 = filteredGridView(grid, filter, 2, True)\n",
    "# interpolate some data onto the subgrid\n",
    "spc1 = lagrange(subGrid1, dimrange=1, order=1)\n",
    "spc2 = lagrange(subGrid2, dimrange=1, order=1)\n",
    "phi1 = spc1.interpolate(lambda x: [-1], name=\"phi1\")\n",
    "phi2 = spc2.interpolate(lambda x: [ (x-[0.5,0.5] ).two_norm], name=\"phi2\")\n",
    "spc = dgonb(grid, dimrange=1, order=1)\n",
    "phi = spc.interpolate(lambda en,x: [phi1.localFunction(en).evaluate(x) if subGrid1.contains(en) else phi2.localFunction(en).evaluate(x)], name=\"phi\")\n",
    "plot(phi,gridLines=\"white\")"
   ]
  },
  {
   "cell_type": "markdown",
   "metadata": {
    "collapsed": false,
    "deletable": true,
    "editable": true
   },
   "source": [
    "Note the use of the `contains` method on the view to determin if an element is part of the view or not.\n",
    "\n",
    "Now a simple example demonstrating hwo to use the `GeometryGridView` to produce  a moving domeain."
   ]
  },
  {
   "cell_type": "code",
   "execution_count": null,
   "metadata": {
    "collapsed": false,
    "deletable": true,
    "editable": true
   },
   "outputs": [],
   "source": [
    "from dune.fem.view import geometryGridView\n",
    "\n",
    "t = 0\n",
    "def expr_global(x):\n",
    "    return [1.5*x[0],0.5*(x[0]+1.)*x[1]*math.cos(0.1+2.*math.pi*t)]\n",
    "\n",
    "gf = create.function(\"global\", grid, \"coordinates\", 1, expr_global)\n",
    "spc = create.space(\"lagrange\", grid, dimrange=2, order=1)\n",
    "df = spc.interpolate(gf, name=\"test\")\n",
    "\n",
    "geogrid = geometryGridView(df)\n",
    "gfnew = create.function(\"global\", geogrid, \"expression\", 1, expr_global)\n",
    "\n",
    "dt = 0.01\n",
    "count = 0\n",
    "while t < 1:\n",
    "    t += dt\n",
    "    count += 1\n",
    "    df.interpolate(gf)\n",
    "    if count%10 == 0:\n",
    "        plot(gfnew,xlim=[-0.1,1.6],ylim=[-1.25,1.1])\n",
    "# now one plot without the grid\n",
    "plot(gfnew,gridLines=\"\")\n",
    "pyplot.close('all')"
   ]
  }
 ],
 "metadata": {},
 "nbformat": 4,
 "nbformat_minor": 1
}
