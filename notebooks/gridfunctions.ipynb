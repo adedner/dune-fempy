{
 "cells": [
  {
   "cell_type": "markdown",
   "metadata": {
    "deletable": true,
    "editable": true
   },
   "source": [
    "# Grid functions (and some plotting) [(Notebook)][1]\n",
    "\n",
    "[1]: _downloads/gridfunctions.ipynb\n",
    "*Grid function* are perhaps the most fundamental concept of (after the grid itself). These are *localizable* function, i.e., functions that can be evaluated given an element `e` of the grid and a coordinate in the reference element of `e`. To this end they provide a method `lf = localfunction(e)` returning an object with an `evaluate(x),jacobian(x),hessian(x)` method. The coordinate `x` should be in the reference element of `e` but note that the derivates returned are with respect to the coordinate system of `e` itself. All numerical algorithm provided in the dune modules do not use globally defined functions but rely on *grid function*. \n",
    "\n",
    "In addition we also show some simple inline plotting functionality."
   ]
  },
  {
   "cell_type": "code",
   "execution_count": null,
   "metadata": {
    "collapsed": false,
    "deletable": true,
    "editable": true
   },
   "outputs": [],
   "source": [
    "try:\n",
    "    %matplotlib inline # can also use notebook or inline # can also use notebook or nbagg\n",
    "except:\n",
    "    pass\n",
    "import math\n",
    "import dune.fem\n",
    "import ufl\n",
    "import dune.ufl\n",
    "import dune.create as create\n",
    "from dune.fem.plotting import plotPointData as plot\n",
    "from dune.fem.plotting import plotComponents as plotComponents\n",
    "\n",
    "grid = create.grid(\"ALUConform\", dune.grid.cartesianDomain([0,0],[1,1],[4,4]), dimgrid=2)"
   ]
  },
  {
   "cell_type": "markdown",
   "metadata": {
    "deletable": true,
    "editable": true
   },
   "source": [
    "There are a number of different ways *grid function* can be constructed. We start with the simplest approach using callback to python function:"
   ]
  },
  {
   "cell_type": "code",
   "execution_count": null,
   "metadata": {
    "collapsed": false,
    "deletable": true,
    "editable": true
   },
   "outputs": [],
   "source": [
    "def expr_global(x):\n",
    "    return [math.sin(x[0])**2, math.sin(x[0])*math.cos(10*x[1]), math.cos(10*x[1])**2]\n",
    "gf_gl = create.function(\"global\", grid, \"expr_global\", 3, expr_global)\n",
    "# plot all components + the grid\n",
    "plotComponents(gf_gl, gridLines=\"black\")\n",
    "# plot the absolute value of the compnents without the grid\n",
    "plot(gf_gl,gridLines=\"\")\n",
    "\n",
    "def expr_local(en,x):\n",
    "    y = en.geometry.position(x)\n",
    "    return [gf_gl.localFunction(en).evaluate(x)[1] - y.two_norm,10]\n",
    "gf_loc = create.function(\"local\", grid, \"expr_local\", 3, expr_local)\n",
    "# here we show the solution (first component) overlayed with the grid (default)\n",
    "plot(gf_loc[0])"
   ]
  },
  {
   "cell_type": "markdown",
   "metadata": {
    "deletable": true,
    "editable": true
   },
   "source": [
    "Note how we can access the one component of a grid function by writing `gf_loc[0]`.\n",
    "\n",
    "This is quite a coarse grid. By changing the `level` argument in the plotting functions one can get a better representation of the functions without changing the grid. Since the data was never interpolate onto a grid the full information of the original function is still available:"
   ]
  },
  {
   "cell_type": "code",
   "execution_count": null,
   "metadata": {
    "collapsed": false,
    "deletable": true,
    "editable": true
   },
   "outputs": [],
   "source": [
    "plot(gf_loc[0],level=3)\n",
    "# of coarse we could refine the grid and plot with the original level\n",
    "grid.hierarchicalGrid.globalRefine(4)\n",
    "plot(gf_loc[0],level=3)"
   ]
  },
  {
   "cell_type": "markdown",
   "metadata": {
    "deletable": true,
    "editable": true
   },
   "source": [
    "A few remarks: note that all grid functions return a vector - even scalar functions as the ones in the example. The dimension of the range of these functions is automatically deduced from its return value. \n",
    "\n",
    "The constructor arguments for grid functions are always similar: in addition to the grid, a name is used (mostly for visualization purposes), a polynomial order is used (for detecting quadrature orders in numerical schemes); the last argument the the expression defining the actual function.\n",
    "\n",
    "Finaly, since evaluating these functions requires a callback from C++ to python and no *just in time* compilation is used, this approach can be quite slow compared to some of the others described in the following."
   ]
  },
  {
   "cell_type": "code",
   "execution_count": null,
   "metadata": {
    "collapsed": false,
    "deletable": true,
    "editable": true,
    "scrolled": false
   },
   "outputs": [],
   "source": [
    "uflSpace = dune.ufl.Space(grid, 2, field=\"double\")\n",
    "x = ufl.SpatialCoordinate(ufl.triangle)\n",
    "const = ufl.Constant(ufl.triangle)\n",
    "c = ufl.cos(const*x[1])\n",
    "s = ufl.sin(x[0])\n",
    "expr = ufl.as_vector([ s*c ])\n",
    "funcUFL = create.function(\"ufl\", grid, \"ufl\", 1, expr)\n",
    "funcUFL.setConstant(const, [10])\n",
    "# in the case of a scalar function the actual values are plotted \n",
    "# and not the absolute values are for dimRange > 1\n",
    "plot(funcUFL)\n",
    "\n",
    "scalarUFLSpace = dune.ufl.Space(grid,1)\n",
    "coeff = ufl.Coefficient(scalarUFLSpace)\n",
    "coeffFunc = create.function(\"global\", grid, \"global_velocity\", 0, lambda x: [2])\n",
    "expr = ufl.as_vector([ s*s*coeff[0] ])\n",
    "funcUFL1 = create.function(\"ufl\", grid, \"ufl1\", 4, expr, \n",
    "#                           coefficients={coeff: funcUFL})\n",
    "                           coefficients={coeff: coeffFunc})\n",
    "plot(funcUFL1)\n",
    "# for e in grid.elements:\n",
    "#     print( funcUFL1.localFunction(e) )"
   ]
  },
  {
   "cell_type": "markdown",
   "metadata": {
    "deletable": true,
    "editable": true
   },
   "source": [
    "Finally the grid function can be described proving strings with valid C++ code "
   ]
  },
  {
   "cell_type": "code",
   "execution_count": null,
   "metadata": {
    "collapsed": false,
    "deletable": true,
    "editable": true
   },
   "outputs": [],
   "source": [
    "func1 = \"\"\"\n",
    "double s = sin(xGlobal[0]);\n",
    "double c = cos(@const:fac*xGlobal[1]);\n",
    "value[ 0 ] = s*s;\n",
    "value[ 1 ] = s*c;\n",
    "value[ 2 ] = c*c;\n",
    "\"\"\"\n",
    "func2 = \"\"\"\n",
    "double cx = cos(xGlobal[0])*@jac:test[0][0];\n",
    "double cy = cos(@const:fac*xGlobal[1]);\n",
    "double sx = sin(xGlobal[0]);\n",
    "double sy = sin(@const:fac*xGlobal[1]);\n",
    "value[ 0 ][ 0 ] = cx*sx*@gf:test[1];\n",
    "value[ 0 ][ 1 ] = 0;\n",
    "value[ 1 ][ 0 ] = cx*cy*@gf:test[0];\n",
    "value[ 1 ][ 1 ] = -@const:fac*sx*sy;\n",
    "value[ 2 ][ 0 ] = 0;\n",
    "value[ 2 ][ 1 ] = -2.*@const:fac*cy*sy;\n",
    "\"\"\"\n",
    "code = { 'eval': func1, 'jac': func2 }\n",
    "\n",
    "coeffFunc = create.function(\"global\", grid, \"global_velocity\", 1, lambda x: [1,2])\n",
    "func = create.function(\"cpp\", grid, \"code\", 3, code, coefficients={\"test\": coeffFunc} )\n",
    "func.setConstant(\"fac\", [10])\n",
    "# show all components but not the grid\n",
    "plotComponents(func,gridLines=\"\")"
   ]
  },
  {
   "cell_type": "markdown",
   "metadata": {
    "collapsed": false,
    "deletable": true,
    "editable": true
   },
   "source": [
    "Most of the methods available on the grid functions have been used above - mainly the `localfunction` method. There are a few more of interst are:"
   ]
  },
  {
   "cell_type": "code",
   "execution_count": null,
   "metadata": {
    "collapsed": false,
    "deletable": true,
    "editable": true
   },
   "outputs": [],
   "source": [
    "print(\"dimension of range: \",func.dimRange)\n",
    "print(\"underlying grid instance: \",func.grid)\n",
    "print(\"name: \",func.name)"
   ]
  },
  {
   "cell_type": "markdown",
   "metadata": {
    "deletable": true,
    "editable": true
   },
   "source": [
    "The following two methods can be used together with the `grid.triangulation( level )` method to obtain a simple numpy vector representation of the solution:"
   ]
  },
  {
   "cell_type": "code",
   "execution_count": null,
   "metadata": {
    "collapsed": false,
    "deletable": true,
    "editable": true
   },
   "outputs": [],
   "source": [
    "print(\"return array with values at cell centers: \", func.cellData(0))\n",
    "print(\"return array with values at nodes: \", func.pointData(0))"
   ]
  },
  {
   "cell_type": "markdown",
   "metadata": {
    "deletable": true,
    "editable": true
   },
   "source": [
    "The following method computes the integral of the function over the domain - a possible usage is to compute the approximation error of a function:"
   ]
  },
  {
   "cell_type": "code",
   "execution_count": null,
   "metadata": {
    "collapsed": false,
    "deletable": true,
    "editable": true
   },
   "outputs": [],
   "source": [
    "print(\"value of integral over whole domain: \", func.integrate())"
   ]
  },
  {
   "cell_type": "markdown",
   "metadata": {
    "deletable": true,
    "editable": true
   },
   "source": [
    "The above results in grid functions which are still identical to the global functions that they represent, i.e., no discretization is involved. The next examples use an underlying discrete function space and interpolates either global functions or grid functions into this space:"
   ]
  },
  {
   "cell_type": "code",
   "execution_count": null,
   "metadata": {
    "collapsed": false,
    "deletable": true,
    "editable": true
   },
   "outputs": [],
   "source": [
    "# first a constant function\n",
    "vector_space = create.space(\"lagrange\", grid, dimrange=grid.dimension, order=2)\n",
    "constant = vector_space.interpolate([1,1], name=\"constant\")\n",
    "uh = vector_space.interpolate(lambda x: [math.sin(x[0]*x[1]*math.pi),math.cos(x[0]*x[1]*math.pi)], name=\"xy\")\n",
    "plot(uh,vectors=[0,1],gridLines=\"\")\n",
    "scalar_space = create.space(\"lagrange\", grid, dimrange=1, order=2)\n",
    "vorticity = create.function(\"local\", grid, \"global_velocity\", 3, \n",
    "                       lambda en,x: [uh.localFunction(en).jacobian(x)[1][0]-uh.localFunction(en).jacobian(x)[0][0]])\n",
    "vorticity_h = scalar_space.interpolate(vorticity, name=\"fh\")               \n",
    "plot(vorticity_h)"
   ]
  },
  {
   "cell_type": "markdown",
   "metadata": {
    "deletable": true,
    "editable": true
   },
   "source": [
    "Note the difference between the grid function `vorticity` and `vorticity_h` - the second being an interpolation of the former into the discrete function space.\n",
    "\n",
    "While discrete functions are grid functions and have the same attributes, they have a few additional methods"
   ]
  },
  {
   "cell_type": "code",
   "execution_count": null,
   "metadata": {
    "collapsed": false,
    "deletable": true,
    "editable": true
   },
   "outputs": [],
   "source": [
    "print(\"number of dofs: \", vorticity_h.size)\n",
    "print(\"the underlying space: \", vorticity_h.space)\n",
    "# we can construct a new discrete function of the same type and the same values\n",
    "copy = vorticity_h.copy()\n",
    "# set all value to zero\n",
    "copy.clear()\n",
    "# assign all dofs to be identical to another discrete function over the same space\n",
    "copy.assign(vorticity_h)\n",
    "# store the interpolation of some (grid) function  \n",
    "copy.interpolate(vorticity_h)  # the oritignal discrete vorticity\n",
    "copy.interpolate(vorticity)    # does the same by interpolating the original grid function\n",
    "copy.interpolate([1])          # copy(x) = 1\n",
    "copy.interpolate(lambda x: [x[0]*x[1]] )     # interpolation of a global function\n",
    "copy.interpolate(lambda en,x: [en.geometry.center.two_norm] ) # interpolation of a elementwise function\n",
    "plot(copy)"
   ]
  },
  {
   "cell_type": "markdown",
   "metadata": {
    "deletable": true,
    "editable": true
   },
   "source": [
    "Note that in the last case a piecewise constant function is interpolated onto the continuous first order lagrange space.\n",
    "\n",
    "Underlying any discrete function is a vector containing the degrees of freedom. This can also retrieved using the `dofVector` property on the discrete function. In general this will not be of much help since there are no access methods provided at the moment. \n",
    "\n",
    "Accessing the dof vector becomes useful when the `eigen` backend is used for storing the dofs. In this case the\n",
    "python buffer protocol is used to convert the dof vector into an `numpy` array without requiring any copy.\n",
    "This requires having the [Eigen package][1].\n",
    "\n",
    "[1]: http://eigen.tuxfamily.org/index.php?title=Main_Page"
   ]
  },
  {
   "cell_type": "code",
   "execution_count": null,
   "metadata": {
    "collapsed": false,
    "deletable": true,
    "editable": true
   },
   "outputs": [],
   "source": [
    "import numpy as np\n",
    "spc = create.space(\"lagrange\", grid, dimrange=1, order=1, storage='eigen')\n",
    "uh = spc.interpolate(vorticity_h)\n",
    "plot(uh)\n",
    "uh_dofs = uh.as_numpy # equivalent to np.array( uh.dofVector, copy=False )\n",
    "uh_dofs *= -2\n",
    "plot(uh)"
   ]
  },
  {
   "cell_type": "markdown",
   "metadata": {
    "deletable": true,
    "editable": true
   },
   "source": [
    "We can also use an existing `numpy` array as basis of a discrete function (over space with `eigen` backend) - this makes it easy to use for example `scipy` solvers directly:"
   ]
  },
  {
   "cell_type": "code",
   "execution_count": null,
   "metadata": {
    "collapsed": false,
    "deletable": true,
    "editable": true
   },
   "outputs": [],
   "source": [
    "# a simple function to check the address of the memory block of a numpy array\n",
    "def id(x):\n",
    "    return x.__array_interface__['data'][0]\n",
    "\n",
    "# set up a numpy vector with random entries\n",
    "dofs = np.random.random(spc.size)\n",
    "print(\"id of numpy array: \", id(dofs))\n",
    "# reinterpret the numpy vector as a discrete function\n",
    "xh = spc.numpyFunction(dofs,\"name\")\n",
    "# get the dof vector as numpy array\n",
    "xh_dofs = xh.as_numpy\n",
    "print(\"id of dof vector: \", id(xh_dofs))\n",
    "\n",
    "# plot the random values\n",
    "plot(xh)\n",
    "# set the dof ventries unsing the discrete vorticity\n",
    "xh.interpolate(vorticity_h)\n",
    "plot(xh)\n",
    "# reset all entries in the dof vector to random values\n",
    "dofs[:] = np.random.random(spc.size)\n",
    "plot(xh) # constructor of numpy array called here, why?\n",
    "# now do the same using the extracted numpy array\n",
    "xh_dofs[:] = np.random.random(spc.size)\n",
    "plot(xh)"
   ]
  }
 ],
 "metadata": {},
 "nbformat": 4,
 "nbformat_minor": 1
}
