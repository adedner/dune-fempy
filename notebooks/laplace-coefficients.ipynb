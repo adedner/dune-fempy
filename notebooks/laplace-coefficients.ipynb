{
 "cells": [
  {
   "cell_type": "markdown",
   "metadata": {},
   "source": [
    "# Heat Equation - adding coefficient and constants to the model [(Notebook)][1]\n",
    "\n",
    "[1]: _downloads/laplace-coefficients.ipynb\n"
   ]
  },
  {
   "cell_type": "code",
   "execution_count": null,
   "metadata": {},
   "outputs": [],
   "source": [
    "from __future__ import print_function\n",
    "try:\n",
    "    %matplotlib inline # can also use notebook or nbagg\n",
    "except:\n",
    "    pass\n",
    "\n",
    "import math\n",
    "from ufl import *\n",
    "from dune.ufl import NamedConstant\n",
    "\n",
    "from dune.grid import cartesianDomain\n",
    "\n",
    "import dune.create as create\n",
    "import dune.fem\n",
    "from dune.fem.plotting import plotPointData as plot\n",
    "\n",
    "dune.fem.parameter.append({\"fem.verboserank\": 0,\n",
    "                           \"istl.preconditioning.method\": \"ilu\",\n",
    "                           \"istl.preconditioning.iterations\": 1,\n",
    "                           \"istl.preconditioning.relaxation\": 1.2})"
   ]
  },
  {
   "cell_type": "code",
   "execution_count": null,
   "metadata": {},
   "outputs": [],
   "source": [
    "# Crank Nicholson\n",
    "theta = 0.5\n",
    "\n",
    "# set up a 2d simplex grid over the interval [0,1]^2 with h = 1/16\n",
    "grid = create.grid(\"ALUConform\", cartesianDomain([0,0],[1,1],[16,16]), dimgrid=2)\n",
    "# set up a lagrange scalar space with polynomial order 2 over that grid\n",
    "spc = create.space(\"lagrange\", grid, dimrange=1, order=2, storage=\"istl\")\n",
    "\n",
    "# set up initial conditions\n",
    "solution = spc.interpolate(lambda x: [math.atan((10.0 * x[0] * (1-x[0]) * x[1] * (1-x[1]))**2)], name=\"u\")\n",
    "plot(solution)"
   ]
  },
  {
   "cell_type": "code",
   "execution_count": null,
   "metadata": {},
   "outputs": [],
   "source": [
    "# get a discrete function to hold the old solution and tell the model to use that for the coefficient u_n\n",
    "old_solution = solution.copy();\n",
    "\n",
    "# now define the actual pde to solve:\n",
    "#            u - u_n deltaT laplace( theta u + (1-theta) u_n ) = 0\n",
    "u = TrialFunction(spc)\n",
    "v = TestFunction(spc)\n",
    "tau = NamedConstant(spc,name=\"tau\")\n",
    "a = (inner(u - old_solution, v) +\\\n",
    "    tau * inner(grad(theta*u + (1-theta)*old_solution), grad(v)) ) * dx\n",
    "\n",
    "# now generate the model code and compile\n",
    "model = create.model(\"integrands\", grid, a == 0)\n",
    "\n",
    "# setup structure for olver parameters\n",
    "solverParameter={\"fem.solver.newton.linabstol\": 1e-13,\n",
    "                 \"fem.solver.newton.linreduction\": 1e-13,\n",
    "                 \"fem.solver.newton.tolerance\": 1e-12,\n",
    "                 \"fem.solver.newton.verbose\": \"true\",\n",
    "                 \"fem.solver.newton.linear.verbose\": \"false\"}\n",
    "# create the solver using a standard fem scheme\n",
    "scheme = create.scheme(\"galerkin\", model, spc, parameters=solverParameter)"
   ]
  },
  {
   "cell_type": "code",
   "execution_count": null,
   "metadata": {
    "scrolled": false
   },
   "outputs": [],
   "source": [
    "endTime = 0.4\n",
    "deltaT = 0.01\n",
    "model.tau = deltaT\n",
    "\n",
    "# now loop through time and output the solution after each time step\n",
    "steps = int(endTime / deltaT)\n",
    "for n in range(1,steps+1):\n",
    "    old_solution.assign(solution)\n",
    "    scheme.solve(target=solution)\n",
    "    if n % 4 == 3:\n",
    "        plot(solution)\n",
    "    # grid.writeVTK(\"heat\", pointdata=[solution], number=n)"
   ]
  }
 ],
 "metadata": {},
 "nbformat": 4,
 "nbformat_minor": 1
}
