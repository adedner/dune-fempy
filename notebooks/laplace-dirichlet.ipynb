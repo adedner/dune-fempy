{
 "cells": [
  {
   "cell_type": "markdown",
   "metadata": {
    "deletable": true,
    "editable": true
   },
   "source": [
    "# Dirichlet Boundary Conditions [(Notebook)][1]\n",
    "\n",
    "[1]: _downloads/laplace-dirichlet.ipynb\n",
    "\n",
    "__Still need to be able to set individual boundary ids....__\n",
    "\n",
    "Consider a simple elliptic problem with Dirichlet and Neuman boundary conditions\n",
    "\\begin{align*}\n",
    "  -\\Delta u &= f && \\text{in } \\Omega \\\\\n",
    "          u &= g && \\text{on } \\Gamma_D \\\\\n",
    "           -\\nabla u\\cdot n + \\alpha u &= r && \\text{on } \\Gamma_R\n",
    "\\end{align*}\n",
    "Note that $\\alpha$ can be zero so that this includes non zero Neuman boundary conditions.\n",
    "\n",
    "`dune-fempy` uses integer boundary identifies to distinguish between different parts of the boundary. These are set during grid construction on the coarse grid boundaries:"
   ]
  },
  {
   "cell_type": "code",
   "execution_count": null,
   "metadata": {
    "collapsed": false,
    "deletable": true,
    "editable": true
   },
   "outputs": [],
   "source": [
    "from __future__ import print_function, division\n",
    "\n",
    "try:\n",
    "    %matplotlib inline # can also use notebook or nbagg\n",
    "except:\n",
    "    pass\n",
    "\n",
    "import math\n",
    "import numpy\n",
    "\n",
    "from ufl import *\n",
    "\n",
    "from dune.grid import cartesianDomain\n",
    "from dune.fem import parameter\n",
    "from dune.fem.plotting import plotPointData as plot\n",
    "from dune.ufl import Space, DirichletBC\n",
    "\n",
    "import dune.create as create\n",
    "\n",
    "parameter.append({\"fem.verboserank\": 0, \"istl.preconditioning.method\": \"ilu-0\", \"istl.preconditioning.iterations\": 1, \"istl.preconditioning.relaxation\": 1.2})"
   ]
  },
  {
   "cell_type": "code",
   "execution_count": null,
   "metadata": {
    "collapsed": false,
    "deletable": true,
    "editable": true
   },
   "outputs": [],
   "source": [
    "vertices = numpy.array([(0,0), (1,0), (1,1), (0,1), (-1,1), (-1,0), (-1,-1), (0,-1)])\n",
    "triangles = numpy.array([(0,1,2), (0,2,3), (0,3,4), (0,4,5), (0,5,6), (0,6,7)])\n",
    "\n",
    "grid = create.grid(\"ALUConform\", {\"vertices\": vertices, \"simplices\": triangles}, dimgrid=2)\n",
    "grid.hierarchicalGrid.globalRefine(4)"
   ]
  },
  {
   "cell_type": "code",
   "execution_count": null,
   "metadata": {
    "collapsed": false,
    "deletable": true,
    "editable": true
   },
   "outputs": [],
   "source": [
    "spc = create.space(\"Lagrange\", grid, dimrange=1, order=1, storage=\"istl\")\n",
    "\n",
    "uflSpace = Space(spc)\n",
    "u = TrialFunction(uflSpace)\n",
    "v = TestFunction(uflSpace)\n",
    "x = SpatialCoordinate(uflSpace.cell())\n",
    "\n",
    "phi = atan_2(x[1], x[0]) + conditional(x[1] < 0, 2*math.pi, 0)\n",
    "exact = as_vector([inner(x,x)**(0.5*180/270) * sin((180/270) * phi)])\n",
    "a = inner(grad(u), grad(v))*dx"
   ]
  },
  {
   "cell_type": "code",
   "execution_count": null,
   "metadata": {
    "collapsed": false,
    "deletable": true,
    "editable": true
   },
   "outputs": [],
   "source": [
    "newtonParameter = {\"linabstol\": 1e-13, \"linreduction\": 1e-13, \"tolerance\": 1e-12, \"verbose\": \"true\", \"linear.verbose\": \"false\"}\n",
    "scheme = create.scheme(\"h1\", spc, [a==0,DirichletBC(uflSpace,exact,1)],\n",
    "                parameters={\"fem.solver.newton.\" + k: v for k, v in newtonParameter.items()})\n",
    "\n",
    "solution, _ = scheme.solve()\n",
    "plot(solution)"
   ]
  }
 ],
 "metadata": {},
 "nbformat": 4,
 "nbformat_minor": 1
}
