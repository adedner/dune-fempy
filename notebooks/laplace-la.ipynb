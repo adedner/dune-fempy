{
 "cells": [
  {
   "cell_type": "markdown",
   "metadata": {
    "deletable": true,
    "editable": true
   },
   "source": [
    "# Different storage backends - using numpy/scipy [(Notebook)][1]\n",
    "\n",
    "[1]: _downloads/laplace-la.ipynb\n",
    "\n",
    "For the first example we used solvers available in dune-fem - simple Krylov solvers with only diagonal preconditioning. Changing the `storage` argument in the construction of the space makes it possible to use more sophisticated solvers (either better preconditioners or direct solvers). For example\n",
    "~~~\n",
    "spc = create.space(\"Lagrange\", grid, dimrange=1, order=1, storage=\"istl\")\n",
    "~~~\n",
    "in the above code will switch to the solvers from `dune-istl`, other options are for example `eigen` or `petsc`.\n",
    "\n",
    "It is also possible to store the degrees of freedom in such a way that they can be treated as `numpy` vectors and an assembled system matrix can be stored in a `sympy` sparse matrix.\n",
    "\n",
    "__Note__: at the moment we can only export `Eigen` matrices to python so to get the following example to run, the `Eigen` package must be available and `dune-py` must have been configured with `Eigen`.\n",
    "\n",
    "Since we will be implementing a Newton solver first, let's study a truelly non linear problem - a version of the p-Laplace problem:\n",
    "\\begin{gather}\n",
    "  - \\frac{d}{2}\\nabla\\cdot |\\nabla u|^{p-2}\\nabla u + u = f\n",
    "\\end{gather}"
   ]
  },
  {
   "cell_type": "code",
   "execution_count": null,
   "metadata": {
    "collapsed": false,
    "deletable": true,
    "editable": true
   },
   "outputs": [],
   "source": [
    "try:\n",
    "    %matplotlib inline # can also use notebook or nbagg\n",
    "except:\n",
    "    pass\n",
    "from dune.generator import builder\n",
    "import math\n",
    "import numpy as np\n",
    "import scipy.sparse.linalg\n",
    "import scipy.optimize     \n",
    "import dune.grid\n",
    "import dune.fem\n",
    "from dune.fem.plotting import plotPointData as plot\n",
    "import dune.create as create\n",
    "\n",
    "from dune.ufl import Space\n",
    "from ufl import TestFunction, TrialFunction, SpatialCoordinate, ds, dx, inner, grad\n",
    "\n",
    "grid = create.grid(\"ALUConform\", dune.grid.cartesianDomain([0, 0], [1, 1], [8, 8]), dimgrid=2)\n",
    "\n",
    "try:\n",
    "    spc = create.space(\"Lagrange\", grid, dimrange=1, order=1, storage='eigen')\n",
    "except builder.ConfigurationError:\n",
    "    exit(1)\n",
    "\n",
    "d = 0.001\n",
    "p = 1.7\n",
    "\n",
    "uflSpace = Space(spc)\n",
    "u = TrialFunction(uflSpace)\n",
    "v = TestFunction(uflSpace)\n",
    "x = SpatialCoordinate(uflSpace.cell())\n",
    "\n",
    "rhs = (x[0] + x[1]) * v[0]\n",
    "a = (pow(d + inner(grad(u), grad(u)), (p-2)/2)*inner(grad(u), grad(v)) + inner(u, v)) * dx + 10*inner(u, v) * ds\n",
    "b = rhs * dx + 10*rhs * ds\n",
    "model = create.model(\"elliptic\", grid, a==b)\n",
    "    \n",
    "scheme = create.scheme(\"h1\", spc, model,\\\n",
    "       parameters=\\\n",
    "       {\"fem.solver.newton.linabstol\": 1e-10,\n",
    "        \"fem.solver.newton.linreduction\": 1e-10,\n",
    "        \"fem.solver.newton.verbose\": 1,\n",
    "        \"fem.solver.newton.linear.verbose\": 0})\n",
    "# create a discrete solution over this space - will be initialized with zero by default\n",
    "\n",
    "uh = create.function(\"discrete\", spc, name=\"solution\")"
   ]
  },
  {
   "cell_type": "markdown",
   "metadata": {
    "deletable": true,
    "editable": true
   },
   "source": [
    "In the following we implement a simple Newton solver: given an initial guess $u^0$ (here taken to be zero) solve for $n\\geq 0$:\n",
    "\\begin{align*}\n",
    "   u^{n+1} = u^n - DS(u^n)(S(u^n)-g)\n",
    "\\end{align*}\n",
    "Where $g$ is a discrete function containing the boundary values in the Dirichlet nodes and zero otherwise.\n",
    "\n",
    "Let's first use the solve method on the scheme directly:"
   ]
  },
  {
   "cell_type": "code",
   "execution_count": null,
   "metadata": {
    "collapsed": false,
    "deletable": true,
    "editable": true
   },
   "outputs": [],
   "source": [
    "uh,info = scheme.solve(target = uh)\n",
    "print(\"size:\", grid.size(0), \"newton iterations:\", int(info['iterations']))\n",
    "plot(uh)"
   ]
  },
  {
   "cell_type": "markdown",
   "metadata": {
    "deletable": true,
    "editable": true
   },
   "source": [
    "Instead of `scheme.solve` we now use the call operator on the `scheme` (to compute $S(u^n$) as  well as `scheme.assemble` to get a copy of the system matrix in form of a scipy sparse row matrix. Note that this method is only available if the `storage` in the space is set `eigen`."
   ]
  },
  {
   "cell_type": "code",
   "execution_count": null,
   "metadata": {
    "collapsed": false,
    "deletable": true,
    "editable": true
   },
   "outputs": [],
   "source": [
    "# Let's first clear the solution again\n",
    "uh.clear()\n",
    "# Need to auxiliary function\n",
    "res = uh.copy() \n",
    "\n",
    "# Note: the following does not produce a copy of the dof\n",
    "# vectors, but keep in mind that\n",
    "# after grid adaptation the resulting numpy array\n",
    "# will be invalid since the shared dof vector will have moved\n",
    "# during its resizing - use copy=True to avoid this problem at\n",
    "# the cost of a copy\n",
    "sol_coeff = uh.array\n",
    "res_coeff = res.array\n",
    "n = 0\n",
    "\n",
    "while True:\n",
    "    scheme(uh, res)\n",
    "    absF = math.sqrt( np.dot(res_coeff,res_coeff) )\n",
    "    print(\"iterations (\"+str(n)+\")\",absF)\n",
    "    if absF < 1e-10:\n",
    "        break\n",
    "    matrix = scheme.assemble(uh)\n",
    "    sol_coeff -= scipy.sparse.linalg.spsolve(matrix, res_coeff)\n",
    "    n += 1\n",
    "\n",
    "plot(uh)"
   ]
  },
  {
   "cell_type": "markdown",
   "metadata": {
    "deletable": true,
    "editable": true
   },
   "source": [
    "We cam redo the above computation but now use the Newton solver available in sympy:"
   ]
  },
  {
   "cell_type": "code",
   "execution_count": null,
   "metadata": {
    "collapsed": false,
    "deletable": true,
    "editable": true,
    "scrolled": false
   },
   "outputs": [],
   "source": [
    "# let's first set the solution back to zero - since it already contains the right values\n",
    "uh.clear()\n",
    "def f(x_coeff):                     \n",
    "    x = spc.numpyFunction(x_coeff, \"tmp\")\n",
    "    scheme(x,res)         \n",
    "    return res_coeff\n",
    "# class for the derivative DS of S\n",
    "class Df(scipy.sparse.linalg.LinearOperator):\n",
    "    def __init__(self,x_coeff):\n",
    "        self.shape = (sol_coeff.shape[0],sol_coeff.shape[0])\n",
    "        self.dtype = sol_coeff.dtype\n",
    "        # the following converts a given numpy array\n",
    "        # into a discrete function over the given space\n",
    "        x = spc.numpyFunction(x_coeff, \"tmp\")\n",
    "        # store the assembled matrix\n",
    "        self.jac = scheme.assemble(x)\n",
    "    # reassemble the matrix DF(u) gmiven a dof vector for u\n",
    "    def update(self,x_coeff,f): \n",
    "        x = spc.numpyFunction(x_coeff, \"tmp\")\n",
    "        # Note: the following does produce a copy of the matrix\n",
    "        # and each call here will reproduce the full matrix\n",
    "        # structure - no reuse possible in this version\n",
    "        self.jac = scheme.assemble(x)\n",
    "    # compute DS(u)^{-1}x for a given dof vector x\n",
    "    def _matvec(self,x_coeff):\n",
    "        return scipy.sparse.linalg.spsolve(self.jac, x_coeff)\n",
    "\n",
    "# call the newton krylov solver from scipy\n",
    "sol_coeff[:] = scipy.optimize.newton_krylov(f, sol_coeff,\n",
    "            verbose=1, f_tol=1e-8,\n",
    "            inner_M=Df(sol_coeff))\n",
    "\n",
    "plot(uh)"
   ]
  }
 ],
 "metadata": {},
 "nbformat": 4,
 "nbformat_minor": 0
}
